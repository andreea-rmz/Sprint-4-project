{
 "cells": [
  {
   "cell_type": "markdown",
   "id": "105985e2",
   "metadata": {},
   "source": [
    "\n",
    "¡Hola, Andrea!\n",
    "\n",
    "Mi nombre es Tonatiuh Cruz. Me complace revisar tu proyecto hoy.\n",
    "\n",
    "Al identificar cualquier error inicialmente, simplemente los destacaré. Te animo a localizar y abordar los problemas de forma independiente como parte de tu preparación para un rol como data-analyst. En un entorno profesional, tu líder de equipo seguiría un enfoque similar. Si encuentras la tarea desafiante, proporcionaré una pista más específica en la próxima iteración.\n",
    "\n",
    "Encontrarás mis comentarios a continuación - **por favor no los muevas, modifiques o elimines**.\n",
    "\n",
    "Puedes encontrar mis comentarios en cajas verdes, amarillas o rojas como esta:\n",
    "\n",
    "<div class=\"alert alert-block alert-success\">\n",
    "<b>Comentario del revisor</b> <a class=\"tocSkip\"></a>\n",
    "\n",
    "Éxito. Todo está hecho correctamente.\n",
    "</div>\n",
    "\n",
    "<div class=\"alert alert-block alert-warning\">\n",
    "<b>Comentario del revisor</b> <a class=\"tocSkip\"></a>\n",
    "\n",
    "Observaciones. Algunas recomendaciones.\n",
    "</div>\n",
    "\n",
    "<div class=\"alert alert-block alert-danger\">\n",
    "<b>Comentario del revisor</b> <a class=\"tocSkip\"></a>\n",
    "\n",
    "Necesita corrección. El bloque requiere algunas correcciones. El trabajo no puede ser aceptado con comentarios en rojo.\n",
    "</div>\n",
    "\n",
    "Puedes responderme utilizando esto:\n",
    "\n",
    "<div class=\"alert alert-block alert-info\">\n",
    "<b>Respuesta del estudiante.</b> <a class=\"tocSkip\"></a>\n",
    "</div>"
   ]
  },
  {
   "cell_type": "markdown",
   "id": "7777b46e",
   "metadata": {},
   "source": [
    "<div class=\"alert alert-block alert-success\">\n",
    "<b>Resumen de la revisión 1</b> <a class=\"tocSkip\"></a>\n",
    "\n",
    "Hola, Andrea! Has hecho un excelente trabajo al realizar el proyecto, cargaste correctamente la información y la limpieza de esta información. Además, desarrollaste perfectamente el desarrollo del análisis con gráficas e interpretación. Solamente te dejo algunos comentarios para terminar de complementar el análisis. \n",
    "\n",
    "Sigue con el excelente trabajo!\n",
    "</div>"
   ]
  },
  {
   "cell_type": "markdown",
   "id": "e8acf67f",
   "metadata": {},
   "source": [
    "<div class=\"alert alert-block alert-success\">\n",
    "<b>Resumen de la revisión 2</b> <a class=\"tocSkip\"></a>\n",
    "\n",
    "Hola, Andrea! Has hecho un excelente trabajo con los ajustes.  \n",
    "\n",
    "Sigue con el excelente trabajo!\n",
    "</div>"
   ]
  },
  {
   "cell_type": "markdown",
   "id": "3Xg_RQfnafXz",
   "metadata": {
    "id": "3Xg_RQfnafXz"
   },
   "source": [
    "# ¡Llena ese carrito!"
   ]
  },
  {
   "cell_type": "markdown",
   "id": "mhIvmmkW414q",
   "metadata": {
    "id": "mhIvmmkW414q"
   },
   "source": [
    "# Introducción\n",
    "\n",
    "Instacart es una plataforma de entregas de comestibles donde la clientela puede registrar un pedido y hacer que se lo entreguen, similar a Uber Eats y Door Dash.\n",
    "El conjunto de datos que te hemos proporcionado tiene modificaciones del original. Redujimos el tamaño del conjunto para que tus cálculos se hicieran más rápido e introdujimos valores ausentes y duplicados. Tuvimos cuidado de conservar las distribuciones de los datos originales cuando hicimos los cambios.\n",
    "\n",
    "Debes completar tres pasos. Para cada uno de ellos, escribe una breve introducción que refleje con claridad cómo pretendes resolver cada paso, y escribe párrafos explicatorios que justifiquen tus decisiones al tiempo que avanzas en tu solución.  También escribe una conclusión que resuma tus hallazgos y elecciones.\n"
   ]
  },
  {
   "cell_type": "markdown",
   "id": "3MbyzpOQZ5Or",
   "metadata": {
    "id": "3MbyzpOQZ5Or"
   },
   "source": [
    "## Diccionario de datos\n",
    "\n",
    "Hay cinco tablas en el conjunto de datos, y tendrás que usarlas todas para hacer el preprocesamiento de datos y el análisis exploratorio de datos. A continuación se muestra un diccionario de datos que enumera las columnas de cada tabla y describe los datos que contienen.\n",
    "\n",
    "- `instacart_orders.csv`: cada fila corresponde a un pedido en la aplicación Instacart.\n",
    "    - `'order_id'`: número de ID que identifica de manera única cada pedido.\n",
    "    - `'user_id'`: número de ID que identifica de manera única la cuenta de cada cliente.\n",
    "    - `'order_number'`: el número de veces que este cliente ha hecho un pedido.\n",
    "    - `'order_dow'`: día de la semana en que se hizo el pedido (0 si es domingo).\n",
    "    - `'order_hour_of_day'`: hora del día en que se hizo el pedido.\n",
    "    - `'days_since_prior_order'`: número de días transcurridos desde que este cliente hizo su pedido anterior.\n",
    "- `products.csv`: cada fila corresponde a un producto único que pueden comprar los clientes.\n",
    "    - `'product_id'`: número ID que identifica de manera única cada producto.\n",
    "    - `'product_name'`: nombre del producto.\n",
    "    - `'aisle_id'`: número ID que identifica de manera única cada categoría de pasillo de víveres.\n",
    "    - `'department_id'`: número ID que identifica de manera única cada departamento de víveres.\n",
    "- `order_products.csv`: cada fila corresponde a un artículo pedido en un pedido.\n",
    "    - `'order_id'`: número de ID que identifica de manera única cada pedido.\n",
    "    - `'product_id'`: número ID que identifica de manera única cada producto.\n",
    "    - `'add_to_cart_order'`: el orden secuencial en el que se añadió cada artículo en el carrito.\n",
    "    - `'reordered'`: 0 si el cliente nunca ha pedido este producto antes, 1 si lo ha pedido.\n",
    "- `aisles.csv`\n",
    "    - `'aisle_id'`: número ID que identifica de manera única cada categoría de pasillo de víveres.\n",
    "    - `'aisle'`: nombre del pasillo.\n",
    "- `departments.csv`\n",
    "    - `'department_id'`: número ID que identifica de manera única cada departamento de víveres.\n",
    "    - `'department'`: nombre del departamento."
   ]
  },
  {
   "cell_type": "markdown",
   "id": "4649b5d4",
   "metadata": {},
   "source": [
    "<div class=\"alert alert-block alert-success\">\n",
    "<b>Comentario del revisor</b> <a class=\"tocSkip\"></a>\n",
    "\n",
    "¡Hola! Excelente trabajo desarrollando la introducción y el diccionario de datos. Esto es crucial para cualquier proyecto, ya que establece una guía clara sobre los pasos a seguir. Tener estos elementos bien definidos desde el principio nos permite trabajar de manera más organizada y eficiente. En un futuro lo podrías complementar con una tabla de contenido.\n",
    "</div>"
   ]
  },
  {
   "cell_type": "markdown",
   "id": "n3Ha_cNSZ8lK",
   "metadata": {
    "id": "n3Ha_cNSZ8lK"
   },
   "source": [
    "# Paso 1. Descripción de los datos\n",
    "\n",
    "Lee los archivos de datos (`/datasets/instacart_orders.csv`, `/datasets/products.csv`, `/datasets/aisles.csv`, `/datasets/departments.csv` y `/datasets/order_products.csv`) con `pd.read_csv()` usando los parámetros adecuados para leer los datos correctamente. Verifica la información para cada DataFrame creado.\n"
   ]
  },
  {
   "cell_type": "markdown",
   "id": "OmlQPLlyaAfR",
   "metadata": {
    "id": "OmlQPLlyaAfR"
   },
   "source": [
    "## Plan de solución\n",
    "\n",
    "Escribe aquí tu plan de solución para el Paso 1. Descripción de los datos."
   ]
  },
  {
   "cell_type": "code",
   "execution_count": 1,
   "id": "fbf1adab",
   "metadata": {
    "id": "fbf1adab"
   },
   "outputs": [],
   "source": [
    "# importar librerías\n",
    "import pandas as pd\n",
    "import numpy as np"
   ]
  },
  {
   "cell_type": "code",
   "execution_count": 2,
   "id": "ad36396d",
   "metadata": {
    "id": "ad36396d"
   },
   "outputs": [],
   "source": [
    "# leer conjuntos de datos en los DataFrames\n",
    "df_instacart = pd.read_csv(\"/datasets/instacart_orders.csv\", sep=\";\")\n",
    "df_products = pd.read_csv(\"/datasets/products.csv\", sep=\";\")\n",
    "df_aisles = pd.read_csv(\"/datasets/aisles.csv\", sep=\";\")\n",
    "df_departments = pd.read_csv(\"/datasets/departments.csv\", sep=\";\")\n",
    "df_order_products = pd.read_csv(\"/datasets/order_products.csv\", sep=\";\")"
   ]
  },
  {
   "cell_type": "markdown",
   "id": "f03c99e5",
   "metadata": {},
   "source": [
    "<div class=\"alert alert-block alert-success\">\n",
    "<b>Comentario del revisor</b> <a class=\"tocSkip\"></a>\n",
    "\n",
    "Muy buen trabajo con la carga de la información"
   ]
  },
  {
   "cell_type": "code",
   "execution_count": 3,
   "id": "ad6a1efa",
   "metadata": {
    "id": "ad6a1efa"
   },
   "outputs": [
    {
     "name": "stdout",
     "output_type": "stream",
     "text": [
      "<class 'pandas.core.frame.DataFrame'>\n",
      "RangeIndex: 478967 entries, 0 to 478966\n",
      "Data columns (total 6 columns):\n",
      " #   Column                  Non-Null Count   Dtype  \n",
      "---  ------                  --------------   -----  \n",
      " 0   order_id                478967 non-null  int64  \n",
      " 1   user_id                 478967 non-null  int64  \n",
      " 2   order_number            478967 non-null  int64  \n",
      " 3   order_dow               478967 non-null  int64  \n",
      " 4   order_hour_of_day       478967 non-null  int64  \n",
      " 5   days_since_prior_order  450148 non-null  float64\n",
      "dtypes: float64(1), int64(5)\n",
      "memory usage: 21.9 MB\n"
     ]
    },
    {
     "data": {
      "text/html": [
       "<div>\n",
       "<style scoped>\n",
       "    .dataframe tbody tr th:only-of-type {\n",
       "        vertical-align: middle;\n",
       "    }\n",
       "\n",
       "    .dataframe tbody tr th {\n",
       "        vertical-align: top;\n",
       "    }\n",
       "\n",
       "    .dataframe thead th {\n",
       "        text-align: right;\n",
       "    }\n",
       "</style>\n",
       "<table border=\"1\" class=\"dataframe\">\n",
       "  <thead>\n",
       "    <tr style=\"text-align: right;\">\n",
       "      <th></th>\n",
       "      <th>order_id</th>\n",
       "      <th>user_id</th>\n",
       "      <th>order_number</th>\n",
       "      <th>order_dow</th>\n",
       "      <th>order_hour_of_day</th>\n",
       "      <th>days_since_prior_order</th>\n",
       "    </tr>\n",
       "  </thead>\n",
       "  <tbody>\n",
       "    <tr>\n",
       "      <th>0</th>\n",
       "      <td>1515936</td>\n",
       "      <td>183418</td>\n",
       "      <td>11</td>\n",
       "      <td>6</td>\n",
       "      <td>13</td>\n",
       "      <td>30.0</td>\n",
       "    </tr>\n",
       "    <tr>\n",
       "      <th>1</th>\n",
       "      <td>1690866</td>\n",
       "      <td>163593</td>\n",
       "      <td>5</td>\n",
       "      <td>5</td>\n",
       "      <td>12</td>\n",
       "      <td>9.0</td>\n",
       "    </tr>\n",
       "    <tr>\n",
       "      <th>2</th>\n",
       "      <td>1454967</td>\n",
       "      <td>39980</td>\n",
       "      <td>4</td>\n",
       "      <td>5</td>\n",
       "      <td>19</td>\n",
       "      <td>2.0</td>\n",
       "    </tr>\n",
       "    <tr>\n",
       "      <th>3</th>\n",
       "      <td>1768857</td>\n",
       "      <td>82516</td>\n",
       "      <td>56</td>\n",
       "      <td>0</td>\n",
       "      <td>20</td>\n",
       "      <td>10.0</td>\n",
       "    </tr>\n",
       "    <tr>\n",
       "      <th>4</th>\n",
       "      <td>3007858</td>\n",
       "      <td>196724</td>\n",
       "      <td>2</td>\n",
       "      <td>4</td>\n",
       "      <td>12</td>\n",
       "      <td>17.0</td>\n",
       "    </tr>\n",
       "  </tbody>\n",
       "</table>\n",
       "</div>"
      ],
      "text/plain": [
       "   order_id  user_id  order_number  order_dow  order_hour_of_day  \\\n",
       "0   1515936   183418            11          6                 13   \n",
       "1   1690866   163593             5          5                 12   \n",
       "2   1454967    39980             4          5                 19   \n",
       "3   1768857    82516            56          0                 20   \n",
       "4   3007858   196724             2          4                 12   \n",
       "\n",
       "   days_since_prior_order  \n",
       "0                    30.0  \n",
       "1                     9.0  \n",
       "2                     2.0  \n",
       "3                    10.0  \n",
       "4                    17.0  "
      ]
     },
     "execution_count": 3,
     "metadata": {},
     "output_type": "execute_result"
    }
   ],
   "source": [
    "# mostrar información del DataFrame\n",
    "df_instacart.info()\n",
    "df_instacart.head()"
   ]
  },
  {
   "cell_type": "code",
   "execution_count": 4,
   "id": "5130e05e",
   "metadata": {
    "id": "5130e05e"
   },
   "outputs": [
    {
     "name": "stdout",
     "output_type": "stream",
     "text": [
      "<class 'pandas.core.frame.DataFrame'>\n",
      "RangeIndex: 49694 entries, 0 to 49693\n",
      "Data columns (total 4 columns):\n",
      " #   Column         Non-Null Count  Dtype \n",
      "---  ------         --------------  ----- \n",
      " 0   product_id     49694 non-null  int64 \n",
      " 1   product_name   48436 non-null  object\n",
      " 2   aisle_id       49694 non-null  int64 \n",
      " 3   department_id  49694 non-null  int64 \n",
      "dtypes: int64(3), object(1)\n",
      "memory usage: 1.5+ MB\n"
     ]
    },
    {
     "data": {
      "text/html": [
       "<div>\n",
       "<style scoped>\n",
       "    .dataframe tbody tr th:only-of-type {\n",
       "        vertical-align: middle;\n",
       "    }\n",
       "\n",
       "    .dataframe tbody tr th {\n",
       "        vertical-align: top;\n",
       "    }\n",
       "\n",
       "    .dataframe thead th {\n",
       "        text-align: right;\n",
       "    }\n",
       "</style>\n",
       "<table border=\"1\" class=\"dataframe\">\n",
       "  <thead>\n",
       "    <tr style=\"text-align: right;\">\n",
       "      <th></th>\n",
       "      <th>product_id</th>\n",
       "      <th>product_name</th>\n",
       "      <th>aisle_id</th>\n",
       "      <th>department_id</th>\n",
       "    </tr>\n",
       "  </thead>\n",
       "  <tbody>\n",
       "    <tr>\n",
       "      <th>0</th>\n",
       "      <td>1</td>\n",
       "      <td>Chocolate Sandwich Cookies</td>\n",
       "      <td>61</td>\n",
       "      <td>19</td>\n",
       "    </tr>\n",
       "    <tr>\n",
       "      <th>1</th>\n",
       "      <td>2</td>\n",
       "      <td>All-Seasons Salt</td>\n",
       "      <td>104</td>\n",
       "      <td>13</td>\n",
       "    </tr>\n",
       "    <tr>\n",
       "      <th>2</th>\n",
       "      <td>3</td>\n",
       "      <td>Robust Golden Unsweetened Oolong Tea</td>\n",
       "      <td>94</td>\n",
       "      <td>7</td>\n",
       "    </tr>\n",
       "    <tr>\n",
       "      <th>3</th>\n",
       "      <td>4</td>\n",
       "      <td>Smart Ones Classic Favorites Mini Rigatoni Wit...</td>\n",
       "      <td>38</td>\n",
       "      <td>1</td>\n",
       "    </tr>\n",
       "    <tr>\n",
       "      <th>4</th>\n",
       "      <td>5</td>\n",
       "      <td>Green Chile Anytime Sauce</td>\n",
       "      <td>5</td>\n",
       "      <td>13</td>\n",
       "    </tr>\n",
       "  </tbody>\n",
       "</table>\n",
       "</div>"
      ],
      "text/plain": [
       "   product_id                                       product_name  aisle_id  \\\n",
       "0           1                         Chocolate Sandwich Cookies        61   \n",
       "1           2                                   All-Seasons Salt       104   \n",
       "2           3               Robust Golden Unsweetened Oolong Tea        94   \n",
       "3           4  Smart Ones Classic Favorites Mini Rigatoni Wit...        38   \n",
       "4           5                          Green Chile Anytime Sauce         5   \n",
       "\n",
       "   department_id  \n",
       "0             19  \n",
       "1             13  \n",
       "2              7  \n",
       "3              1  \n",
       "4             13  "
      ]
     },
     "execution_count": 4,
     "metadata": {},
     "output_type": "execute_result"
    }
   ],
   "source": [
    "# mostrar información del DataFrame\n",
    "df_products.info()\n",
    "df_products.head()"
   ]
  },
  {
   "cell_type": "code",
   "execution_count": 5,
   "id": "d8370c05",
   "metadata": {
    "id": "d8370c05"
   },
   "outputs": [
    {
     "name": "stdout",
     "output_type": "stream",
     "text": [
      "<class 'pandas.core.frame.DataFrame'>\n",
      "RangeIndex: 134 entries, 0 to 133\n",
      "Data columns (total 2 columns):\n",
      " #   Column    Non-Null Count  Dtype \n",
      "---  ------    --------------  ----- \n",
      " 0   aisle_id  134 non-null    int64 \n",
      " 1   aisle     134 non-null    object\n",
      "dtypes: int64(1), object(1)\n",
      "memory usage: 2.2+ KB\n"
     ]
    },
    {
     "data": {
      "text/html": [
       "<div>\n",
       "<style scoped>\n",
       "    .dataframe tbody tr th:only-of-type {\n",
       "        vertical-align: middle;\n",
       "    }\n",
       "\n",
       "    .dataframe tbody tr th {\n",
       "        vertical-align: top;\n",
       "    }\n",
       "\n",
       "    .dataframe thead th {\n",
       "        text-align: right;\n",
       "    }\n",
       "</style>\n",
       "<table border=\"1\" class=\"dataframe\">\n",
       "  <thead>\n",
       "    <tr style=\"text-align: right;\">\n",
       "      <th></th>\n",
       "      <th>aisle_id</th>\n",
       "      <th>aisle</th>\n",
       "    </tr>\n",
       "  </thead>\n",
       "  <tbody>\n",
       "    <tr>\n",
       "      <th>0</th>\n",
       "      <td>1</td>\n",
       "      <td>prepared soups salads</td>\n",
       "    </tr>\n",
       "    <tr>\n",
       "      <th>1</th>\n",
       "      <td>2</td>\n",
       "      <td>specialty cheeses</td>\n",
       "    </tr>\n",
       "    <tr>\n",
       "      <th>2</th>\n",
       "      <td>3</td>\n",
       "      <td>energy granola bars</td>\n",
       "    </tr>\n",
       "    <tr>\n",
       "      <th>3</th>\n",
       "      <td>4</td>\n",
       "      <td>instant foods</td>\n",
       "    </tr>\n",
       "    <tr>\n",
       "      <th>4</th>\n",
       "      <td>5</td>\n",
       "      <td>marinades meat preparation</td>\n",
       "    </tr>\n",
       "  </tbody>\n",
       "</table>\n",
       "</div>"
      ],
      "text/plain": [
       "   aisle_id                       aisle\n",
       "0         1       prepared soups salads\n",
       "1         2           specialty cheeses\n",
       "2         3         energy granola bars\n",
       "3         4               instant foods\n",
       "4         5  marinades meat preparation"
      ]
     },
     "execution_count": 5,
     "metadata": {},
     "output_type": "execute_result"
    }
   ],
   "source": [
    "# mostrar información del DataFrame\n",
    "df_aisles.info()\n",
    "df_aisles.head()"
   ]
  },
  {
   "cell_type": "code",
   "execution_count": 6,
   "id": "59e2090f",
   "metadata": {
    "id": "59e2090f"
   },
   "outputs": [
    {
     "name": "stdout",
     "output_type": "stream",
     "text": [
      "<class 'pandas.core.frame.DataFrame'>\n",
      "RangeIndex: 21 entries, 0 to 20\n",
      "Data columns (total 2 columns):\n",
      " #   Column         Non-Null Count  Dtype \n",
      "---  ------         --------------  ----- \n",
      " 0   department_id  21 non-null     int64 \n",
      " 1   department     21 non-null     object\n",
      "dtypes: int64(1), object(1)\n",
      "memory usage: 464.0+ bytes\n"
     ]
    },
    {
     "data": {
      "text/html": [
       "<div>\n",
       "<style scoped>\n",
       "    .dataframe tbody tr th:only-of-type {\n",
       "        vertical-align: middle;\n",
       "    }\n",
       "\n",
       "    .dataframe tbody tr th {\n",
       "        vertical-align: top;\n",
       "    }\n",
       "\n",
       "    .dataframe thead th {\n",
       "        text-align: right;\n",
       "    }\n",
       "</style>\n",
       "<table border=\"1\" class=\"dataframe\">\n",
       "  <thead>\n",
       "    <tr style=\"text-align: right;\">\n",
       "      <th></th>\n",
       "      <th>department_id</th>\n",
       "      <th>department</th>\n",
       "    </tr>\n",
       "  </thead>\n",
       "  <tbody>\n",
       "    <tr>\n",
       "      <th>0</th>\n",
       "      <td>1</td>\n",
       "      <td>frozen</td>\n",
       "    </tr>\n",
       "    <tr>\n",
       "      <th>1</th>\n",
       "      <td>2</td>\n",
       "      <td>other</td>\n",
       "    </tr>\n",
       "    <tr>\n",
       "      <th>2</th>\n",
       "      <td>3</td>\n",
       "      <td>bakery</td>\n",
       "    </tr>\n",
       "    <tr>\n",
       "      <th>3</th>\n",
       "      <td>4</td>\n",
       "      <td>produce</td>\n",
       "    </tr>\n",
       "    <tr>\n",
       "      <th>4</th>\n",
       "      <td>5</td>\n",
       "      <td>alcohol</td>\n",
       "    </tr>\n",
       "  </tbody>\n",
       "</table>\n",
       "</div>"
      ],
      "text/plain": [
       "   department_id department\n",
       "0              1     frozen\n",
       "1              2      other\n",
       "2              3     bakery\n",
       "3              4    produce\n",
       "4              5    alcohol"
      ]
     },
     "execution_count": 6,
     "metadata": {},
     "output_type": "execute_result"
    }
   ],
   "source": [
    "# mostrar información del DataFrame\n",
    "df_departments.info()\n",
    "df_departments.head()"
   ]
  },
  {
   "cell_type": "code",
   "execution_count": 7,
   "id": "6fc81694",
   "metadata": {
    "id": "6fc81694"
   },
   "outputs": [
    {
     "name": "stdout",
     "output_type": "stream",
     "text": [
      "<class 'pandas.core.frame.DataFrame'>\n",
      "RangeIndex: 4545007 entries, 0 to 4545006\n",
      "Data columns (total 4 columns):\n",
      " #   Column             Dtype  \n",
      "---  ------             -----  \n",
      " 0   order_id           int64  \n",
      " 1   product_id         int64  \n",
      " 2   add_to_cart_order  float64\n",
      " 3   reordered          int64  \n",
      "dtypes: float64(1), int64(3)\n",
      "memory usage: 138.7 MB\n"
     ]
    },
    {
     "data": {
      "text/html": [
       "<div>\n",
       "<style scoped>\n",
       "    .dataframe tbody tr th:only-of-type {\n",
       "        vertical-align: middle;\n",
       "    }\n",
       "\n",
       "    .dataframe tbody tr th {\n",
       "        vertical-align: top;\n",
       "    }\n",
       "\n",
       "    .dataframe thead th {\n",
       "        text-align: right;\n",
       "    }\n",
       "</style>\n",
       "<table border=\"1\" class=\"dataframe\">\n",
       "  <thead>\n",
       "    <tr style=\"text-align: right;\">\n",
       "      <th></th>\n",
       "      <th>order_id</th>\n",
       "      <th>product_id</th>\n",
       "      <th>add_to_cart_order</th>\n",
       "      <th>reordered</th>\n",
       "    </tr>\n",
       "  </thead>\n",
       "  <tbody>\n",
       "    <tr>\n",
       "      <th>0</th>\n",
       "      <td>2141543</td>\n",
       "      <td>11440</td>\n",
       "      <td>17.0</td>\n",
       "      <td>0</td>\n",
       "    </tr>\n",
       "    <tr>\n",
       "      <th>1</th>\n",
       "      <td>567889</td>\n",
       "      <td>1560</td>\n",
       "      <td>1.0</td>\n",
       "      <td>1</td>\n",
       "    </tr>\n",
       "    <tr>\n",
       "      <th>2</th>\n",
       "      <td>2261212</td>\n",
       "      <td>26683</td>\n",
       "      <td>1.0</td>\n",
       "      <td>1</td>\n",
       "    </tr>\n",
       "    <tr>\n",
       "      <th>3</th>\n",
       "      <td>491251</td>\n",
       "      <td>8670</td>\n",
       "      <td>35.0</td>\n",
       "      <td>1</td>\n",
       "    </tr>\n",
       "    <tr>\n",
       "      <th>4</th>\n",
       "      <td>2571142</td>\n",
       "      <td>1940</td>\n",
       "      <td>5.0</td>\n",
       "      <td>1</td>\n",
       "    </tr>\n",
       "  </tbody>\n",
       "</table>\n",
       "</div>"
      ],
      "text/plain": [
       "   order_id  product_id  add_to_cart_order  reordered\n",
       "0   2141543       11440               17.0          0\n",
       "1    567889        1560                1.0          1\n",
       "2   2261212       26683                1.0          1\n",
       "3    491251        8670               35.0          1\n",
       "4   2571142        1940                5.0          1"
      ]
     },
     "execution_count": 7,
     "metadata": {},
     "output_type": "execute_result"
    }
   ],
   "source": [
    "# mostrar información del DataFrame\n",
    "df_order_products.info()\n",
    "df_order_products.head()"
   ]
  },
  {
   "cell_type": "markdown",
   "id": "359fefae",
   "metadata": {},
   "source": [
    "<div class=\"alert alert-block alert-success\">\n",
    "<b>Comentario del revisor</b> <a class=\"tocSkip\"></a>\n",
    "\n",
    "Andrea, excelente trabajo con el uso de info() para mostrar la información general de las bases con las que vamos a trabajar"
   ]
  },
  {
   "cell_type": "markdown",
   "id": "t75BD19oaR5f",
   "metadata": {
    "id": "t75BD19oaR5f"
   },
   "source": [
    "## Conclusiones\n",
    "\n",
    "Escribe aquí tus conclusiones intermedias sobre el Paso 1. Descripción de los datos.\n",
    "\n",
    "Podemos observar que los data sets necesitan ser \"limpiados\" ya que por el método .info() vemos que las columnas no están delimitadas correctamente, por lo que únicamente vemos 1 columna en todos los data sets. Además, hay algunos valores cuyos tipos de dato deben ser transformatos, por ejemplo, de float a int. También sería conveniente asegurarnos de que todos los valores así como nombres de columnas estén en minusculas para poder contar valores únicos. Sabemos que en los data sets existen valores ausentes y valores duplicados, así que estos también hay que tratarlos. Los valores ausentes pueden ser exluidos o bien rellenados con valores representativos como la media o mediana. Por su parte, los duplicados deben ser eliminados del data set.\n"
   ]
  },
  {
   "cell_type": "markdown",
   "id": "8RJHqxVmaVsF",
   "metadata": {
    "id": "8RJHqxVmaVsF"
   },
   "source": [
    "# Paso 2. Preprocesamiento de los datos\n",
    "\n",
    "Preprocesa los datos de la siguiente manera:\n",
    "\n",
    "- Verifica y corrige los tipos de datos (por ejemplo, asegúrate de que las columnas de ID sean números enteros).\n",
    "- Identifica y completa los valores ausentes.\n",
    "- Identifica y elimina los valores duplicados.\n",
    "\n",
    "Asegúrate de explicar qué tipos de valores ausentes y duplicados encontraste, cómo los completaste o eliminaste y por qué usaste esos métodos. ¿Por qué crees que estos valores ausentes y duplicados pueden haber estado presentes en el conjunto de datos?"
   ]
  },
  {
   "cell_type": "markdown",
   "id": "p6poABZQaZYb",
   "metadata": {
    "id": "p6poABZQaZYb"
   },
   "source": [
    "## Plan de solución\n",
    "\n",
    "Escribe aquí tu plan para el Paso 2. Preprocesamiento de los datos.\n",
    "\n",
    "Primero haría todos los ajustes en los tipos de datos. En el df instacart_orders, convertir la columna \"days_since_prior_order\" a enteros int. En el df products convertir la columna \"product_name\" a minúsculas. En el df order_products convertir la columna \"add_to_cart_order\" a enteros. Después de esto, procesaría todos los valores ausentes y duplicados. Los valores ausentes en cada df se podrían reemplazar por valores representativos, o bien ser eliminados, dependiendo de su impacto en el análisis. Los valores duplicados también se deben borrar en cada df.\n",
    "\n"
   ]
  },
  {
   "cell_type": "markdown",
   "id": "07357848-dc64-4156-9cc3-01ff4365226d",
   "metadata": {
    "id": "07357848-dc64-4156-9cc3-01ff4365226d"
   },
   "source": [
    "## Encuentra y elimina los valores duplicados (y describe cómo tomaste tus decisiones)."
   ]
  },
  {
   "cell_type": "markdown",
   "id": "f179f0a9",
   "metadata": {
    "id": "f179f0a9"
   },
   "source": [
    "### `instacart_orders` data frame"
   ]
  },
  {
   "cell_type": "code",
   "execution_count": 8,
   "id": "b99297a5-405a-463d-8535-9adc3da4ad74",
   "metadata": {
    "id": "b99297a5-405a-463d-8535-9adc3da4ad74"
   },
   "outputs": [
    {
     "name": "stdout",
     "output_type": "stream",
     "text": [
      "Número de filas duplicadas: 15\n",
      "Número de filas duplicadas (por columna):\n",
      " order_id                  30\n",
      "user_id                   30\n",
      "order_number              30\n",
      "order_dow                 30\n",
      "order_hour_of_day         30\n",
      "days_since_prior_order    26\n",
      "dtype: int64\n",
      "Contenido de las filas duplicadas:\n",
      "         order_id  user_id  order_number  order_dow  order_hour_of_day  \\\n",
      "30371    1918001   188546            14          3                  2   \n",
      "99462     794638    50898            24          3                  2   \n",
      "119251    408114    68324             4          3                  2   \n",
      "142258   2845099    31189            11          3                  2   \n",
      "145574    794638    50898            24          3                  2   \n",
      "164581   1112182   202304            84          3                  2   \n",
      "200059   1782114   106752             1          3                  2   \n",
      "204042   2125197    14050            48          3                  2   \n",
      "215294   2160484   107525            16          3                  2   \n",
      "223105   2160484   107525            16          3                  2   \n",
      "230807   1918001   188546            14          3                  2   \n",
      "242618   1021560    53767             3          3                  2   \n",
      "250626    467134    63189            21          3                  2   \n",
      "257934   1919531   191501            32          3                  2   \n",
      "259636   2282673    86751            49          3                  2   \n",
      "266232   1782114   106752             1          3                  2   \n",
      "273805   1112182   202304            84          3                  2   \n",
      "284038   2845099    31189            11          3                  2   \n",
      "311713   1021560    53767             3          3                  2   \n",
      "314427   1286742   183220            48          3                  2   \n",
      "321100    408114    68324             4          3                  2   \n",
      "323900   1919531   191501            32          3                  2   \n",
      "324868   2232988    82565             1          3                  2   \n",
      "345917   2232988    82565             1          3                  2   \n",
      "354993    391768    57671            19          3                  2   \n",
      "371905    391768    57671            19          3                  2   \n",
      "394347    467134    63189            21          3                  2   \n",
      "411408   1286742   183220            48          3                  2   \n",
      "415163   2282673    86751            49          3                  2   \n",
      "441599   2125197    14050            48          3                  2   \n",
      "\n",
      "        days_since_prior_order  \n",
      "30371                     16.0  \n",
      "99462                      2.0  \n",
      "119251                    18.0  \n",
      "142258                     7.0  \n",
      "145574                     2.0  \n",
      "164581                     6.0  \n",
      "200059                     NaN  \n",
      "204042                     3.0  \n",
      "215294                    30.0  \n",
      "223105                    30.0  \n",
      "230807                    16.0  \n",
      "242618                     9.0  \n",
      "250626                     2.0  \n",
      "257934                     7.0  \n",
      "259636                     2.0  \n",
      "266232                     NaN  \n",
      "273805                     6.0  \n",
      "284038                     7.0  \n",
      "311713                     9.0  \n",
      "314427                     4.0  \n",
      "321100                    18.0  \n",
      "323900                     7.0  \n",
      "324868                     NaN  \n",
      "345917                     NaN  \n",
      "354993                    10.0  \n",
      "371905                    10.0  \n",
      "394347                     2.0  \n",
      "411408                     4.0  \n",
      "415163                     2.0  \n",
      "441599                     3.0  \n"
     ]
    }
   ],
   "source": [
    "\n",
    "# Revisa si hay pedidos duplicados y cuenta las filas duplicadas\n",
    "print(\"Número de filas duplicadas:\", df_instacart.duplicated().sum())  # Cuenta las filas duplicadas\n",
    "\n",
    "# Filtra y muestra las líneas duplicadas\n",
    "duplicados = df_instacart[df_instacart.duplicated(keep=False)]\n",
    "print(\"Número de filas duplicadas (por columna):\\n\", duplicados.count())  # Muestra el conteo por columna\n",
    "print(\"Contenido de las filas duplicadas:\\n\", duplicados)  # Muestra las filas duplicadas"
   ]
  },
  {
   "cell_type": "markdown",
   "id": "PEkwUX_gvt5A",
   "metadata": {
    "id": "PEkwUX_gvt5A"
   },
   "source": [
    "¿Tienes líneas duplicadas? Si sí, ¿qué tienen en común?\n",
    "\n",
    "Vemos que los datos duplicados corresponden a compras hechas el miércoles a las 2 a.m.\n"
   ]
  },
  {
   "cell_type": "code",
   "execution_count": 9,
   "id": "0d44de5d",
   "metadata": {
    "id": "0d44de5d"
   },
   "outputs": [
    {
     "name": "stdout",
     "output_type": "stream",
     "text": [
      "        order_id  user_id  order_number  order_dow  order_hour_of_day  \\\n",
      "4838     2766110   162084            41          3                  2   \n",
      "5156     2190225   138285            18          3                  2   \n",
      "15506     553049    58599            13          3                  2   \n",
      "18420     382357   120200            19          3                  2   \n",
      "24691     690242    77357             2          3                  2   \n",
      "...          ...      ...           ...        ...                ...   \n",
      "457013   3384021    14881             6          3                  2   \n",
      "458816    910166   164782            18          3                  2   \n",
      "459635   1680532   106435             6          3                  2   \n",
      "468324    222962    54979            59          3                  2   \n",
      "477526   2592344    46860            38          3                  2   \n",
      "\n",
      "        days_since_prior_order  \n",
      "4838                      16.0  \n",
      "5156                      11.0  \n",
      "15506                      7.0  \n",
      "18420                     11.0  \n",
      "24691                      9.0  \n",
      "...                        ...  \n",
      "457013                    30.0  \n",
      "458816                     4.0  \n",
      "459635                    21.0  \n",
      "468324                     3.0  \n",
      "477526                     3.0  \n",
      "\n",
      "[121 rows x 6 columns]\n",
      "<class 'pandas.core.frame.DataFrame'>\n",
      "Int64Index: 121 entries, 4838 to 477526\n",
      "Data columns (total 6 columns):\n",
      " #   Column                  Non-Null Count  Dtype  \n",
      "---  ------                  --------------  -----  \n",
      " 0   order_id                121 non-null    int64  \n",
      " 1   user_id                 121 non-null    int64  \n",
      " 2   order_number            121 non-null    int64  \n",
      " 3   order_dow               121 non-null    int64  \n",
      " 4   order_hour_of_day       121 non-null    int64  \n",
      " 5   days_since_prior_order  114 non-null    float64\n",
      "dtypes: float64(1), int64(5)\n",
      "memory usage: 6.6 KB\n",
      "106\n"
     ]
    }
   ],
   "source": [
    "# Basándote en tus hallazgos,\n",
    "# Verifica todos los pedidos que se hicieron el miércoles a las 2:00 a.m.\n",
    "\n",
    "wednesday_orders_2am = df_instacart[(df_instacart[\"order_dow\"]== 3) & (df_instacart[\"order_hour_of_day\"]==2)]\n",
    "print(wednesday_orders_2am)\n",
    "wednesday_orders_2am.info()\n",
    "wednesday_orders_2am.describe()\n",
    "print(wednesday_orders_2am[\"order_id\"].nunique())"
   ]
  },
  {
   "cell_type": "markdown",
   "id": "vu2OWyoqwOx5",
   "metadata": {
    "id": "vu2OWyoqwOx5"
   },
   "source": [
    "¿Qué sugiere este resultado?\n",
    "\n",
    "En el paso anterior identificamos que los pedidos duplicados fueron hechos el día miércoles en un horario de las 2 am y en total tenemos 15 filas con valores duplicados. Al verificar todos los pedidos hechos en este dìa y horario y contar los valores únicos de \"order_id\", vemos que existen 121 valores, de los cuàles 106 son valores únicos. Esto se alinea con las 15 filas con valores duplicados del paso anterior. "
   ]
  },
  {
   "cell_type": "code",
   "execution_count": 10,
   "id": "480563c7",
   "metadata": {
    "id": "480563c7"
   },
   "outputs": [],
   "source": [
    "# Elimina los pedidos duplicados\n",
    "df_instacart.drop_duplicates(inplace=True) #inplace=True se usa para no reasignar el df directamente\n"
   ]
  },
  {
   "cell_type": "code",
   "execution_count": 11,
   "id": "0b2396a2",
   "metadata": {
    "id": "0b2396a2"
   },
   "outputs": [
    {
     "data": {
      "text/plain": [
       "0"
      ]
     },
     "execution_count": 11,
     "metadata": {},
     "output_type": "execute_result"
    }
   ],
   "source": [
    "# Vuelve a verificar si hay filas duplicadas\n",
    "df_instacart.duplicated().sum()\n"
   ]
  },
  {
   "cell_type": "code",
   "execution_count": 12,
   "id": "f6113ef1",
   "metadata": {
    "id": "f6113ef1"
   },
   "outputs": [
    {
     "name": "stdout",
     "output_type": "stream",
     "text": [
      "0\n"
     ]
    }
   ],
   "source": [
    "# Vuelve a verificar si hay IDs duplicados de pedidos\n",
    "print(df_instacart[\"order_id\"].duplicated().sum())"
   ]
  },
  {
   "cell_type": "markdown",
   "id": "5e8905ae",
   "metadata": {
    "id": "5e8905ae"
   },
   "source": [
    "Describe brevemente tus hallazgos y lo que hiciste con ellos\n",
    "\n",
    "Al hacer la primera impresión de valores duplicados identificamos que la mayoría de estos se hicieron el miércoles a las 2 a.m. Para asegurarnos, filtramos el datas set por el día miércoles y el horario de las 2 am. Aquí contamos los valores totales y únicos en la columna \"order_id\" y vimos que de 121 valores, solo 106 eran únicos. Lo que indica que hay 15 pedidos duplicados, como lo vimos al inicio. "
   ]
  },
  {
   "cell_type": "markdown",
   "id": "ab7935df",
   "metadata": {},
   "source": [
    "<div class=\"alert alert-block alert-success\">\n",
    "<b>Comentario del revisor</b> <a class=\"tocSkip\"></a>\n",
    "\n",
    "Muy buen trabajo!! Desarrollaste de manera excelente el análisis de duplicados y eliminaste esos casos. \n",
    "    \n",
    "</div>"
   ]
  },
  {
   "cell_type": "markdown",
   "id": "45e6bc46",
   "metadata": {
    "id": "45e6bc46"
   },
   "source": [
    "### `products` data frame"
   ]
  },
  {
   "cell_type": "code",
   "execution_count": 13,
   "id": "5f526b5b-8175-46fa-a0fd-441767d50e64",
   "metadata": {
    "id": "5f526b5b-8175-46fa-a0fd-441767d50e64"
   },
   "outputs": [
    {
     "name": "stdout",
     "output_type": "stream",
     "text": [
      "   product_id                                       product_name  aisle_id  \\\n",
      "0           1                         Chocolate Sandwich Cookies        61   \n",
      "1           2                                   All-Seasons Salt       104   \n",
      "2           3               Robust Golden Unsweetened Oolong Tea        94   \n",
      "3           4  Smart Ones Classic Favorites Mini Rigatoni Wit...        38   \n",
      "4           5                          Green Chile Anytime Sauce         5   \n",
      "\n",
      "   department_id  \n",
      "0             19  \n",
      "1             13  \n",
      "2              7  \n",
      "3              1  \n",
      "4             13  \n",
      "<class 'pandas.core.frame.DataFrame'>\n",
      "RangeIndex: 49694 entries, 0 to 49693\n",
      "Data columns (total 4 columns):\n",
      " #   Column         Non-Null Count  Dtype \n",
      "---  ------         --------------  ----- \n",
      " 0   product_id     49694 non-null  int64 \n",
      " 1   product_name   48436 non-null  object\n",
      " 2   aisle_id       49694 non-null  int64 \n",
      " 3   department_id  49694 non-null  int64 \n",
      "dtypes: int64(3), object(1)\n",
      "memory usage: 1.5+ MB\n"
     ]
    },
    {
     "data": {
      "text/plain": [
       "0"
      ]
     },
     "execution_count": 13,
     "metadata": {},
     "output_type": "execute_result"
    }
   ],
   "source": [
    "# Verifica si hay filas totalmente duplicadas\n",
    "print(df_products.head())\n",
    "df_products.info()\n",
    "df_products.duplicated().sum()\n"
   ]
  },
  {
   "cell_type": "code",
   "execution_count": 14,
   "id": "88daa4f4",
   "metadata": {
    "id": "88daa4f4"
   },
   "outputs": [
    {
     "name": "stdout",
     "output_type": "stream",
     "text": [
      "0\n"
     ]
    }
   ],
   "source": [
    "# Verifica si hay IDs duplicadas de productos\n",
    "\n",
    "productos_duplicados = df_products[\"product_id\"].duplicated().sum()\n",
    "print(productos_duplicados)"
   ]
  },
  {
   "cell_type": "code",
   "execution_count": 15,
   "id": "c773f0bf",
   "metadata": {
    "id": "c773f0bf"
   },
   "outputs": [
    {
     "name": "stdout",
     "output_type": "stream",
     "text": [
      "1361\n"
     ]
    }
   ],
   "source": [
    "# Revisa si hay nombres duplicados de productos (convierte los nombres a letras mayúsculas para compararlos mejor)\n",
    "df_products[\"product_name\"] = df_products[\"product_name\"].str.upper()\n",
    "print(df_products[\"product_name\"].duplicated().sum())\n"
   ]
  },
  {
   "cell_type": "code",
   "execution_count": 60,
   "id": "a6131929",
   "metadata": {},
   "outputs": [
    {
     "name": "stdout",
     "output_type": "stream",
     "text": [
      "\n",
      "Nombres duplicados en productos no faltantes:\n",
      "       product_id                                     product_name  aisle_id  \\\n",
      "71             72                                          Unknown       100   \n",
      "109           110                                          Unknown       100   \n",
      "296           297                                          Unknown       100   \n",
      "416           417                                          Unknown       100   \n",
      "436           437                                          Unknown       100   \n",
      "...           ...                                              ...       ...   \n",
      "49689       49690                    HIGH PERFORMANCE ENERGY DRINK        64   \n",
      "49690       49691                    ORIGINAL PANCAKE & WAFFLE MIX       130   \n",
      "49691       49692  ORGANIC INSTANT OATMEAL LIGHT MAPLE BROWN SUGAR       130   \n",
      "49692       49693                           SPRING WATER BODY WASH       127   \n",
      "49693       49694                          BURRITO- STEAK & CHEESE        38   \n",
      "\n",
      "       department_id  \n",
      "71                21  \n",
      "109               21  \n",
      "296               21  \n",
      "416               21  \n",
      "436               21  \n",
      "...              ...  \n",
      "49689              7  \n",
      "49690             14  \n",
      "49691             14  \n",
      "49692             11  \n",
      "49693              1  \n",
      "\n",
      "[1361 rows x 4 columns]\n",
      "Unknown                             1258\n",
      "GREEN TEA WITH GINSENG AND HONEY       3\n",
      "CINNAMON ROLLS WITH ICING              2\n",
      "TOMATO AND BASIL PASTA SAUCE           2\n",
      "BEEF CHILI WITH BEANS                  2\n",
      "                                    ... \n",
      "CONCENTRACE TRACE MINERAL DROPS        2\n",
      "PINEAPPLE SLICES IN HEAVY SYRUP        2\n",
      "MARASCHINO CHERRIES WITH STEMS         2\n",
      "BALSAMIC VINEGAR OF MODENA             2\n",
      "MATZO BALL MIX                         2\n",
      "Name: product_name, Length: 104, dtype: int64\n"
     ]
    }
   ],
   "source": [
    "# Revisa si hay nombres duplicados de productos no faltantes\n",
    "# 1. ~ es negación. Buscamos en la columna product_name valores que no estén vacíos & valores duplicados\n",
    "duplicated_non_missing_products = df_products[(~df_products['product_name'].isna()) & df_products['product_name'].duplicated()]\n",
    "print(\"\\nNombres duplicados en productos no faltantes:\")\n",
    "print(duplicated_non_missing_products)\n",
    "\n",
    "\n",
    "## Contamos ocurrencias de cada nombre de producto duplicado\n",
    "#usamos value_counts() para contar cuántas veces aparece cada valor único en product_name. \n",
    "\n",
    "duplicated_non_missing_products = duplicated_non_missing_products['product_name'].value_counts()\n",
    "print(duplicate_counts)"
   ]
  },
  {
   "cell_type": "markdown",
   "id": "27906a98",
   "metadata": {},
   "source": [
    "<div class=\"alert alert-block alert-danger\">\n",
    "<b>Comentario del revisor</b> <a class=\"tocSkip\"></a>\n",
    "\n",
    "Excelente trabajo! Solamente la verificación de duplicados te recomiendo hacerla sobre la varialble de nombre del producto. Para esto te puedes guiar del siguiente ejemplo:\n",
    "    \n",
    "    products[(~products['product_name'].isna()) & products['product_name'].duplicated()]\n",
    "    \n",
    "</div>"
   ]
  },
  {
   "cell_type": "markdown",
   "id": "d5659bdc",
   "metadata": {},
   "source": [
    "<div class=\"alert alert-block alert-info\">\n",
    "<b>Respuesta del estudiante.</b> <a class=\"tocSkip\"></a>\n",
    "</div>\n",
    "\n",
    "Cambié la línea para filtrar las filas donde product_name no es nulo y verificar duplicados solamente en la variable product_name y no en toda la fila.\n",
    "</div>"
   ]
  },
  {
   "cell_type": "markdown",
   "id": "1f32bfaf",
   "metadata": {},
   "source": [
    "<div class=\"alert alert-block alert-success\">\n",
    "<b>Comentario del revisor</b> <a class=\"tocSkip\"></a>\n",
    "\n",
    "Excelente trabajo con el ajuste. De esta manera podemos ver los valores duplicados de los productos no faltantes"
   ]
  },
  {
   "cell_type": "markdown",
   "id": "9da8d293",
   "metadata": {
    "id": "9da8d293"
   },
   "source": [
    "Describe brevemente tus hallazgos y lo que hiciste con ellos.\n",
    "\n",
    "Con el método info() verificamos el número de filas (49694). Primero verificamos si existen filas totalmente duplicadas, lo cual parece a primera vista que no. Puesto que la columna \"product_name\" tiene mayúsculas, convertimos todo a mayúsculas para poder buscar mejor los valores duplicados. Esta columna también tiene valores ausentes, así que filtramos por los valores no ausentes. Vemos que existen 104 nombres que están duplicados, entre ellos el remplazo de Unkwnown, y en total suman 1361 valores duplicados en esta columna. \n",
    "\n"
   ]
  },
  {
   "cell_type": "markdown",
   "id": "60f30db1",
   "metadata": {
    "id": "60f30db1"
   },
   "source": [
    "### `departments` data frame"
   ]
  },
  {
   "cell_type": "code",
   "execution_count": 18,
   "id": "fb410ad4-0fbf-4b80-bb09-23fdea79afe3",
   "metadata": {
    "id": "fb410ad4-0fbf-4b80-bb09-23fdea79afe3"
   },
   "outputs": [
    {
     "name": "stdout",
     "output_type": "stream",
     "text": [
      "   department_id department\n",
      "0              1     frozen\n",
      "1              2      other\n",
      "2              3     bakery\n",
      "3              4    produce\n",
      "4              5    alcohol\n",
      "\n",
      "<class 'pandas.core.frame.DataFrame'>\n",
      "RangeIndex: 21 entries, 0 to 20\n",
      "Data columns (total 2 columns):\n",
      " #   Column         Non-Null Count  Dtype \n",
      "---  ------         --------------  ----- \n",
      " 0   department_id  21 non-null     int64 \n",
      " 1   department     21 non-null     object\n",
      "dtypes: int64(1), object(1)\n",
      "memory usage: 464.0+ bytes\n",
      "['frozen' 'other' 'bakery' 'produce' 'alcohol' 'international' 'beverages'\n",
      " 'pets' 'dry goods pasta' 'bulk' 'personal care' 'meat seafood' 'pantry'\n",
      " 'breakfast' 'canned goods' 'dairy eggs' 'household' 'babies' 'snacks'\n",
      " 'deli' 'missing']\n"
     ]
    }
   ],
   "source": [
    "# Revisa si hay filas totalmente duplicadas\n",
    "\n",
    "print(df_departments.head())\n",
    "print()\n",
    "df_departments.info()\n",
    "df_departments.duplicated().sum()\n",
    "print(df_departments[\"department\"].unique())\n",
    "\n"
   ]
  },
  {
   "cell_type": "code",
   "execution_count": 19,
   "id": "332b12bb",
   "metadata": {
    "id": "332b12bb"
   },
   "outputs": [
    {
     "data": {
      "text/plain": [
       "0"
      ]
     },
     "execution_count": 19,
     "metadata": {},
     "output_type": "execute_result"
    }
   ],
   "source": [
    "# Revisa si hay IDs duplicadas de productos\n",
    "#en el dataset de productos no existe columna de productos\n",
    "\n",
    "df_departments.duplicated(subset=\"department_id\").sum()"
   ]
  },
  {
   "cell_type": "markdown",
   "id": "bd30d78e",
   "metadata": {
    "id": "bd30d78e"
   },
   "source": [
    "Describe brevemente tus hallazgos y lo que hiciste con ellos.\n",
    "\n",
    "Este es un dataset de variables categóricas ya que indica el número de deparamento por departamento. Vemos que existe un departamento llamado \"missing\". Puede ser que se trate de un valor ausente. "
   ]
  },
  {
   "cell_type": "markdown",
   "id": "889349c1",
   "metadata": {
    "id": "889349c1"
   },
   "source": [
    "### `aisles` data frame"
   ]
  },
  {
   "cell_type": "code",
   "execution_count": 20,
   "id": "9da89fb9-4679-40f5-ad0d-c34df753a3f8",
   "metadata": {
    "id": "9da89fb9-4679-40f5-ad0d-c34df753a3f8"
   },
   "outputs": [
    {
     "name": "stdout",
     "output_type": "stream",
     "text": [
      "<class 'pandas.core.frame.DataFrame'>\n",
      "RangeIndex: 134 entries, 0 to 133\n",
      "Data columns (total 2 columns):\n",
      " #   Column    Non-Null Count  Dtype \n",
      "---  ------    --------------  ----- \n",
      " 0   aisle_id  134 non-null    int64 \n",
      " 1   aisle     134 non-null    object\n",
      "dtypes: int64(1), object(1)\n",
      "memory usage: 2.2+ KB\n",
      "\n",
      "   aisle_id                       aisle\n",
      "0         1       prepared soups salads\n",
      "1         2           specialty cheeses\n",
      "2         3         energy granola bars\n",
      "3         4               instant foods\n",
      "4         5  marinades meat preparation\n",
      "\n",
      "Filas totalmente duplicadas: 0\n",
      "['air fresheners candles' 'asian foods' 'baby accessories'\n",
      " 'baby bath body care' 'baby food formula' 'bakery desserts'\n",
      " 'baking ingredients' 'baking supplies decor' 'beauty' 'beers coolers'\n",
      " 'body lotions soap' 'bread' 'breakfast bakery' 'breakfast bars pastries'\n",
      " 'bulk dried fruits vegetables' 'bulk grains rice dried goods'\n",
      " 'buns rolls' 'butter' 'candy chocolate' 'canned fruit applesauce'\n",
      " 'canned jarred vegetables' 'canned meals beans' 'canned meat seafood'\n",
      " 'cat food care' 'cereal' 'chips pretzels' 'cleaning products'\n",
      " 'cocoa drink mixes' 'coffee' 'cold flu allergy' 'condiments'\n",
      " 'cookies cakes' 'crackers' 'cream' 'deodorants' 'diapers wipes'\n",
      " 'digestion' 'dish detergents' 'dog food care'\n",
      " 'doughs gelatins bake mixes' 'dry pasta' 'eggs' 'energy granola bars'\n",
      " 'energy sports drinks' 'eye ear care' 'facial care' 'feminine care'\n",
      " 'first aid' 'food storage' 'fresh dips tapenades' 'fresh fruits'\n",
      " 'fresh herbs' 'fresh pasta' 'fresh vegetables' 'frozen appetizers sides'\n",
      " 'frozen breads doughs' 'frozen breakfast' 'frozen dessert' 'frozen juice'\n",
      " 'frozen meals' 'frozen meat seafood' 'frozen pizza' 'frozen produce'\n",
      " 'frozen vegan vegetarian' 'fruit vegetable snacks'\n",
      " 'grains rice dried goods' 'granola' 'hair care' 'honeys syrups nectars'\n",
      " 'hot cereal pancake mixes' 'hot dogs bacon sausage' 'ice cream ice'\n",
      " 'ice cream toppings' 'indian foods' 'instant foods' 'juice nectars'\n",
      " 'kitchen supplies' 'kosher foods' 'latino foods' 'laundry' 'lunch meat'\n",
      " 'marinades meat preparation' 'meat counter' 'milk' 'mint gum' 'missing'\n",
      " 'more household' 'muscles joints pain relief' 'nuts seeds dried fruit'\n",
      " 'oils vinegars' 'oral hygiene' 'other' 'other creams cheeses'\n",
      " 'packaged cheese' 'packaged meat' 'packaged poultry' 'packaged produce'\n",
      " 'packaged seafood' 'packaged vegetables fruits' 'paper goods'\n",
      " 'pasta sauce' 'pickled goods olives' 'plates bowls cups flatware'\n",
      " 'popcorn jerky' 'poultry counter' 'prepared meals'\n",
      " 'prepared soups salads' 'preserved dips spreads'\n",
      " 'protein meal replacements' 'red wines' 'refrigerated'\n",
      " 'refrigerated pudding desserts' 'salad dressing toppings'\n",
      " 'seafood counter' 'shave needs' 'skin care' 'soap' 'soft drinks'\n",
      " 'soup broth bouillon' 'soy lactosefree' 'specialty cheeses'\n",
      " 'specialty wines champagnes' 'spices seasonings' 'spirits' 'spreads'\n",
      " 'tea' 'tofu meat alternatives' 'tortillas flat bread'\n",
      " 'trail mix snack mix' 'trash bags liners' 'vitamins supplements'\n",
      " 'water seltzer sparkling water' 'white wines' 'yogurt']\n",
      "134\n"
     ]
    }
   ],
   "source": [
    "# Revisa si hay filas totalmente duplicadas\n",
    "\n",
    "df_aisles.info()\n",
    "print()\n",
    "print(df_aisles.head())\n",
    "print()\n",
    "\n",
    "print(\"Filas totalmente duplicadas:\", df_aisles.duplicated().sum())\n",
    "aisles_sorted = df_aisles[\"aisle\"].unique()\n",
    "aisles_sorted.sort() #ordenar alfabéticamente\n",
    "print(aisles_sorted)\n",
    "print(df_aisles[\"aisle_id\"].nunique())"
   ]
  },
  {
   "cell_type": "code",
   "execution_count": 21,
   "id": "da7c2822",
   "metadata": {
    "id": "da7c2822"
   },
   "outputs": [
    {
     "name": "stdout",
     "output_type": "stream",
     "text": [
      "0\n"
     ]
    }
   ],
   "source": [
    "# Revisa si hay IDs duplicadas de productos\n",
    "print(df_aisles[\"aisle\"].duplicated().sum())"
   ]
  },
  {
   "cell_type": "markdown",
   "id": "ac63826f",
   "metadata": {
    "id": "ac63826f"
   },
   "source": [
    "Describe brevemente tus hallazgos y lo que hiciste con ellos.\n",
    "\n",
    "El data set df_aisles también contiene variables categóricas ya que indican el nombre y número del pasillo donde se encuentran los productos. Hay 134 pasillos y ninguno parece estar duplicados. "
   ]
  },
  {
   "cell_type": "markdown",
   "id": "274cd06a",
   "metadata": {
    "id": "274cd06a"
   },
   "source": [
    "### `order_products` data frame"
   ]
  },
  {
   "cell_type": "code",
   "execution_count": 22,
   "id": "52326689-84a8-4b8f-a881-7c68780f62c9",
   "metadata": {
    "id": "52326689-84a8-4b8f-a881-7c68780f62c9"
   },
   "outputs": [
    {
     "name": "stdout",
     "output_type": "stream",
     "text": [
      "<class 'pandas.core.frame.DataFrame'>\n",
      "RangeIndex: 4545007 entries, 0 to 4545006\n",
      "Data columns (total 4 columns):\n",
      " #   Column             Dtype  \n",
      "---  ------             -----  \n",
      " 0   order_id           int64  \n",
      " 1   product_id         int64  \n",
      " 2   add_to_cart_order  float64\n",
      " 3   reordered          int64  \n",
      "dtypes: float64(1), int64(3)\n",
      "memory usage: 138.7 MB\n",
      "\n",
      "   order_id  product_id  add_to_cart_order  reordered\n",
      "0   2141543       11440               17.0          0\n",
      "1    567889        1560                1.0          1\n",
      "2   2261212       26683                1.0          1\n",
      "3    491251        8670               35.0          1\n",
      "4   2571142        1940                5.0          1\n",
      "\n",
      "Filas totalmente duplicadas: 0\n"
     ]
    }
   ],
   "source": [
    "# Revisa si hay filas totalmente duplicadas\n",
    "df_order_products.info()\n",
    "print()\n",
    "print(df_order_products.head())\n",
    "print()\n",
    "print(\"Filas totalmente duplicadas:\", df_order_products.duplicated().sum())"
   ]
  },
  {
   "cell_type": "code",
   "execution_count": 23,
   "id": "7b861391",
   "metadata": {
    "id": "7b861391"
   },
   "outputs": [
    {
     "data": {
      "text/plain": [
       "0"
      ]
     },
     "execution_count": 23,
     "metadata": {},
     "output_type": "execute_result"
    }
   ],
   "source": [
    "#Revisa si hay duplicados engañosos\n",
    "df_order_products.duplicated(subset=[\"order_id\", \"product_id\"]).sum() #una orden puede tener varios productos, y un producto puede estar en varias ordenes\n",
    "                                     "
   ]
  },
  {
   "cell_type": "markdown",
   "id": "0b890492",
   "metadata": {
    "id": "0b890492"
   },
   "source": [
    "Describe brevemente tus hallazgos y lo que hiciste con ellos.\n",
    "\n",
    "Vemos que en este data set es posible que hayan duplicados engañosos ya que una orden puede tener varios productos y un producto puede estar en varias ordenes, por eso verificamos en la combinación de columnas product_id y order_id\n",
    "                                     \n"
   ]
  },
  {
   "cell_type": "markdown",
   "id": "1e46de76",
   "metadata": {
    "id": "1e46de76"
   },
   "source": [
    "## Encuentra y elimina los valores ausentes\n",
    "\n",
    "Al trabajar con valores duplicados, pudimos observar que también nos falta investigar valores ausentes:\n",
    "\n",
    "* La columna `'product_name'` de la tabla products.\n",
    "* La columna `'days_since_prior_order'` de la tabla orders.\n",
    "* La columna `'add_to_cart_order'` de la tabla order_productos."
   ]
  },
  {
   "cell_type": "markdown",
   "id": "c0aebd78",
   "metadata": {
    "id": "c0aebd78"
   },
   "source": [
    "### `products` data frame"
   ]
  },
  {
   "cell_type": "code",
   "execution_count": 24,
   "id": "fe4a8b0f",
   "metadata": {
    "id": "fe4a8b0f"
   },
   "outputs": [
    {
     "name": "stdout",
     "output_type": "stream",
     "text": [
      "<class 'pandas.core.frame.DataFrame'>\n",
      "RangeIndex: 49694 entries, 0 to 49693\n",
      "Data columns (total 4 columns):\n",
      " #   Column         Non-Null Count  Dtype \n",
      "---  ------         --------------  ----- \n",
      " 0   product_id     49694 non-null  int64 \n",
      " 1   product_name   48436 non-null  object\n",
      " 2   aisle_id       49694 non-null  int64 \n",
      " 3   department_id  49694 non-null  int64 \n",
      "dtypes: int64(3), object(1)\n",
      "memory usage: 1.5+ MB\n",
      "\n",
      "product_id          0\n",
      "product_name     1258\n",
      "aisle_id            0\n",
      "department_id       0\n",
      "dtype: int64\n",
      "\n",
      "Filas con valores ausentes en la columna 'product_name'\n",
      "       product_id product_name  aisle_id  department_id\n",
      "37             38          NaN       100             21\n",
      "71             72          NaN       100             21\n",
      "109           110          NaN       100             21\n",
      "296           297          NaN       100             21\n",
      "416           417          NaN       100             21\n",
      "...           ...          ...       ...            ...\n",
      "49552       49553          NaN       100             21\n",
      "49574       49575          NaN       100             21\n",
      "49640       49641          NaN       100             21\n",
      "49663       49664          NaN       100             21\n",
      "49668       49669          NaN       100             21\n",
      "\n",
      "[1258 rows x 4 columns]\n"
     ]
    }
   ],
   "source": [
    "# Encuentra los valores ausentes en la columna 'product_name'\n",
    "df_products.info()\n",
    "print()\n",
    "print(df_products.isna().sum())\n",
    "print()\n",
    "missing_products_name = df_products[df_products[\"product_name\"].isna()] \n",
    "print(\"Filas con valores ausentes en la columna 'product_name'\")\n",
    "print(missing_products_name)\n"
   ]
  },
  {
   "cell_type": "markdown",
   "id": "-A6x1AbJhjkp",
   "metadata": {
    "id": "-A6x1AbJhjkp"
   },
   "source": [
    "Describe brevemente cuáles son tus hallazgos.\n",
    "\n",
    "Después de contar cuántos valores ausentes hay en la columna \"product_name\" parece que estos solo se presentan en los productos del pasillo 100.  "
   ]
  },
  {
   "cell_type": "code",
   "execution_count": 25,
   "id": "e96167bc",
   "metadata": {
    "id": "e96167bc"
   },
   "outputs": [
    {
     "name": "stdout",
     "output_type": "stream",
     "text": [
      "1\n",
      "[100]\n"
     ]
    }
   ],
   "source": [
    "#  ¿Todos los nombres de productos ausentes están relacionados con el pasillo con ID 100?\n",
    "\n",
    "\n",
    "print(missing_products_name[\"aisle_id\"].nunique()) #contamos los valores únicos en la columna \"isle_id\" para los nombres de producto con valores ausentes\n",
    "print(missing_products_name[\"aisle_id\"].unique())"
   ]
  },
  {
   "cell_type": "markdown",
   "id": "WRpIfXRphpSL",
   "metadata": {
    "id": "WRpIfXRphpSL"
   },
   "source": [
    "Describe brevemente cuáles son tus hallazgos.\n",
    "\n",
    "Después de contar los valores únicos en la columna \"aisle_id\" para las filas con valores ausentes, vemos que efectivamente únicamente se trata de los productos en el pasillo 100."
   ]
  },
  {
   "cell_type": "code",
   "execution_count": 26,
   "id": "8fd0a541",
   "metadata": {
    "id": "8fd0a541"
   },
   "outputs": [
    {
     "name": "stdout",
     "output_type": "stream",
     "text": [
      "1\n",
      "[21]\n",
      "department_id         21\n",
      "department       missing\n",
      "Name: 20, dtype: object\n"
     ]
    }
   ],
   "source": [
    "# ¿Todos los nombres de productos ausentes están relacionados con el departamento con ID 21?\n",
    "\n",
    "print(missing_products_name[\"department_id\"].nunique())\n",
    "print(missing_products_name[\"department_id\"].unique())\n",
    "\n",
    "print(df_departments.iloc[20])"
   ]
  },
  {
   "cell_type": "markdown",
   "id": "qDpdYn1Fht_I",
   "metadata": {
    "id": "qDpdYn1Fht_I"
   },
   "source": [
    "Describe brevemente cuáles son tus hallazgos.\n",
    "\n",
    "Al parecer todos los nombres de productos que faltan corresponden al departamento 21 en el pasillo 100\n",
    "Al extraer del df df_departments la fila del departamento 21 para ver su información, vemos que el nombre del pasillo está faltando. "
   ]
  },
  {
   "cell_type": "code",
   "execution_count": 27,
   "id": "325c3464",
   "metadata": {
    "id": "325c3464"
   },
   "outputs": [
    {
     "name": "stdout",
     "output_type": "stream",
     "text": [
      "    aisle_id    aisle\n",
      "99       100  missing\n",
      "\n",
      "    department_id department\n",
      "20             21    missing\n"
     ]
    }
   ],
   "source": [
    "# Usa las tablas department y aisle para revisar los datos del pasillo con ID 100 y el departamento con ID 21.\n",
    "\n",
    "aisle_100 = df_aisles[df_aisles[\"aisle_id\"] == 100]\n",
    "print(aisle_100)\n",
    "print()\n",
    "department_21 = df_departments[df_departments[\"department_id\"]== 21]\n",
    "print(department_21)"
   ]
  },
  {
   "cell_type": "markdown",
   "id": "nqhSTUPhhvEJ",
   "metadata": {
    "id": "nqhSTUPhhvEJ"
   },
   "source": [
    "Describe brevemente cuáles son tus hallazgos.\n",
    "\n",
    "Vemos que en ambos data sets la información para el pasillo 100 y el departamento 21 falta, por lo tanto los nombres de productos de este departamento en el pasillo 100 tampoco están presentes."
   ]
  },
  {
   "cell_type": "code",
   "execution_count": 28,
   "id": "6b295120",
   "metadata": {
    "id": "6b295120"
   },
   "outputs": [
    {
     "name": "stdout",
     "output_type": "stream",
     "text": [
      "product_id       0\n",
      "product_name     0\n",
      "aisle_id         0\n",
      "department_id    0\n",
      "dtype: int64\n"
     ]
    }
   ],
   "source": [
    "# Completa los nombres de productos ausentes con 'Unknown'\n",
    "\n",
    "df_products[\"product_name\"].fillna(\"Unknown\", inplace=True) #reemplazamos NaN por \"Unknows\"\n",
    "print(df_products.isna().sum()) #verificamos valores ausentes "
   ]
  },
  {
   "cell_type": "markdown",
   "id": "fc70e5ad",
   "metadata": {
    "id": "fc70e5ad"
   },
   "source": [
    "Describe brevemente tus hallazgos y lo que hiciste con ellos.\n",
    "\n",
    "Identificamos que todos los productos del departamento 21 en el pasillo 100 tienen valores ausentes, específicamente el dato faltante es el nombre del producto. Así que reemplazamos los valores ausentes en la columna \"product_name\" por \"Unknown\""
   ]
  },
  {
   "cell_type": "markdown",
   "id": "31e43ddf",
   "metadata": {},
   "source": [
    "\n",
    "<div class=\"alert alert-block alert-success\">\n",
    "<b>Comentario del revisor</b> <a class=\"tocSkip\"></a>\n",
    "\n",
    "Muy buen trabajo!! Desarrollaste de manera excelente el análisis de valores faltantes y los llenaste con \"unknown\".\n",
    "    \n",
    "</div>"
   ]
  },
  {
   "cell_type": "markdown",
   "id": "7eb45c86",
   "metadata": {
    "id": "7eb45c86"
   },
   "source": [
    "### `orders` data frame"
   ]
  },
  {
   "cell_type": "code",
   "execution_count": 29,
   "id": "93e41d96",
   "metadata": {
    "id": "93e41d96"
   },
   "outputs": [
    {
     "name": "stdout",
     "output_type": "stream",
     "text": [
      "order_id                      0\n",
      "user_id                       0\n",
      "order_number                  0\n",
      "order_dow                     0\n",
      "order_hour_of_day             0\n",
      "days_since_prior_order    28817\n",
      "dtype: int64\n"
     ]
    }
   ],
   "source": [
    "# Encuentra los valores ausentes\n",
    "\n",
    "print(df_instacart.isna().sum())"
   ]
  },
  {
   "cell_type": "code",
   "execution_count": 30,
   "id": "166e5a86",
   "metadata": {
    "id": "166e5a86"
   },
   "outputs": [
    {
     "name": "stdout",
     "output_type": "stream",
     "text": [
      "<class 'pandas.core.frame.DataFrame'>\n",
      "Int64Index: 478952 entries, 0 to 478966\n",
      "Data columns (total 6 columns):\n",
      " #   Column                  Non-Null Count   Dtype  \n",
      "---  ------                  --------------   -----  \n",
      " 0   order_id                478952 non-null  int64  \n",
      " 1   user_id                 478952 non-null  int64  \n",
      " 2   order_number            478952 non-null  int64  \n",
      " 3   order_dow               478952 non-null  int64  \n",
      " 4   order_hour_of_day       478952 non-null  int64  \n",
      " 5   days_since_prior_order  450135 non-null  float64\n",
      "dtypes: float64(1), int64(5)\n",
      "memory usage: 25.6 MB\n",
      "\n",
      "Valores ausentes en la columna 'days_since_prior_order:' 28817\n",
      "\n",
      "[30.  9.  2. 10. 17. 15. 22.  4.  8.  3. 12. 11.  7.  1.  5.  6. 14. nan\n",
      " 20. 16. 24. 23. 27. 13.  0. 28. 21. 25. 19. 18. 29. 26.]\n",
      "31\n",
      "DataFrame donde falta 'days_since_prior_order':\n",
      "\n",
      "        order_id  user_id  order_number  order_dow  order_hour_of_day  \\\n",
      "28        133707   182261             1          3                 10   \n",
      "96        787445    25685             1          6                 18   \n",
      "100       294410   111449             1          0                 19   \n",
      "103      2869915   123958             1          4                 16   \n",
      "104      2521921    42286             1          3                 18   \n",
      "...          ...      ...           ...        ...                ...   \n",
      "478895   2589657   205028             1          0                 16   \n",
      "478896   2222353   141211             1          2                 13   \n",
      "478922   2272807   204154             1          1                 15   \n",
      "478926   2499542    68810             1          4                 19   \n",
      "478945   1387033    22496             1          5                 14   \n",
      "\n",
      "        days_since_prior_order  \n",
      "28                         NaN  \n",
      "96                         NaN  \n",
      "100                        NaN  \n",
      "103                        NaN  \n",
      "104                        NaN  \n",
      "...                        ...  \n",
      "478895                     NaN  \n",
      "478896                     NaN  \n",
      "478922                     NaN  \n",
      "478926                     NaN  \n",
      "478945                     NaN  \n",
      "\n",
      "[28817 rows x 6 columns]\n",
      "1\n",
      "[1]\n",
      "<class 'pandas.core.frame.DataFrame'>\n",
      "Int64Index: 478952 entries, 0 to 478966\n",
      "Data columns (total 6 columns):\n",
      " #   Column                  Non-Null Count   Dtype  \n",
      "---  ------                  --------------   -----  \n",
      " 0   order_id                478952 non-null  int64  \n",
      " 1   user_id                 478952 non-null  int64  \n",
      " 2   order_number            478952 non-null  int64  \n",
      " 3   order_dow               478952 non-null  int64  \n",
      " 4   order_hour_of_day       478952 non-null  int64  \n",
      " 5   days_since_prior_order  478952 non-null  float64\n",
      "dtypes: float64(1), int64(5)\n",
      "memory usage: 25.6 MB\n"
     ]
    }
   ],
   "source": [
    "# ¿Hay algún valor ausente que no sea el primer pedido del cliente?\n",
    "\n",
    "\n",
    "df_instacart.info()\n",
    "print()\n",
    "print(\"Valores ausentes en la columna 'days_since_prior_order:'\", df_instacart[\"days_since_prior_order\"].isna().sum())\n",
    "print()\n",
    "print(df_instacart[\"days_since_prior_order\"].unique())\n",
    "print(df_instacart[\"days_since_prior_order\"].nunique())\n",
    "\n",
    "\n",
    "#Vamos a verificar a qué order_number corresponden los valores ausentes en days_since_prior_order\n",
    "missing_info = df_instacart[df_instacart[\"days_since_prior_order\"].isna()] #mostramos filas donde los valores en la columna \"days_since_prior_order\" faltan\n",
    "print(\"DataFrame donde falta 'days_since_prior_order':\")\n",
    "print()\n",
    "print(missing_info)\n",
    "print(missing_info[\"order_number\"].nunique())\n",
    "print(missing_info[\"order_number\"].unique())\n",
    "\n",
    "#Reemplazamos los valores ausentes por \"0\"\n",
    "\n",
    "df_instacart[\"days_since_prior_order\"].fillna(0, inplace=True)\n",
    "df_instacart.info() "
   ]
  },
  {
   "cell_type": "markdown",
   "id": "4e23d089",
   "metadata": {
    "id": "4e23d089"
   },
   "source": [
    "Describe brevemente tus hallazgos y lo que hiciste con ellos.\n",
    "\n",
    "Primero buscamos valores ausentes en el dataset df_instacart. Vemos que no faltan valores más que en la columna \"days_since_prior_order\", la cual indica el número de días transcurridos desde que este cliente hizo su pedido anterior. En la columna \"order_number\" que indica el número de veces que este cliente ha hecho un pedido no hay valores ausentes. Para verificar el numero de orden que tiene valores ausentes en la columna \"days_since_prior_order\" contamos los valores ausentes en esa columna cuando la order_number es == 1. \n",
    "Los valores ausentes de la columna \"days_since_prior_order\" corresponden al primer pedido. Esto hace perfectamente sentido ya que es el primer pedido del cliente y no hay un pedido antes. Entonces, reemplazamos estos valores ausentes por \"0\"."
   ]
  },
  {
   "cell_type": "markdown",
   "id": "69dc9ca4",
   "metadata": {
    "id": "69dc9ca4"
   },
   "source": [
    "### `order_products` data frame"
   ]
  },
  {
   "cell_type": "code",
   "execution_count": 31,
   "id": "b8240253",
   "metadata": {
    "id": "b8240253"
   },
   "outputs": [
    {
     "name": "stdout",
     "output_type": "stream",
     "text": [
      "order_id               0\n",
      "product_id             0\n",
      "add_to_cart_order    836\n",
      "reordered              0\n",
      "dtype: int64\n"
     ]
    }
   ],
   "source": [
    "# Encuentra los valores ausentes\n",
    "\n",
    "print(df_order_products.isna().sum())\n",
    "\n"
   ]
  },
  {
   "cell_type": "code",
   "execution_count": 32,
   "id": "9a78e5ee",
   "metadata": {
    "id": "9a78e5ee"
   },
   "outputs": [
    {
     "name": "stdout",
     "output_type": "stream",
     "text": [
      "1.0\n",
      "64.0\n"
     ]
    }
   ],
   "source": [
    "# ¿Cuáles son los valores mínimos y máximos en esta columna?\n",
    "\n",
    "#add_to_cart_order : el orden secuencial en el que se añadió cada artículo en el carrito.\n",
    "print(df_order_products[\"add_to_cart_order\"].min())\n",
    "print(df_order_products[\"add_to_cart_order\"].max())\n"
   ]
  },
  {
   "cell_type": "markdown",
   "id": "-Z2Ja215jW78",
   "metadata": {
    "id": "-Z2Ja215jW78"
   },
   "source": [
    "Describe brevemente cuáles son tus hallazgos.\n",
    "\n",
    "Descubrimos que aparentemente las ordenes con datos ausentes en add_to_cart_order pueden contener hasta 64 productos. "
   ]
  },
  {
   "cell_type": "code",
   "execution_count": 33,
   "id": "ab9d0c2b",
   "metadata": {
    "id": "ab9d0c2b"
   },
   "outputs": [
    {
     "name": "stdout",
     "output_type": "stream",
     "text": [
      "Filas con valores vacíos en 'add_to_cart_order'\n",
      "\n",
      "         order_id  product_id  add_to_cart_order  reordered\n",
      "737       2449164        5068                NaN          0\n",
      "9926      1968313       43867                NaN          0\n",
      "14394     2926893       11688                NaN          0\n",
      "16418     1717990        4142                NaN          0\n",
      "30114     1959075       42828                NaN          1\n",
      "...           ...         ...                ...        ...\n",
      "4505662   1800005        7411                NaN          0\n",
      "4511400   1633337         260                NaN          0\n",
      "4517562    404157        9517                NaN          0\n",
      "4534112   1673227       17835                NaN          0\n",
      "4535739   1832957       17949                NaN          1\n",
      "\n",
      "[836 rows x 4 columns]\n"
     ]
    }
   ],
   "source": [
    "# Guarda todas las IDs de pedidos que tengan un valor ausente en 'add_to_cart_order'\n",
    "missing_values_add_to_cart_order = df_order_products[df_order_products[\"add_to_cart_order\"].isna()]\n",
    "print(\"Filas con valores vacíos en 'add_to_cart_order'\")\n",
    "print()\n",
    "print(missing_values_add_to_cart_order)\n"
   ]
  },
  {
   "cell_type": "code",
   "execution_count": 34,
   "id": "54c31695",
   "metadata": {
    "id": "54c31695"
   },
   "outputs": [
    {
     "name": "stdout",
     "output_type": "stream",
     "text": [
      "order_id\n",
      "9310        1\n",
      "61355      63\n",
      "102236     31\n",
      "129627      5\n",
      "165801      6\n",
      "           ..\n",
      "2999801     6\n",
      "3125735    22\n",
      "3308010    51\n",
      "3347453     7\n",
      "3383594     5\n",
      "Name: product_id, Length: 70, dtype: int64\n",
      "El valor mínimo de productos en un pedido es: 1\n",
      "El valor máximo de productos en un pedido es: 63\n"
     ]
    }
   ],
   "source": [
    "# ¿Todos los pedidos con valores ausentes tienen más de 64 productos? \n",
    "\n",
    "# Agrupa todos los pedidos con datos ausentes por su ID de pedido.\n",
    "# Cuenta el número de 'product_id' en cada pedido y revisa el valor mínimo del conteo.\n",
    "products_by_order_id = missing_values_add_to_cart_order.groupby(\"order_id\")[\"product_id\"].count() #agrupamos por order_id y contamos cuántos productos tiene cada pedido\n",
    "print(products_by_order_id)\n",
    "\n",
    "# Revisar el valor mínimo y máximo del conteo\n",
    "min_products = products_by_order_id.min()  #contamos cuál es el mínimo de productos en una orden con datos ausentes\n",
    "print(\"El valor mínimo de productos en un pedido es:\", min_products)\n",
    "\n",
    "max_products = products_by_order_id.max()\n",
    "print(\"El valor máximo de productos en un pedido es:\", max_products) #contamos cuál es el máximo de productos en una orden con datos ausentes"
   ]
  },
  {
   "cell_type": "markdown",
   "id": "p9V6pddtjglj",
   "metadata": {
    "id": "p9V6pddtjglj"
   },
   "source": [
    "Describe brevemente cuáles son tus hallazgos.\n",
    "\n",
    "Vemos que después de agrupar las filas con valores ausentes por número de orden y contar cuántos productos tiene cada orden, efectivamente uno de estos pedidos con valores ausentes puede tener desde 1 hasta 63 productos."
   ]
  },
  {
   "cell_type": "code",
   "execution_count": 35,
   "id": "7a987d08",
   "metadata": {
    "id": "7a987d08"
   },
   "outputs": [
    {
     "name": "stdout",
     "output_type": "stream",
     "text": [
      "order_id             0\n",
      "product_id           0\n",
      "add_to_cart_order    0\n",
      "reordered            0\n",
      "dtype: int64\n"
     ]
    }
   ],
   "source": [
    "# Remplaza los valores ausentes en la columna 'add_to_cart? con 999 y convierte la columna al tipo entero.\n",
    "\n",
    "\n",
    "df_order_products['add_to_cart_order'] = df_order_products['add_to_cart_order'].fillna(999).astype(int)\n",
    "print(df_order_products.isna().sum())"
   ]
  },
  {
   "cell_type": "code",
   "execution_count": 68,
   "id": "10b1d454",
   "metadata": {},
   "outputs": [
    {
     "name": "stdout",
     "output_type": "stream",
     "text": [
      "1     450046\n",
      "2     428199\n",
      "3     401907\n",
      "4     372861\n",
      "5     341807\n",
      "       ...  \n",
      "60       127\n",
      "61       114\n",
      "62        98\n",
      "63        87\n",
      "64        75\n",
      "Name: add_to_cart_order, Length: 65, dtype: int64\n"
     ]
    }
   ],
   "source": [
    "print(df_order_products[\"add_to_cart_order\"].value_counts())\n"
   ]
  },
  {
   "cell_type": "markdown",
   "id": "fea4bcc7",
   "metadata": {
    "id": "fea4bcc7"
   },
   "source": [
    "Describe brevemente tus hallazgos y lo que hiciste con ellos.\n",
    "\n",
    "Como vimos que un pedido (con valores ausentes) puede tener hasta 63 artículos, reemplazamos los valores ausentes con 999 y convertimos el tipo de dato de float a entero. "
   ]
  },
  {
   "cell_type": "markdown",
   "id": "464be729",
   "metadata": {},
   "source": [
    "<div class=\"alert alert-block alert-success\">\n",
    "<b>Comentario del revisor</b> <a class=\"tocSkip\"></a>\n",
    "\n",
    "Excelente trabajo con este ejercicio, completaste de manera perfecta los valores ausentes con 999. Solamente para complementar el análisis que podríamos decir de los productos que tienen más de 64 productos?"
   ]
  },
  {
   "cell_type": "markdown",
   "id": "5b693b81",
   "metadata": {},
   "source": [
    "<div class=\"alert alert-block alert-info\">\n",
    "<b>Respuesta del estudiante.</b> <a class=\"tocSkip\"></a>\n",
    "</div>\n",
    "\n",
    "A partir del análisis entiendo que no existen pedidos con más de 64 pedidos. Una vez que reemplazamos los valores\n",
    "ausentes con 999, el pedido con más artículos alcanza los 64 productos. Llamé value_counts en la columna add_to_cart_order y efectivamente no existen pedidos con más de 64 astículos."
   ]
  },
  {
   "cell_type": "markdown",
   "id": "5e203537",
   "metadata": {},
   "source": [
    "<div class=\"alert alert-block alert-success\">\n",
    "<b>Comentario del revisor</b> <a class=\"tocSkip\"></a>\n",
    "\n",
    "Gran trabajo con la interpretación"
   ]
  },
  {
   "cell_type": "markdown",
   "id": "RnplPFY1gSrb",
   "metadata": {
    "id": "RnplPFY1gSrb"
   },
   "source": [
    "## Conclusiones\n",
    "\n",
    "Escribe aquí tus conclusiones intermedias sobre el Paso 2. Preprocesamiento de los datos\n"
   ]
  },
  {
   "cell_type": "markdown",
   "id": "UjrOIwTcz3ri",
   "metadata": {
    "id": "UjrOIwTcz3ri"
   },
   "source": [
    "# Paso 3. Análisis de los datos\n",
    "\n",
    "Una vez los datos estén procesados y listos, haz el siguiente análisis:"
   ]
  },
  {
   "cell_type": "markdown",
   "id": "turkish-kidney",
   "metadata": {
    "id": "turkish-kidney"
   },
   "source": [
    "# [A] Fácil (deben completarse todos para aprobar)\n",
    "\n",
    "1. Verifica que los valores en las columnas `'order_hour_of_day'` y `'order_dow'` en la tabla orders sean razonables (es decir, `'order_hour_of_day'` oscile entre 0 y 23 y `'order_dow'` oscile entre 0 y 6).\n",
    "2. Crea un gráfico que muestre el número de personas que hacen pedidos dependiendo de la hora del día.\n",
    "3. Crea un gráfico que muestre qué día de la semana la gente hace sus compras.\n",
    "4. Crea un gráfico que muestre el tiempo que la gente espera hasta hacer su siguiente pedido, y comenta sobre los valores mínimos y máximos."
   ]
  },
  {
   "cell_type": "markdown",
   "id": "short-capability",
   "metadata": {
    "id": "short-capability"
   },
   "source": [
    "### [A1] Verifica que los valores sean sensibles"
   ]
  },
  {
   "cell_type": "code",
   "execution_count": 36,
   "id": "growing-fruit",
   "metadata": {
    "id": "growing-fruit"
   },
   "outputs": [
    {
     "name": "stdout",
     "output_type": "stream",
     "text": [
      "<class 'pandas.core.frame.DataFrame'>\n",
      "Int64Index: 478952 entries, 0 to 478966\n",
      "Data columns (total 6 columns):\n",
      " #   Column                  Non-Null Count   Dtype  \n",
      "---  ------                  --------------   -----  \n",
      " 0   order_id                478952 non-null  int64  \n",
      " 1   user_id                 478952 non-null  int64  \n",
      " 2   order_number            478952 non-null  int64  \n",
      " 3   order_dow               478952 non-null  int64  \n",
      " 4   order_hour_of_day       478952 non-null  int64  \n",
      " 5   days_since_prior_order  478952 non-null  float64\n",
      "dtypes: float64(1), int64(5)\n",
      "memory usage: 25.6 MB\n",
      "\n",
      "El valor mínimo es: 0\n",
      "El valor máximo: 23\n",
      "[13 12 19 20 11  8 18 15 16  9 22 10  0 14 17  1  7  6  2 21  3 23  5  4]\n",
      "Existen 24 valores únicos en la columna 'order_hour_of_day'\n"
     ]
    }
   ],
   "source": [
    "df_instacart.info()\n",
    "print()\n",
    "\n",
    "print(\"El valor mínimo es:\", df_instacart[\"order_hour_of_day\"].min())\n",
    "print(\"El valor máximo:\", df_instacart[\"order_hour_of_day\"].max())\n",
    "print(df_instacart[\"order_hour_of_day\"].unique())\n",
    "print(\"Existen\", df_instacart[\"order_hour_of_day\"].nunique(), \"valores únicos en la columna 'order_hour_of_day'\")"
   ]
  },
  {
   "cell_type": "code",
   "execution_count": 37,
   "id": "accessory-malaysia",
   "metadata": {
    "id": "accessory-malaysia"
   },
   "outputs": [
    {
     "name": "stdout",
     "output_type": "stream",
     "text": [
      "\n",
      "El valor mínimo es: 0\n",
      "El valor máximo: 6\n",
      "[6 5 0 4 3 1 2]\n",
      "Existen 7 valores únicos en la columna 'order_dow' que corresponden a los días de la semana\n"
     ]
    }
   ],
   "source": [
    "print()\n",
    "\n",
    "print(\"El valor mínimo es:\", df_instacart[\"order_dow\"].min())\n",
    "print(\"El valor máximo:\", df_instacart[\"order_dow\"].max())\n",
    "print(df_instacart[\"order_dow\"].unique())\n",
    "print(\"Existen\", df_instacart[\"order_dow\"].nunique(), \"valores únicos en la columna 'order_dow' que corresponden a los días de la semana\")"
   ]
  },
  {
   "cell_type": "code",
   "execution_count": 63,
   "id": "a936d187",
   "metadata": {},
   "outputs": [
    {
     "name": "stdout",
     "output_type": "stream",
     "text": [
      "0    84090\n",
      "1    82185\n",
      "2    65833\n",
      "5    63488\n",
      "6    62649\n",
      "3    60897\n",
      "4    59810\n",
      "Name: order_dow, dtype: int64\n"
     ]
    }
   ],
   "source": [
    "print(df_instacart[\"order_dow\"].value_counts())"
   ]
  },
  {
   "cell_type": "markdown",
   "id": "hmR2GNQ6lCsX",
   "metadata": {
    "id": "hmR2GNQ6lCsX"
   },
   "source": [
    "Escribe aquí tus conclusiones\n",
    "\n",
    "Vemos que los existen 24 valores únicos en la columna \"order_hour_of_day\", lo cuál hace sentido porque la columna indica la hora (en reloj de 24 horas) en la que se hizo un pedido. Los datos en la columna \"order_dow\" también hacen sentido ya que existen 6 valores únicos y cada uno representa un día de la semana. "
   ]
  },
  {
   "cell_type": "markdown",
   "id": "05d98600",
   "metadata": {},
   "source": [
    "<div class=\"alert alert-block alert-warning\">\n",
    "<b>Comentario Revisor</b> <a class=\"tocSkip\"></a>\n",
    "\n",
    "Muy buena forma de revisar que los valores sean sensibles. Otra forma de hacerlo que puedes explorar más adeltante es el uso de la función  .value_counts(). \n",
    "</div>"
   ]
  },
  {
   "cell_type": "markdown",
   "id": "abe2bad4",
   "metadata": {},
   "source": [
    "<div class=\"alert alert-block alert-info\">\n",
    "<b>Respuesta del estudiante.</b> <a class=\"tocSkip\"></a>\n",
    "</div>\n",
    "\n",
    "Gracias por el tip! Agregué una línea haciendo uso de value_counts. Ya ví que la función devuelve la cuenta de cada valor en la columna order_dow.\n",
    "</div>"
   ]
  },
  {
   "cell_type": "markdown",
   "id": "1b636561",
   "metadata": {},
   "source": [
    "<div class=\"alert alert-block alert-success\">\n",
    "<b>Comentario del revisor</b> <a class=\"tocSkip\"></a>\n",
    "\n",
    "Excelente, en futuros proyectos puedes seguir explorando estas herramientas"
   ]
  },
  {
   "cell_type": "markdown",
   "id": "a6743a70",
   "metadata": {
    "id": "a6743a70"
   },
   "source": [
    "### [A2] Para cada hora del día, ¿cuántas personas hacen órdenes?"
   ]
  },
  {
   "cell_type": "code",
   "execution_count": 38,
   "id": "a36cca27",
   "metadata": {
    "id": "a36cca27"
   },
   "outputs": [
    {
     "name": "stdout",
     "output_type": "stream",
     "text": [
      "order_hour_of_day\n",
      "4       765\n",
      "3       770\n",
      "2       989\n",
      "5      1371\n",
      "1      1763\n",
      "0      3180\n",
      "6      4215\n",
      "23     5611\n",
      "22     8512\n",
      "21    11019\n",
      "7     13043\n",
      "20    14624\n",
      "19    19547\n",
      "8     25024\n",
      "18    25510\n",
      "17    31930\n",
      "9     35896\n",
      "12    38034\n",
      "16    38112\n",
      "13    39007\n",
      "14    39631\n",
      "15    39789\n",
      "11    40032\n",
      "10    40578\n",
      "Name: user_id, dtype: int64\n",
      "\n",
      "El horario con más personas haciendo órdenes es a las order_hour_of_day\n",
      "10    40578\n",
      "Name: user_id, dtype: int64 del día\n",
      "El horario con menos personas haciendo órdenes es a las order_hour_of_day\n",
      "4    765\n",
      "Name: user_id, dtype: int64 del día\n"
     ]
    },
    {
     "data": {
      "text/plain": [
       "<AxesSubplot:title={'center':'Personas haciendo pedidos por hora'}, xlabel='Hora del día', ylabel='Numero de personas'>"
      ]
     },
     "execution_count": 38,
     "metadata": {},
     "output_type": "execute_result"
    },
    {
     "data": {
      "image/png": "[encoded data removed]",
      "text/plain": [
       "<Figure size 640x480 with 1 Axes>"
      ]
     },
     "metadata": {},
     "output_type": "display_data"
    }
   ],
   "source": [
    "orders_per_hour = df_instacart.groupby(\"order_hour_of_day\")[\"user_id\"].count() #agrupamos por hora y contamos cuántos id de usuario hay en cada una\n",
    "min_orders = orders_per_hour.min() #encontramos cuál es el \n",
    "max_orders = orders_per_hour.max()\n",
    "\n",
    "hours_max_orders = orders_per_hour.loc[orders_per_hour == max_orders] #extraemos la fila donde hay más usuarios\n",
    "hours_min_orders = orders_per_hour.loc[orders_per_hour == min_orders] #extraemos la fila donde hay menos usuarios\n",
    "\n",
    "print(orders_per_hour.sort_values()) #ordenamos la cantidad de usuarios por hora de menor a mayor\n",
    "print()\n",
    "print(\"El horario con más personas haciendo órdenes es a las\", hours_max_orders, \"del día\")\n",
    "print(\"El horario con menos personas haciendo órdenes es a las\", hours_min_orders, \"del día\")\n",
    "\n",
    "#Crea un gráfico que muestre el número de personas que hacen pedidos dependiendo de la hora del día.\n",
    "\n",
    "import matplotlib as plt\n",
    "\n",
    "orders_per_hour.plot(kind='bar', title = \"Personas haciendo pedidos por hora\", xlabel=\"Hora del día\", ylabel= \"Numero de personas\")"
   ]
  },
  {
   "cell_type": "markdown",
   "id": "11270eed",
   "metadata": {
    "id": "11270eed"
   },
   "source": [
    "Escribe aquí tus conclusiones\n",
    "\n",
    "Vemos que los horarios con más gente haciendo pedidos es a las 10 de la mañana. El horario con menos gente haciendo pedidos es a las 4 de la mañana."
   ]
  },
  {
   "cell_type": "markdown",
   "id": "9c818520",
   "metadata": {},
   "source": [
    "<div class=\"alert alert-block alert-success\">\n",
    "<b>Comentario revisor</b> <a class=\"tocSkip\"></a>\n",
    "\n",
    "\n",
    "Muy buen trabajo el desarrollar una gráfica para visualizar los resultados\n",
    "</div>"
   ]
  },
  {
   "cell_type": "markdown",
   "id": "documented-command",
   "metadata": {
    "id": "documented-command"
   },
   "source": [
    "### [A3] ¿Qué día de la semana compran víveres las personas?"
   ]
  },
  {
   "cell_type": "code",
   "execution_count": 39,
   "id": "chief-digit",
   "metadata": {
    "id": "chief-digit"
   },
   "outputs": [
    {
     "name": "stdout",
     "output_type": "stream",
     "text": [
      "order_dow\n",
      "4    59810\n",
      "3    60897\n",
      "6    62649\n",
      "5    63488\n",
      "2    65833\n",
      "1    82185\n",
      "0    84090\n",
      "Name: order_id, dtype: int64\n"
     ]
    },
    {
     "data": {
      "text/plain": [
       "<AxesSubplot:title={'center':'Pedidos por día'}, xlabel='Día de la semana', ylabel='Pedidos'>"
      ]
     },
     "execution_count": 39,
     "metadata": {},
     "output_type": "execute_result"
    },
    {
     "data": {
      "image/png": "[encoded data removed]",
      "text/plain": [
       "<Figure size 640x480 with 1 Axes>"
      ]
     },
     "metadata": {},
     "output_type": "display_data"
    }
   ],
   "source": [
    "#Crea un gráfico que muestre qué día de la semana la gente hace sus compras\n",
    "\n",
    "products_per_day = df_instacart.groupby(\"order_dow\")[\"order_id\"].count().sort_values() #agrupamos por día de la semana ycontamos cuántas ordenes hay en cada uno\n",
    "print(products_per_day)\n",
    "\n",
    "products_per_day.plot(kind=\"bar\",title=\"Pedidos por día\", \n",
    "                      xlabel=\"Día de la semana\",ylabel=\"Pedidos\")\n"
   ]
  },
  {
   "cell_type": "markdown",
   "id": "dominant-lightning",
   "metadata": {
    "id": "dominant-lightning"
   },
   "source": [
    "Escribe aquí tus conclusiones\n",
    "\n",
    "Vemos que el día con menos pedidos es el jueves y el domingo es el día con más pedidos."
   ]
  },
  {
   "cell_type": "markdown",
   "id": "cutting-concert",
   "metadata": {
    "id": "cutting-concert"
   },
   "source": [
    "### [A4] ¿Cuánto tiempo esperan las personas hasta hacer otro pedido? Comenta sobre los valores mínimos y máximos."
   ]
  },
  {
   "cell_type": "code",
   "execution_count": 40,
   "id": "c231f523",
   "metadata": {
    "id": "c231f523"
   },
   "outputs": [
    {
     "name": "stdout",
     "output_type": "stream",
     "text": [
      "31\n",
      "[30.  9.  2. 10. 17. 15. 22.  4.  8.  3. 12. 11.  7.  1.  5.  6. 14.  0.\n",
      " 20. 16. 24. 23. 27. 13. 28. 21. 25. 19. 18. 29. 26.]\n",
      "0.0\n",
      "30.0\n"
     ]
    },
    {
     "data": {
      "image/png": "[encoded data removed]",
      "text/plain": [
       "<Figure size 600x500 with 1 Axes>"
      ]
     },
     "metadata": {},
     "output_type": "display_data"
    }
   ],
   "source": [
    "#Crea un gráfico que muestre el tiempo que la gente espera hasta hacer su siguiente pedido, \n",
    "# y comenta sobre los valores mínimos y máximos\n",
    "\n",
    "min_days = df_instacart[\"days_since_prior_order\"].min() #mínimo de días hasta el siguiente pedido\n",
    "max_days = df_instacart[\"days_since_prior_order\"].max() #máximo de días hasta el siguiente pedido\n",
    "print(df_instacart[\"days_since_prior_order\"].nunique())\n",
    "print(df_instacart[\"days_since_prior_order\"].unique())\n",
    "print(min_days)\n",
    "print(max_days)\n",
    "\n",
    "from matplotlib import pyplot as plt\n",
    "\n",
    "df_instacart[\"days_since_prior_order\"].plot(kind=\"hist\",\n",
    "                                            title=\"Tiempo de espera hasta el siguiente pedido\", \n",
    "                                            xlabel=\"Días hasta el siguiente pedido\", \n",
    "                                            ylabel=\"Pedidos\", \n",
    "                                            figsize=[6,5])\n",
    "plt.xlabel(\"Días hasta el siguiente pedido\") #debido a que el objeto anterior es un Series y no tiene directamente los parámetros xlabel y ylabel. Debemos llamar a plot().\n",
    "plt.ylabel(\"Pedidos\")\n",
    "plt.show()\n"
   ]
  },
  {
   "cell_type": "markdown",
   "id": "discrete-vertex",
   "metadata": {
    "id": "discrete-vertex"
   },
   "source": [
    "Escribe aquí tus conclusiones"
   ]
  },
  {
   "cell_type": "markdown",
   "id": "df7cf7ca",
   "metadata": {},
   "source": [
    "<div class=\"alert alert-block alert-success\">\n",
    "<b>Comentario revisor</b> <a class=\"tocSkip\"></a>\n",
    "\n",
    "En los tres ejercicios finales, complementaste con alguna gráfica que ayuda al análisis de los resultados"
   ]
  },
  {
   "cell_type": "markdown",
   "id": "tight-staff",
   "metadata": {
    "id": "tight-staff"
   },
   "source": [
    "# [B] Intermedio (deben completarse todos para aprobar)\n",
    "\n",
    "1. ¿Existe alguna diferencia entre las distribuciones `'order_hour_of_day'` de los miércoles y los sábados? Traza gráficos de barra de `'order_hour_of_day'` para ambos días en la misma figura y describe las diferencias que observes.\n",
    "2. Grafica la distribución para el número de órdenes que hacen los clientes (es decir, cuántos clientes hicieron solo 1 pedido, cuántos hicieron 2, cuántos 3, y así sucesivamente...).\n",
    "3. ¿Cuáles son los 20 principales productos que se piden con más frecuencia (muestra su identificación y nombre)?"
   ]
  },
  {
   "cell_type": "markdown",
   "id": "packed-classic",
   "metadata": {
    "id": "packed-classic"
   },
   "source": [
    "### [B1] Diferencia entre miércoles y sábados para  `'order_hour_of_day'`. Traza gráficos de barra para los dos días y describe las diferencias que veas."
   ]
  },
  {
   "cell_type": "code",
   "execution_count": 41,
   "id": "94e54e8a",
   "metadata": {
    "id": "94e54e8a"
   },
   "outputs": [
    {
     "data": {
      "image/png": "[encoded data removed]",
      "text/plain": [
       "<Figure size 640x480 with 1 Axes>"
      ]
     },
     "metadata": {},
     "output_type": "display_data"
    }
   ],
   "source": [
    "pedidos_miercoles = df_instacart[df_instacart[\"order_dow\"]==3].groupby(\"order_hour_of_day\")[\"order_id\"].count().plot(kind=\"bar\", title=\"Pedidos el miércoles por hora\", xlabel=\"Hora del día\", ylabel=\"Pedidos\")"
   ]
  },
  {
   "cell_type": "code",
   "execution_count": 42,
   "id": "797c90a8",
   "metadata": {
    "id": "797c90a8"
   },
   "outputs": [
    {
     "data": {
      "image/png": "[encoded data removed]",
      "text/plain": [
       "<Figure size 640x480 with 1 Axes>"
      ]
     },
     "metadata": {},
     "output_type": "display_data"
    }
   ],
   "source": [
    "pedidos_sabado = df_instacart[df_instacart[\"order_dow\"]==5].groupby(\"order_hour_of_day\")[\"order_id\"].count().plot(kind=\"bar\", title=\"Pedidos el sábado por hora\", xlabel=\"Hora del día\", ylabel=\"Pedidos\")"
   ]
  },
  {
   "cell_type": "code",
   "execution_count": 43,
   "id": "35bcea30",
   "metadata": {
    "id": "35bcea30"
   },
   "outputs": [
    {
     "data": {
      "text/plain": [
       "<matplotlib.legend.Legend at 0x7f3ca9765850>"
      ]
     },
     "execution_count": 43,
     "metadata": {},
     "output_type": "execute_result"
    },
    {
     "data": {
      "image/png": "[encoded data removed]",
      "text/plain": [
       "<Figure size 500x300 with 1 Axes>"
      ]
     },
     "metadata": {},
     "output_type": "display_data"
    }
   ],
   "source": [
    "#¿Existe alguna diferencia entre las distribuciones 'order_hour_of_day' de los miércoles y los sábados? Traza gráficos de barra \n",
    "#de 'order_hour_of_day' para ambos días en la misma figura y describe las diferencias que observes.\n",
    "\n",
    "#primero filtramos los pedidos del miércoles, los agrupamos por hora y contamos los pedidos por hora   \n",
    "pedidos_miercoles = df_instacart[df_instacart[\"order_dow\"]==3].groupby(\"order_hour_of_day\")[\"order_id\"].count().plot(kind=\"bar\", \n",
    "                                                                                                                     title=\"Pedidos por hora Miércoles VS Sábado\", \n",
    "                                                                                                                     figsize=[5,3])  \n",
    "#filtramos los pedidos del sábado, agrupamos por hora del día y contamos los pedidos por hora\n",
    "pedidos_sabado = df_instacart[df_instacart[\"order_dow\"]==5].groupby(\"order_hour_of_day\")[\"order_id\"].count().plot(kind=\"bar\", \n",
    "                                                                                                                  alpha=0.5, \n",
    "                                                                                                                  xlabel=\"Hora del día\", \n",
    "                                                                                                                  ylabel=\"Pedidos\",\n",
    "                                                                                                                  figsize=[5,3]) \n",
    "\n",
    "plt.legend([\"Miércoles\", \"Sábado\"]) #agregamos la leyenda"
   ]
  },
  {
   "cell_type": "markdown",
   "id": "charitable-congo",
   "metadata": {
    "id": "charitable-congo"
   },
   "source": [
    "Escribe aquí tus conclusiones\n",
    "\n",
    "Observamos que los comportamientos de compra en ambos días son relativamente similares. Para compararlos mejor conviene juntar ambos gráficos en uno solo. Así podemos ver claramente que los sábados hay una mayor cantidad de pedidoa por la mañana, desde las 7am hasta las 4 pm."
   ]
  },
  {
   "cell_type": "markdown",
   "id": "e3891143",
   "metadata": {
    "id": "e3891143"
   },
   "source": [
    "### [B2] ¿Cuál es la distribución para el número de pedidos por cliente?"
   ]
  },
  {
   "cell_type": "code",
   "execution_count": 44,
   "id": "d8c26c23",
   "metadata": {
    "id": "d8c26c23"
   },
   "outputs": [
    {
     "name": "stdout",
     "output_type": "stream",
     "text": [
      "count    157437.000000\n",
      "mean          3.042182\n",
      "std           2.746842\n",
      "min           1.000000\n",
      "25%           1.000000\n",
      "50%           2.000000\n",
      "75%           4.000000\n",
      "max          28.000000\n",
      "Name: order_id, dtype: float64\n"
     ]
    },
    {
     "data": {
      "image/png": "[encoded data removed]",
      "text/plain": [
       "<Figure size 640x480 with 1 Axes>"
      ]
     },
     "metadata": {},
     "output_type": "display_data"
    }
   ],
   "source": [
    "#Grafica la distribución para el número de órdenes que hacen los clientes \n",
    "#(es decir, cuántos clientes hicieron solo 1 pedido, cuántos hicieron 2, cuántos 3, y así sucesivamente...)\n",
    "\n",
    "\n",
    "pedidos_por_cliente = df_instacart.groupby(\"user_id\")[\"order_id\"].count()#agrupamos por id de usuario y contamos cuántos pedidos hizo\n",
    "print(pedidos_por_cliente.describe()) #con describe podemos ver estadísticas descriptivas de la cuenta de pedidos por usuario\n",
    "                             \n",
    "pedidos_por_cliente.plot(kind=\"hist\", title=\"Pedidos por cliente\", xlabel=\"Número de pedidos\", ylabel=\"Clientes\",\n",
    "                        grid=True, bins=28) #ya que con el método describe vemos que un usuario puede hacer desde 1 hasta 28 pedidos, ajustamos el histograma con 28 contenedores\n",
    "plt.xlabel(\"Número de pedidos\")\n",
    "plt.ylabel(\"Clientes\")\n",
    "plt.show()"
   ]
  },
  {
   "cell_type": "code",
   "execution_count": 45,
   "id": "00e69a66",
   "metadata": {
    "id": "00e69a66"
   },
   "outputs": [
    {
     "name": "stdout",
     "output_type": "stream",
     "text": [
      "Pedidos por cliente\n",
      "1     55357\n",
      "2     36508\n",
      "3     21547\n",
      "4     13498\n",
      "5      8777\n",
      "6      6012\n",
      "7      4240\n",
      "8      3019\n",
      "9      2152\n",
      "10     1645\n",
      "11     1308\n",
      "12      947\n",
      "13      703\n",
      "14      512\n",
      "15      437\n",
      "16      263\n",
      "17      184\n",
      "18      121\n",
      "19       85\n",
      "20       52\n",
      "21       22\n",
      "22       23\n",
      "23       19\n",
      "24        3\n",
      "25        1\n",
      "26        1\n",
      "28        1\n",
      "Name: order_id, dtype: int64\n",
      "count       27.000000\n",
      "mean      5831.000000\n",
      "std      12825.723129\n",
      "min          1.000000\n",
      "25%         37.500000\n",
      "50%        512.000000\n",
      "75%       3629.500000\n",
      "max      55357.000000\n",
      "Name: order_id, dtype: float64\n"
     ]
    }
   ],
   "source": [
    "\n",
    "#value_counts cuenta cuántas veces aparece cada número de pedidos en pedidos_por_cliente, sort_index ordena el Series por el índice\n",
    "# que en este caso es el número de pedidos\n",
    "distribucion_pedidos = pedidos_por_cliente.value_counts().sort_index() \n",
    "print(\"Pedidos por cliente\")\n",
    "print(distribucion_pedidos) \n",
    "print(distribucion_pedidos.describe())"
   ]
  },
  {
   "cell_type": "markdown",
   "id": "d2eff7d5",
   "metadata": {
    "id": "d2eff7d5"
   },
   "source": [
    "Escribe aquí tus conclusiones\n",
    "\n",
    "Vemos que 55,357 personas hicieron al menos un pedido, mientras que solamente 1 persona hizo 28 pedidos. En promedio, los usuarios hacen 3 pedidos."
   ]
  },
  {
   "cell_type": "markdown",
   "id": "54a0319c",
   "metadata": {
    "id": "54a0319c"
   },
   "source": [
    "### [B3] ¿Cuáles son los 20 productos más populares (muestra su ID y nombre)?"
   ]
  },
  {
   "cell_type": "code",
   "execution_count": 46,
   "id": "exterior-arizona",
   "metadata": {
    "id": "exterior-arizona",
    "scrolled": true
   },
   "outputs": [],
   "source": [
    "# ¿Cuáles son los 20 principales productos que se piden con más frecuencia (muestra su identificación y nombre)?"
   ]
  },
  {
   "cell_type": "code",
   "execution_count": 47,
   "id": "bbcdd20b",
   "metadata": {
    "id": "bbcdd20b"
   },
   "outputs": [
    {
     "name": "stdout",
     "output_type": "stream",
     "text": [
      "    product_id  order_count\n",
      "0        24852        66050\n",
      "1        13176        53297\n",
      "2        21137        37039\n",
      "3        21903        33971\n",
      "4        47209        29773\n",
      "5        47766        24689\n",
      "6        47626        21495\n",
      "7        16797        20018\n",
      "8        26209        19690\n",
      "9        27845        19600\n",
      "10       27966        19197\n",
      "11       22935        15898\n",
      "12       24964        15292\n",
      "13       45007        14584\n",
      "14       39275        13879\n",
      "15       49683        13675\n",
      "16       28204        12544\n",
      "17        5876        12232\n",
      "18        8277        11993\n",
      "19       40706        11781\n",
      "\n",
      "\n",
      "<class 'pandas.core.frame.DataFrame'>\n",
      "Int64Index: 20 entries, 0 to 19\n",
      "Data columns (total 5 columns):\n",
      " #   Column         Non-Null Count  Dtype \n",
      "---  ------         --------------  ----- \n",
      " 0   product_id     20 non-null     int64 \n",
      " 1   order_count    20 non-null     int64 \n",
      " 2   product_name   20 non-null     object\n",
      " 3   aisle_id       20 non-null     int64 \n",
      " 4   department_id  20 non-null     int64 \n",
      "dtypes: int64(4), object(1)\n",
      "memory usage: 960.0+ bytes\n",
      "\n",
      "Información  de los 20 productos más vendidos\n",
      "\n",
      "    product_id              product_name  order_count\n",
      "0        24852                    BANANA        66050\n",
      "1        13176    BAG OF ORGANIC BANANAS        53297\n",
      "2        21137      ORGANIC STRAWBERRIES        37039\n",
      "3        21903      ORGANIC BABY SPINACH        33971\n",
      "4        47209      ORGANIC HASS AVOCADO        29773\n",
      "5        47766           ORGANIC AVOCADO        24689\n",
      "6        47626               LARGE LEMON        21495\n",
      "7        16797              STRAWBERRIES        20018\n",
      "8        26209                     LIMES        19690\n",
      "9        27845        ORGANIC WHOLE MILK        19600\n",
      "10       27966       ORGANIC RASPBERRIES        19197\n",
      "11       22935      ORGANIC YELLOW ONION        15898\n",
      "12       24964            ORGANIC GARLIC        15292\n",
      "13       45007          ORGANIC ZUCCHINI        14584\n",
      "14       39275       ORGANIC BLUEBERRIES        13879\n",
      "15       49683            CUCUMBER KIRBY        13675\n",
      "16       28204        ORGANIC FUJI APPLE        12544\n",
      "17        5876             ORGANIC LEMON        12232\n",
      "18        8277  APPLE HONEYCRISP ORGANIC        11993\n",
      "19       40706    ORGANIC GRAPE TOMATOES        11781\n"
     ]
    }
   ],
   "source": [
    "all_products = df_order_products['product_id'].value_counts()\n",
    "\n",
    "# Obtener los 20 productos más solicitados\n",
    "top_20 = all_products.head(20) # el índice va a ser el product_id y el valor a la derecha el número de veces que fue pedido\n",
    "top_20 = top_20.reset_index() #reseteamos el índice, es decir, creamos una nueva columna con un índice ordenado\n",
    "top_20.columns = ['product_id', 'order_count'] #renombramos las columnas, el viejo índice pasa a ser product_id y la otra columna el recuento de ese producto \n",
    "print(top_20)\n",
    "\n",
    "# Unimos top_20 con 'df_products' en la columna 'product_id'.Se combinan ambos df donde \n",
    "# coinciden los valores de product_id y merge añade las columnas de df_products correspondientes \n",
    "# a los product_id de top_20.\n",
    "print()\n",
    "top_20_info = top_20.merge(df_products, on='product_id') \n",
    "\n",
    "print()\n",
    "top_20_info.info()\n",
    "print()\n",
    "print(\"Información  de los 20 productos más vendidos\")\n",
    "print()\n",
    "#Mostramos solo las columas que nos interesan\n",
    "print(top_20_info[[\"product_id\", \"product_name\", \"order_count\"]])\n",
    "\n"
   ]
  },
  {
   "cell_type": "markdown",
   "id": "7df00f47",
   "metadata": {
    "id": "7df00f47"
   },
   "source": [
    "Escribe aquí tus conclusiones\n",
    "\n",
    "Vemos que los productos más comprados son frutas y verduras. El #1 más comprado son BANANAS y el #20 son ORGANIC GRAPE TOMATOES"
   ]
  },
  {
   "cell_type": "markdown",
   "id": "082e2c2e",
   "metadata": {},
   "source": [
    "<div class=\"alert alert-block alert-success\">\n",
    "<b>Comentario del revisor</b> <a class=\"tocSkip\"></a>\n",
    "\n",
    "Muy buen desarrollo de la sección. Desarrollaste de buena manera todos los análisis y lo complementaste con una gráfica.  \n",
    "</div>"
   ]
  },
  {
   "cell_type": "markdown",
   "id": "gross-theme",
   "metadata": {
    "id": "gross-theme"
   },
   "source": [
    "# [C] Difícil (deben completarse todos para aprobar)\n",
    "\n",
    "1. ¿Cuántos artículos suelen comprar las personas en un pedido? ¿Cómo es la distribución?\n",
    "2. ¿Cuáles son los 20 principales artículos que vuelven a pedirse con mayor frecuencia (muestra sus nombres e IDs de los productos)?\n",
    "3. Para cada producto, ¿cuál es la tasa de repetición del pedido (número de repeticiones de pedido/total de pedidos?\n",
    "4. Para cada cliente, ¿qué proporción de los productos que pidió ya los había pedido? Calcula la tasa de repetición de pedido para cada usuario en lugar de para cada producto.\n",
    "5. ¿Cuáles son los 20 principales artículos que la gente pone primero en sus carritos (muestra las IDs de los productos, sus nombres, y el número de veces en que fueron el primer artículo en añadirse al carrito)?"
   ]
  },
  {
   "cell_type": "markdown",
   "id": "romantic-deposit",
   "metadata": {
    "id": "romantic-deposit"
   },
   "source": [
    "### [C1] ¿Cuántos artículos compran normalmente las personas en un pedido? ¿Cómo es la distribución?"
   ]
  },
  {
   "cell_type": "code",
   "execution_count": 48,
   "id": "virtual-punch",
   "metadata": {
    "id": "virtual-punch"
   },
   "outputs": [
    {
     "name": "stdout",
     "output_type": "stream",
     "text": [
      "        order_id  product_count\n",
      "0              4             13\n",
      "1              9             15\n",
      "2             11              5\n",
      "3             19              3\n",
      "4             20              8\n",
      "...          ...            ...\n",
      "450041   3421034             17\n",
      "450042   3421053              9\n",
      "450043   3421071              5\n",
      "450044   3421077              4\n",
      "450045   3421079              1\n",
      "\n",
      "[450046 rows x 2 columns]\n",
      "\n",
      "Información sobre los artículos en los pedidos\n",
      "\n",
      "count    450046.000000\n",
      "mean         10.098983\n",
      "std           7.540206\n",
      "min           1.000000\n",
      "25%           5.000000\n",
      "50%           8.000000\n",
      "75%          14.000000\n",
      "max         127.000000\n",
      "Name: product_count, dtype: float64\n"
     ]
    }
   ],
   "source": [
    "products_by_order = df_order_products.groupby(\"order_id\")[\"product_id\"].count() #agrupamos por número de pedidp y contamos cuántos productos hay en cada pedido\n",
    "products_by_order = products_by_order.reset_index() #reseteamos el índice, es decir, creamos una nueva columna con un índice ordenado\n",
    "products_by_order.columns = ['order_id', 'product_count'] \n",
    "print(products_by_order)\n",
    "print()\n",
    "print(\"Información sobre los artículos en los pedidos\")\n",
    "print()\n",
    "print(products_by_order[\"product_count\"].describe())"
   ]
  },
  {
   "cell_type": "code",
   "execution_count": null,
   "id": "sensitive-breathing",
   "metadata": {
    "id": "sensitive-breathing"
   },
   "outputs": [],
   "source": []
  },
  {
   "cell_type": "code",
   "execution_count": null,
   "id": "completed-frank",
   "metadata": {
    "id": "completed-frank"
   },
   "outputs": [],
   "source": []
  },
  {
   "cell_type": "markdown",
   "id": "designed-mortality",
   "metadata": {
    "id": "designed-mortality"
   },
   "source": [
    "Escribe aquí tus conclusiones\n",
    "\n",
    "Observamos que un pedido puede contener hasta 127 artículos. En promedio, un pedido contiene 1o artículos."
   ]
  },
  {
   "cell_type": "markdown",
   "id": "5e6b5537",
   "metadata": {
    "id": "5e6b5537"
   },
   "source": [
    "### [C2] ¿Cuáles son los 20 principales artículos que vuelven a pedirse con mayor frecuencia (muestra sus nombres e IDs de los productos)?"
   ]
  },
  {
   "cell_type": "code",
   "execution_count": 49,
   "id": "9374e55a",
   "metadata": {
    "id": "9374e55a"
   },
   "outputs": [
    {
     "name": "stdout",
     "output_type": "stream",
     "text": [
      "Información de los 20 productos más reordenados\n",
      "\n",
      "    product_id              product_name  reorder_count\n",
      "0        24852                    BANANA          55763\n",
      "1        13176    BAG OF ORGANIC BANANAS          44450\n",
      "2        21137      ORGANIC STRAWBERRIES          28639\n",
      "3        21903      ORGANIC BABY SPINACH          26233\n",
      "4        47209      ORGANIC HASS AVOCADO          23629\n",
      "5        47766           ORGANIC AVOCADO          18743\n",
      "6        27845        ORGANIC WHOLE MILK          16251\n",
      "7        47626               LARGE LEMON          15044\n",
      "8        27966       ORGANIC RASPBERRIES          14748\n",
      "9        16797              STRAWBERRIES          13945\n",
      "10       26209                     LIMES          13327\n",
      "11       22935      ORGANIC YELLOW ONION          11145\n",
      "12       24964            ORGANIC GARLIC          10411\n",
      "13       45007          ORGANIC ZUCCHINI          10076\n",
      "14       49683            CUCUMBER KIRBY           9538\n",
      "15       28204        ORGANIC FUJI APPLE           8989\n",
      "16        8277  APPLE HONEYCRISP ORGANIC           8836\n",
      "17       39275       ORGANIC BLUEBERRIES           8799\n",
      "18        5876             ORGANIC LEMON           8412\n",
      "19       49235       ORGANIC HALF & HALF           8389\n"
     ]
    }
   ],
   "source": [
    "#Filtramos solo los productos que han sido reordenados\n",
    "reordered_products = df_order_products[df_order_products[\"reordered\"]==1] \n",
    "\n",
    "#contamos cuántas veces ha sido reordenado cada product_id con value_counts() y seleccionamos los 20 más reordenados\n",
    "#value counts ya ordena del más al menos reordenado \n",
    "top20_reordered_products = reordered_products[\"product_id\"].value_counts().head(20)\n",
    "top20_reordered_products = top20_reordered_products.reset_index() #restablecemos el índice\n",
    "top20_reordered_products.columns = ['product_id', 'reorder_count'] #renombramos las columnas para más claridad\n",
    "\n",
    "top20_info = top20_reordered_products.merge(df_products, on=\"product_id\") #unimos con df_products para incluir el nombre del producto\n",
    "print(\"Información de los 20 productos más reordenados\")\n",
    "print()\n",
    "print(top20_info[[\"product_id\", \"product_name\", \"reorder_count\"]])"
   ]
  },
  {
   "cell_type": "code",
   "execution_count": 50,
   "id": "possible-change",
   "metadata": {
    "id": "possible-change",
    "scrolled": true
   },
   "outputs": [
    {
     "name": "stdout",
     "output_type": "stream",
     "text": [
      "count       20.000000\n",
      "mean     17768.350000\n",
      "std      12714.578824\n",
      "min       8389.000000\n",
      "25%       9400.750000\n",
      "50%      13636.000000\n",
      "75%      19964.500000\n",
      "max      55763.000000\n",
      "Name: reorder_count, dtype: float64\n"
     ]
    }
   ],
   "source": [
    "print(top20_info[\"reorder_count\"].describe())"
   ]
  },
  {
   "cell_type": "code",
   "execution_count": null,
   "id": "professional-surfing",
   "metadata": {
    "id": "professional-surfing",
    "scrolled": true
   },
   "outputs": [],
   "source": []
  },
  {
   "cell_type": "code",
   "execution_count": null,
   "id": "48dd3658",
   "metadata": {
    "id": "48dd3658"
   },
   "outputs": [],
   "source": []
  },
  {
   "cell_type": "markdown",
   "id": "80e70c74",
   "metadata": {
    "id": "80e70c74"
   },
   "source": [
    "Escribe aquí tus conclusiones\n",
    "\n",
    "Vemos que los productos más reordenados son BANANAS 55,763 veces reordenado y el 20 más reordenado es ORGANIC HALF & HALF 8,389 veces reordenado. "
   ]
  },
  {
   "cell_type": "markdown",
   "id": "9d312b14",
   "metadata": {
    "id": "9d312b14"
   },
   "source": [
    "### [C3] Para cada producto, ¿cuál es la proporción de las veces que se pide y que se vuelve a pedir?"
   ]
  },
  {
   "cell_type": "code",
   "execution_count": 51,
   "id": "8ae9f4b1",
   "metadata": {
    "id": "8ae9f4b1"
   },
   "outputs": [
    {
     "data": {
      "text/html": [
       "<div>\n",
       "<style scoped>\n",
       "    .dataframe tbody tr th:only-of-type {\n",
       "        vertical-align: middle;\n",
       "    }\n",
       "\n",
       "    .dataframe tbody tr th {\n",
       "        vertical-align: top;\n",
       "    }\n",
       "\n",
       "    .dataframe thead th {\n",
       "        text-align: right;\n",
       "    }\n",
       "</style>\n",
       "<table border=\"1\" class=\"dataframe\">\n",
       "  <thead>\n",
       "    <tr style=\"text-align: right;\">\n",
       "      <th></th>\n",
       "      <th>product_id</th>\n",
       "      <th>product_name</th>\n",
       "      <th>reorder_ratio</th>\n",
       "    </tr>\n",
       "  </thead>\n",
       "  <tbody>\n",
       "    <tr>\n",
       "      <th>0</th>\n",
       "      <td>1</td>\n",
       "      <td>CHOCOLATE SANDWICH COOKIES</td>\n",
       "      <td>0.564286</td>\n",
       "    </tr>\n",
       "    <tr>\n",
       "      <th>1</th>\n",
       "      <td>2</td>\n",
       "      <td>ALL-SEASONS SALT</td>\n",
       "      <td>0.000000</td>\n",
       "    </tr>\n",
       "    <tr>\n",
       "      <th>2</th>\n",
       "      <td>3</td>\n",
       "      <td>ROBUST GOLDEN UNSWEETENED OOLONG TEA</td>\n",
       "      <td>0.738095</td>\n",
       "    </tr>\n",
       "    <tr>\n",
       "      <th>3</th>\n",
       "      <td>4</td>\n",
       "      <td>SMART ONES CLASSIC FAVORITES MINI RIGATONI WIT...</td>\n",
       "      <td>0.510204</td>\n",
       "    </tr>\n",
       "    <tr>\n",
       "      <th>4</th>\n",
       "      <td>7</td>\n",
       "      <td>PURE COCONUT WATER WITH ORANGE</td>\n",
       "      <td>0.500000</td>\n",
       "    </tr>\n",
       "    <tr>\n",
       "      <th>...</th>\n",
       "      <td>...</td>\n",
       "      <td>...</td>\n",
       "      <td>...</td>\n",
       "    </tr>\n",
       "    <tr>\n",
       "      <th>45568</th>\n",
       "      <td>49690</td>\n",
       "      <td>HIGH PERFORMANCE ENERGY DRINK</td>\n",
       "      <td>0.800000</td>\n",
       "    </tr>\n",
       "    <tr>\n",
       "      <th>45569</th>\n",
       "      <td>49691</td>\n",
       "      <td>ORIGINAL PANCAKE &amp; WAFFLE MIX</td>\n",
       "      <td>0.430556</td>\n",
       "    </tr>\n",
       "    <tr>\n",
       "      <th>45570</th>\n",
       "      <td>49692</td>\n",
       "      <td>ORGANIC INSTANT OATMEAL LIGHT MAPLE BROWN SUGAR</td>\n",
       "      <td>0.416667</td>\n",
       "    </tr>\n",
       "    <tr>\n",
       "      <th>45571</th>\n",
       "      <td>49693</td>\n",
       "      <td>SPRING WATER BODY WASH</td>\n",
       "      <td>0.440000</td>\n",
       "    </tr>\n",
       "    <tr>\n",
       "      <th>45572</th>\n",
       "      <td>49694</td>\n",
       "      <td>BURRITO- STEAK &amp; CHEESE</td>\n",
       "      <td>0.333333</td>\n",
       "    </tr>\n",
       "  </tbody>\n",
       "</table>\n",
       "<p>45573 rows × 3 columns</p>\n",
       "</div>"
      ],
      "text/plain": [
       "       product_id                                       product_name  \\\n",
       "0               1                         CHOCOLATE SANDWICH COOKIES   \n",
       "1               2                                   ALL-SEASONS SALT   \n",
       "2               3               ROBUST GOLDEN UNSWEETENED OOLONG TEA   \n",
       "3               4  SMART ONES CLASSIC FAVORITES MINI RIGATONI WIT...   \n",
       "4               7                     PURE COCONUT WATER WITH ORANGE   \n",
       "...           ...                                                ...   \n",
       "45568       49690                      HIGH PERFORMANCE ENERGY DRINK   \n",
       "45569       49691                      ORIGINAL PANCAKE & WAFFLE MIX   \n",
       "45570       49692    ORGANIC INSTANT OATMEAL LIGHT MAPLE BROWN SUGAR   \n",
       "45571       49693                             SPRING WATER BODY WASH   \n",
       "45572       49694                            BURRITO- STEAK & CHEESE   \n",
       "\n",
       "       reorder_ratio  \n",
       "0           0.564286  \n",
       "1           0.000000  \n",
       "2           0.738095  \n",
       "3           0.510204  \n",
       "4           0.500000  \n",
       "...              ...  \n",
       "45568       0.800000  \n",
       "45569       0.430556  \n",
       "45570       0.416667  \n",
       "45571       0.440000  \n",
       "45572       0.333333  \n",
       "\n",
       "[45573 rows x 3 columns]"
      ]
     },
     "execution_count": 51,
     "metadata": {},
     "output_type": "execute_result"
    }
   ],
   "source": [
    "product_orders = df_order_products.groupby('product_id').agg( #agrupamos la ordenes por product_id\n",
    "    total_orders=('order_id', 'count'), # creamos columna nueva y contamos el número de pedidos para cada producto\n",
    "    total_reorders=('reordered', 'sum')  #creamos columna nueva y sumamos los valores en \"reordered\" para ver cuántas veces fue reordenado     \n",
    ").reset_index()        \n",
    "\n",
    "# Calcular la proporción de reordenes\n",
    "#creamos nueva columna reorder_ratio que contiene la proporción de reordenes para cada producto\n",
    "product_orders['reorder_ratio'] = product_orders['total_reorders'] / product_orders['total_orders']\n",
    "\n",
    "# Unir con la tabla de productos para obtener los nombres de los productos\n",
    "#solo unimos las columnas product_id y product_name\n",
    "#la unión izquierda asegura que solo los valores del df derecho df_products que están presentes en el df izquierdo\n",
    "# product_orders se mantengan\n",
    "product_orders = product_orders.merge(df_products[['product_id', 'product_name']], on='product_id', how='left')\n",
    "\n",
    "# Mostrar el resultado\n",
    "product_orders[['product_id', 'product_name', 'reorder_ratio']]"
   ]
  },
  {
   "cell_type": "code",
   "execution_count": 52,
   "id": "103e7fe1",
   "metadata": {
    "id": "103e7fe1"
   },
   "outputs": [
    {
     "name": "stdout",
     "output_type": "stream",
     "text": [
      "count    45573.000000\n",
      "mean         0.386707\n",
      "std          0.272132\n",
      "min          0.000000\n",
      "25%          0.166667\n",
      "50%          0.408163\n",
      "75%          0.575758\n",
      "max          1.000000\n",
      "Name: reorder_ratio, dtype: float64\n"
     ]
    }
   ],
   "source": [
    "print(product_orders[\"reorder_ratio\"].describe())\n"
   ]
  },
  {
   "cell_type": "code",
   "execution_count": 53,
   "id": "social-individual",
   "metadata": {
    "id": "social-individual"
   },
   "outputs": [
    {
     "name": "stdout",
     "output_type": "stream",
     "text": [
      "Producto con la mayor proporción de reorden:\n",
      "product_id                                          154\n",
      "total_orders                                          1\n",
      "total_reorders                                        1\n",
      "reorder_ratio                                       1.0\n",
      "product_name      CORN DOGS- MINI- HONEY CRUNCHY FLAVOR\n",
      "Name: 138, dtype: object\n",
      "\n",
      "Producto con la menor proporción de reorden:\n",
      "product_id                       2\n",
      "total_orders                    11\n",
      "total_reorders                   0\n",
      "reorder_ratio                  0.0\n",
      "product_name      ALL-SEASONS SALT\n",
      "Name: 1, dtype: object\n"
     ]
    }
   ],
   "source": [
    "# Encontrar el producto con la mayor proporción de reorden\n",
    "# .idxmax() devuelve el índice de la fila donde reorder_ratio alcanza su valor máximo\n",
    "\n",
    "max_reorder_product = product_orders.loc[product_orders['reorder_ratio'].idxmax()]\n",
    "\n",
    "# Encontrar el producto con la menor proporción de reorden\n",
    "min_reorder_product = product_orders.loc[product_orders['reorder_ratio'].idxmin()]\n",
    "\n",
    "# Mostrar los resultados\n",
    "print(\"Producto con la mayor proporción de reorden:\")\n",
    "print(max_reorder_product)\n",
    "\n",
    "print(\"\\nProducto con la menor proporción de reorden:\")\n",
    "print(min_reorder_product)"
   ]
  },
  {
   "cell_type": "markdown",
   "id": "I10dEIAyldcO",
   "metadata": {
    "id": "I10dEIAyldcO"
   },
   "source": [
    "Escribe aquí tus conclusiones\n",
    "\n",
    "Vemos que en promedio, los productos tienen una proporción de reorden del 0.3867, o sea, se vuelven a ordenar 38.67% de las veces. El producto con menos proporción de reorden es ALL-SEASONS SALT y el producto con más proporción de reorden es CORN DOGS- MINI- HONEY CRUNCH FLAVOR.\n",
    "\n"
   ]
  },
  {
   "cell_type": "markdown",
   "id": "subject-boxing",
   "metadata": {
    "id": "subject-boxing"
   },
   "source": [
    "### [C4] Para cada cliente, ¿qué proporción de sus productos ya los había pedido?"
   ]
  },
  {
   "cell_type": "code",
   "execution_count": 54,
   "id": "medical-couple",
   "metadata": {
    "id": "medical-couple",
    "scrolled": true
   },
   "outputs": [
    {
     "data": {
      "text/html": [
       "<div>\n",
       "<style scoped>\n",
       "    .dataframe tbody tr th:only-of-type {\n",
       "        vertical-align: middle;\n",
       "    }\n",
       "\n",
       "    .dataframe tbody tr th {\n",
       "        vertical-align: top;\n",
       "    }\n",
       "\n",
       "    .dataframe thead th {\n",
       "        text-align: right;\n",
       "    }\n",
       "</style>\n",
       "<table border=\"1\" class=\"dataframe\">\n",
       "  <thead>\n",
       "    <tr style=\"text-align: right;\">\n",
       "      <th></th>\n",
       "      <th>user_id</th>\n",
       "      <th>reorder_ratio</th>\n",
       "    </tr>\n",
       "  </thead>\n",
       "  <tbody>\n",
       "    <tr>\n",
       "      <th>0</th>\n",
       "      <td>2</td>\n",
       "      <td>0.038462</td>\n",
       "    </tr>\n",
       "    <tr>\n",
       "      <th>1</th>\n",
       "      <td>4</td>\n",
       "      <td>0.000000</td>\n",
       "    </tr>\n",
       "    <tr>\n",
       "      <th>2</th>\n",
       "      <td>5</td>\n",
       "      <td>0.666667</td>\n",
       "    </tr>\n",
       "    <tr>\n",
       "      <th>3</th>\n",
       "      <td>6</td>\n",
       "      <td>0.000000</td>\n",
       "    </tr>\n",
       "    <tr>\n",
       "      <th>4</th>\n",
       "      <td>7</td>\n",
       "      <td>0.928571</td>\n",
       "    </tr>\n",
       "    <tr>\n",
       "      <th>...</th>\n",
       "      <td>...</td>\n",
       "      <td>...</td>\n",
       "    </tr>\n",
       "    <tr>\n",
       "      <th>149621</th>\n",
       "      <td>206203</td>\n",
       "      <td>0.222222</td>\n",
       "    </tr>\n",
       "    <tr>\n",
       "      <th>149622</th>\n",
       "      <td>206206</td>\n",
       "      <td>0.714286</td>\n",
       "    </tr>\n",
       "    <tr>\n",
       "      <th>149623</th>\n",
       "      <td>206207</td>\n",
       "      <td>0.891304</td>\n",
       "    </tr>\n",
       "    <tr>\n",
       "      <th>149624</th>\n",
       "      <td>206208</td>\n",
       "      <td>0.696000</td>\n",
       "    </tr>\n",
       "    <tr>\n",
       "      <th>149625</th>\n",
       "      <td>206209</td>\n",
       "      <td>0.320000</td>\n",
       "    </tr>\n",
       "  </tbody>\n",
       "</table>\n",
       "<p>149626 rows × 2 columns</p>\n",
       "</div>"
      ],
      "text/plain": [
       "        user_id  reorder_ratio\n",
       "0             2       0.038462\n",
       "1             4       0.000000\n",
       "2             5       0.666667\n",
       "3             6       0.000000\n",
       "4             7       0.928571\n",
       "...         ...            ...\n",
       "149621   206203       0.222222\n",
       "149622   206206       0.714286\n",
       "149623   206207       0.891304\n",
       "149624   206208       0.696000\n",
       "149625   206209       0.320000\n",
       "\n",
       "[149626 rows x 2 columns]"
      ]
     },
     "execution_count": 54,
     "metadata": {},
     "output_type": "execute_result"
    }
   ],
   "source": [
    "# Unir las tablas para obtener 'user_id' en cada pedido-producto\n",
    "orders_with_products = df_instacart.merge(df_order_products, on='order_id', how='inner')\n",
    "\n",
    "# Agrupar por 'user_id' para calcular total de productos pedidos y total de reordenes\n",
    "user_reorder_stats = orders_with_products.groupby('user_id').agg(\n",
    "    total_products=('order_id', 'size'),        # Total de productos pedidos por cliente\n",
    "    total_reorders=('reordered', 'sum')         # Total de productos reordenados por cliente\n",
    ").reset_index()\n",
    "\n",
    "# Calcular la proporción de reordenes para cada cliente, creamos nueva columna \"reorder_ratio\"\n",
    "user_reorder_stats['reorder_ratio'] = user_reorder_stats['total_reorders'] / user_reorder_stats['total_products']\n",
    "\n",
    "# Mostrar el resultado\n",
    "user_reorder_stats[['user_id', 'reorder_ratio']]"
   ]
  },
  {
   "cell_type": "code",
   "execution_count": 55,
   "id": "8892e4b4",
   "metadata": {
    "id": "8892e4b4"
   },
   "outputs": [
    {
     "name": "stdout",
     "output_type": "stream",
     "text": [
      "count    149626.000000\n",
      "mean          0.494853\n",
      "std           0.292685\n",
      "min           0.000000\n",
      "25%           0.272727\n",
      "50%           0.500000\n",
      "75%           0.724138\n",
      "max           1.000000\n",
      "Name: reorder_ratio, dtype: float64\n"
     ]
    }
   ],
   "source": [
    "print(user_reorder_stats[\"reorder_ratio\"].describe())\n",
    "\n",
    "\n"
   ]
  },
  {
   "cell_type": "markdown",
   "id": "BgJSvXDsleXz",
   "metadata": {
    "id": "BgJSvXDsleXz"
   },
   "source": [
    "Escribe aquí tus conclusiones\n",
    "\n",
    "En promedio, aproximadamente el 49.5% de los productos que los clientes han pedido ya habían sido pedidos anteriormente. Al menos un cliente no reordenó ningún producto. También hay clientes que reordenan todos los productos que piden. El 75% de los clientes tienen una proporción de reordenes del 72.4%\n",
    "\n",
    "\n"
   ]
  },
  {
   "cell_type": "markdown",
   "id": "92d35137",
   "metadata": {
    "id": "92d35137"
   },
   "source": [
    "### [C5] ¿Cuáles son los 20 principales artículos que las personas ponen primero en sus carritos?"
   ]
  },
  {
   "cell_type": "code",
   "execution_count": 56,
   "id": "0ae57274",
   "metadata": {
    "id": "0ae57274",
    "scrolled": true
   },
   "outputs": [
    {
     "name": "stdout",
     "output_type": "stream",
     "text": [
      "Los 20 principales artículos que las personas ponen primero en sus carritos:\n",
      "    product_id              product_name  count\n",
      "0        24852                    BANANA  65014\n",
      "1        13176    BAG OF ORGANIC BANANAS  52375\n",
      "2        21137      ORGANIC STRAWBERRIES  35444\n",
      "3        21903      ORGANIC BABY SPINACH  32479\n",
      "4        47209      ORGANIC HASS AVOCADO  28761\n",
      "5        47766           ORGANIC AVOCADO  23956\n",
      "6        47626               LARGE LEMON  20447\n",
      "7        16797              STRAWBERRIES  19167\n",
      "8        27845        ORGANIC WHOLE MILK  19153\n",
      "9        26209                     LIMES  18450\n",
      "10       27966       ORGANIC RASPBERRIES  18350\n",
      "11       22935      ORGANIC YELLOW ONION  14940\n",
      "12       24964            ORGANIC GARLIC  14362\n",
      "13       45007          ORGANIC ZUCCHINI  13670\n",
      "14       39275       ORGANIC BLUEBERRIES  13109\n",
      "15       49683            CUCUMBER KIRBY  13068\n",
      "16       28204        ORGANIC FUJI APPLE  12090\n",
      "17        5876             ORGANIC LEMON  11583\n",
      "18        8277  APPLE HONEYCRISP ORGANIC  11391\n",
      "19        4920       SEEDLESS RED GRAPES  11103\n"
     ]
    }
   ],
   "source": [
    "# Filtramos los productos que están en las primeras 20 posiciones de los carritos\n",
    "main20_products = df_order_products[df_order_products[\"add_to_cart_order\"] <= 20]\n",
    "# Contamos cuántas veces se ha añadido cada producto en esas posiciones\n",
    "main20_products_count = main20_products['product_id'].value_counts().head(20)\n",
    "# Restablecemos el índice\n",
    "main20_products_count = main20_products_count.reset_index()\n",
    "# Renombramos las columnas para mayor claridad\n",
    "main20_products_count.columns = ['product_id', 'count']\n",
    "\n",
    "# Unimos con df_products para incluir el nombre del producto\n",
    "main20_products_info = main20_products_count.merge(df_products, on=\"product_id\")\n",
    "\n",
    "# Mostramos la información de los 20 productos que se añaden primero al carrito\n",
    "print(\"Los 20 principales artículos que las personas ponen primero en sus carritos:\")\n",
    "print(main20_products_info[[\"product_id\", \"product_name\", \"count\"]])"
   ]
  },
  {
   "cell_type": "markdown",
   "id": "b1bff6b0",
   "metadata": {
    "id": "forty-netherlands",
    "scrolled": true
   },
   "source": [
    "<div class=\"alert alert-block alert-success\">\n",
    "<b>Comentario del revisor</b> <a class=\"tocSkip\"></a>\n",
    "\n",
    "Muy buen desarrollo de la sección. Desarrollaste de buena manera todos los análisis y lo complementaste con una gráfica.  \n",
    "</div>"
   ]
  },
  {
   "cell_type": "markdown",
   "id": "28ce9872",
   "metadata": {
    "id": "28ce9872"
   },
   "source": [
    "Escribe aquí tus conclusiones\n",
    "\n",
    "Los productos que primero se agregan son BANANA. En su mayoría los productos que primero se hechan a la cesta de compra son frutas y verdutas así como leche."
   ]
  },
  {
   "cell_type": "markdown",
   "id": "uITbFCEoDosC",
   "metadata": {
    "id": "uITbFCEoDosC"
   },
   "source": [
    "### Conclusion general del proyecto:"
   ]
  },
  {
   "cell_type": "markdown",
   "id": "e13d273c",
   "metadata": {
    "id": "Nk-4GS7mDwqY"
   },
   "source": [
    "En general el proyecto fue bastante retador, considero que apliqué la mayoría de conocimientos que he adquirido hasta ahora. También me queda más claro el uso de ciertos métodos cómo .reset_index(), .value_counts(), cómo agrupar datos, el filtrado de datos, etc,"
   ]
  },
  {
   "cell_type": "markdown",
   "id": "fe6b4112",
   "metadata": {},
   "source": [
    "<div class=\"alert alert-block alert-warning\">\n",
    "<b>Comentario revisor</b> <a class=\"tocSkip\"></a>\n",
    "\n",
    "Andrea, en general creo que hiciste un muy buen trabajo con el proyecto, pudiste limpiar y trabajar las bases de datos de beuna manera, análisis de duplicados, y de valores faltantes. Además dearrollaste de buena manera los diferentes anális que se solicitaban y cuando podías los complementabas con greaficas. No obstante, recuerda que siempre podemos mejorar y te menciono algunos puntos que debes considerar:\n",
    "\n",
    "* Revisar que los filtros sean correctos en algunos apartados con base en la indicación\n",
    "    \n",
    "    \n",
    "*  Realizar análisis complementarios eliminando los valores que parecen ser atípicos. \n",
    "    \n",
    "\n",
    "    \n",
    "*  Profundizar en los resultados intermedios y en la conclusión final.\n",
    "\n",
    "</div>"
   ]
  }
 ],
 "metadata": {
  "ExecuteTimeLog": [
   {
    "duration": 317,
    "start_time": "2024-10-25T03:45:06.214Z"
   },
   {
    "duration": 782,
    "start_time": "2024-10-25T03:45:07.818Z"
   },
   {
    "duration": 323,
    "start_time": "2024-10-25T03:46:03.043Z"
   },
   {
    "duration": 2306,
    "start_time": "2024-10-25T03:46:22.681Z"
   },
   {
    "duration": 2083,
    "start_time": "2024-10-25T03:46:41.731Z"
   },
   {
    "duration": 12,
    "start_time": "2024-10-25T03:46:43.817Z"
   },
   {
    "duration": 21,
    "start_time": "2024-10-25T03:46:53.395Z"
   },
   {
    "duration": 9,
    "start_time": "2024-10-25T03:47:15.764Z"
   },
   {
    "duration": 8,
    "start_time": "2024-10-25T03:47:51.604Z"
   },
   {
    "duration": 8,
    "start_time": "2024-10-25T03:48:12.107Z"
   },
   {
    "duration": 18,
    "start_time": "2024-10-25T03:48:25.230Z"
   },
   {
    "duration": 13,
    "start_time": "2024-10-25T03:48:32.295Z"
   },
   {
    "duration": 10,
    "start_time": "2024-10-25T03:48:49.751Z"
   },
   {
    "duration": 23,
    "start_time": "2024-10-25T03:49:13.006Z"
   },
   {
    "duration": 14,
    "start_time": "2024-10-25T03:49:17.378Z"
   },
   {
    "duration": 6,
    "start_time": "2024-10-25T03:49:48.583Z"
   },
   {
    "duration": 10,
    "start_time": "2024-10-25T03:49:59.396Z"
   },
   {
    "duration": 2,
    "start_time": "2024-10-25T04:09:56.683Z"
   },
   {
    "duration": 848,
    "start_time": "2024-10-25T04:10:00.175Z"
   },
   {
    "duration": 16,
    "start_time": "2024-10-25T04:10:04.654Z"
   },
   {
    "duration": 14,
    "start_time": "2024-10-25T04:10:07.903Z"
   },
   {
    "duration": 11,
    "start_time": "2024-10-25T04:10:13.805Z"
   },
   {
    "duration": 10,
    "start_time": "2024-10-25T04:10:20.828Z"
   },
   {
    "duration": 11,
    "start_time": "2024-10-25T04:10:47.870Z"
   },
   {
    "duration": 306,
    "start_time": "2024-10-25T13:44:55.223Z"
   },
   {
    "duration": 1024,
    "start_time": "2024-10-25T13:44:55.532Z"
   },
   {
    "duration": 19,
    "start_time": "2024-10-25T13:44:56.561Z"
   },
   {
    "duration": 13,
    "start_time": "2024-10-25T13:44:56.583Z"
   },
   {
    "duration": 10,
    "start_time": "2024-10-25T13:44:56.598Z"
   },
   {
    "duration": 10,
    "start_time": "2024-10-25T13:44:56.610Z"
   },
   {
    "duration": 10,
    "start_time": "2024-10-25T13:44:56.622Z"
   },
   {
    "duration": 7,
    "start_time": "2024-10-25T13:44:56.670Z"
   },
   {
    "duration": 2,
    "start_time": "2024-10-25T13:44:56.679Z"
   },
   {
    "duration": 2,
    "start_time": "2024-10-25T13:44:56.685Z"
   },
   {
    "duration": 2,
    "start_time": "2024-10-25T13:44:56.689Z"
   },
   {
    "duration": 2,
    "start_time": "2024-10-25T13:44:56.693Z"
   },
   {
    "duration": 3,
    "start_time": "2024-10-25T13:44:56.696Z"
   },
   {
    "duration": 2,
    "start_time": "2024-10-25T13:44:56.701Z"
   },
   {
    "duration": 2,
    "start_time": "2024-10-25T13:44:56.705Z"
   },
   {
    "duration": 3,
    "start_time": "2024-10-25T13:44:56.709Z"
   },
   {
    "duration": 3,
    "start_time": "2024-10-25T13:44:56.713Z"
   },
   {
    "duration": 3,
    "start_time": "2024-10-25T13:44:56.717Z"
   },
   {
    "duration": 3,
    "start_time": "2024-10-25T13:44:56.769Z"
   },
   {
    "duration": 3,
    "start_time": "2024-10-25T13:44:56.774Z"
   },
   {
    "duration": 2,
    "start_time": "2024-10-25T13:44:56.779Z"
   },
   {
    "duration": 2,
    "start_time": "2024-10-25T13:44:56.783Z"
   },
   {
    "duration": 3,
    "start_time": "2024-10-25T13:44:56.787Z"
   },
   {
    "duration": 2,
    "start_time": "2024-10-25T13:44:56.792Z"
   },
   {
    "duration": 2,
    "start_time": "2024-10-25T13:44:56.796Z"
   },
   {
    "duration": 2,
    "start_time": "2024-10-25T13:44:56.800Z"
   },
   {
    "duration": 2,
    "start_time": "2024-10-25T13:44:56.804Z"
   },
   {
    "duration": 2,
    "start_time": "2024-10-25T13:44:56.810Z"
   },
   {
    "duration": 3,
    "start_time": "2024-10-25T13:44:56.813Z"
   },
   {
    "duration": 2,
    "start_time": "2024-10-25T13:44:56.818Z"
   },
   {
    "duration": 2,
    "start_time": "2024-10-25T13:44:56.871Z"
   },
   {
    "duration": 3,
    "start_time": "2024-10-25T13:44:56.875Z"
   },
   {
    "duration": 4,
    "start_time": "2024-10-25T13:44:56.880Z"
   },
   {
    "duration": 2,
    "start_time": "2024-10-25T13:44:56.886Z"
   },
   {
    "duration": 95,
    "start_time": "2024-10-25T13:47:01.927Z"
   },
   {
    "duration": 189,
    "start_time": "2024-10-25T13:51:04.974Z"
   },
   {
    "duration": 104,
    "start_time": "2024-10-25T14:07:00.163Z"
   },
   {
    "duration": 98,
    "start_time": "2024-10-25T14:11:28.168Z"
   },
   {
    "duration": 184,
    "start_time": "2024-10-25T14:11:45.942Z"
   },
   {
    "duration": 165,
    "start_time": "2024-10-26T21:01:17.222Z"
   },
   {
    "duration": 327,
    "start_time": "2024-10-26T21:01:31.993Z"
   },
   {
    "duration": 1024,
    "start_time": "2024-10-26T21:01:32.322Z"
   },
   {
    "duration": 19,
    "start_time": "2024-10-26T21:01:33.347Z"
   },
   {
    "duration": 14,
    "start_time": "2024-10-26T21:01:33.368Z"
   },
   {
    "duration": 11,
    "start_time": "2024-10-26T21:01:33.384Z"
   },
   {
    "duration": 10,
    "start_time": "2024-10-26T21:01:33.397Z"
   },
   {
    "duration": 12,
    "start_time": "2024-10-26T21:01:33.442Z"
   },
   {
    "duration": 214,
    "start_time": "2024-10-26T21:01:33.456Z"
   },
   {
    "duration": 2,
    "start_time": "2024-10-26T21:01:33.672Z"
   },
   {
    "duration": 2,
    "start_time": "2024-10-26T21:01:33.676Z"
   },
   {
    "duration": 3,
    "start_time": "2024-10-26T21:01:33.680Z"
   },
   {
    "duration": 2,
    "start_time": "2024-10-26T21:01:33.685Z"
   },
   {
    "duration": 2,
    "start_time": "2024-10-26T21:01:33.689Z"
   },
   {
    "duration": 3,
    "start_time": "2024-10-26T21:01:33.695Z"
   },
   {
    "duration": 3,
    "start_time": "2024-10-26T21:01:33.699Z"
   },
   {
    "duration": 39,
    "start_time": "2024-10-26T21:01:33.703Z"
   },
   {
    "duration": 4,
    "start_time": "2024-10-26T21:01:33.744Z"
   },
   {
    "duration": 4,
    "start_time": "2024-10-26T21:01:33.749Z"
   },
   {
    "duration": 5,
    "start_time": "2024-10-26T21:01:33.754Z"
   },
   {
    "duration": 4,
    "start_time": "2024-10-26T21:01:33.760Z"
   },
   {
    "duration": 3,
    "start_time": "2024-10-26T21:01:33.766Z"
   },
   {
    "duration": 2,
    "start_time": "2024-10-26T21:01:33.771Z"
   },
   {
    "duration": 2,
    "start_time": "2024-10-26T21:01:33.775Z"
   },
   {
    "duration": 2,
    "start_time": "2024-10-26T21:01:33.779Z"
   },
   {
    "duration": 4,
    "start_time": "2024-10-26T21:01:33.783Z"
   },
   {
    "duration": 3,
    "start_time": "2024-10-26T21:01:33.788Z"
   },
   {
    "duration": 3,
    "start_time": "2024-10-26T21:01:33.792Z"
   },
   {
    "duration": 47,
    "start_time": "2024-10-26T21:01:33.797Z"
   },
   {
    "duration": 2,
    "start_time": "2024-10-26T21:01:33.846Z"
   },
   {
    "duration": 3,
    "start_time": "2024-10-26T21:01:33.850Z"
   },
   {
    "duration": 3,
    "start_time": "2024-10-26T21:01:33.854Z"
   },
   {
    "duration": 3,
    "start_time": "2024-10-26T21:01:33.859Z"
   },
   {
    "duration": 3,
    "start_time": "2024-10-26T21:01:33.864Z"
   },
   {
    "duration": 3,
    "start_time": "2024-10-26T21:01:33.869Z"
   },
   {
    "duration": 183,
    "start_time": "2024-10-26T21:02:41.409Z"
   },
   {
    "duration": 5,
    "start_time": "2024-10-26T21:09:17.241Z"
   },
   {
    "duration": 178,
    "start_time": "2024-10-26T21:09:32.106Z"
   },
   {
    "duration": 8,
    "start_time": "2024-10-26T21:09:37.300Z"
   },
   {
    "duration": 7,
    "start_time": "2024-10-26T21:09:51.997Z"
   },
   {
    "duration": 8,
    "start_time": "2024-10-26T21:10:02.987Z"
   },
   {
    "duration": 8,
    "start_time": "2024-10-26T21:11:13.895Z"
   },
   {
    "duration": 12,
    "start_time": "2024-10-26T21:11:35.096Z"
   },
   {
    "duration": 27,
    "start_time": "2024-10-26T21:12:25.946Z"
   },
   {
    "duration": 188,
    "start_time": "2024-10-26T21:16:28.280Z"
   },
   {
    "duration": 187,
    "start_time": "2024-10-26T21:16:35.549Z"
   },
   {
    "duration": 185,
    "start_time": "2024-10-26T21:16:45.629Z"
   },
   {
    "duration": 179,
    "start_time": "2024-10-26T21:17:04.578Z"
   },
   {
    "duration": 179,
    "start_time": "2024-10-26T21:17:27.607Z"
   },
   {
    "duration": 13,
    "start_time": "2024-10-26T21:18:19.946Z"
   },
   {
    "duration": 193,
    "start_time": "2024-10-26T21:18:55.543Z"
   },
   {
    "duration": 190,
    "start_time": "2024-10-26T21:19:03.673Z"
   },
   {
    "duration": 5,
    "start_time": "2024-10-26T21:19:19.465Z"
   },
   {
    "duration": 182,
    "start_time": "2024-10-26T21:19:23.742Z"
   },
   {
    "duration": 183,
    "start_time": "2024-10-26T21:19:31.305Z"
   },
   {
    "duration": 196,
    "start_time": "2024-10-26T21:21:20.820Z"
   },
   {
    "duration": 184,
    "start_time": "2024-10-26T21:21:43.556Z"
   },
   {
    "duration": 99,
    "start_time": "2024-10-26T21:21:58.605Z"
   },
   {
    "duration": 110,
    "start_time": "2024-10-26T21:22:27.739Z"
   },
   {
    "duration": 477,
    "start_time": "2024-10-26T21:22:32.796Z"
   },
   {
    "duration": 99,
    "start_time": "2024-10-26T21:22:41.750Z"
   },
   {
    "duration": 189,
    "start_time": "2024-10-26T21:23:04.414Z"
   },
   {
    "duration": 104,
    "start_time": "2024-10-26T21:23:29.069Z"
   },
   {
    "duration": 181,
    "start_time": "2024-10-26T21:23:44.318Z"
   },
   {
    "duration": 107,
    "start_time": "2024-10-26T21:24:01.443Z"
   },
   {
    "duration": 191,
    "start_time": "2024-10-26T21:24:07.017Z"
   },
   {
    "duration": 191,
    "start_time": "2024-10-26T21:24:22.139Z"
   },
   {
    "duration": 212,
    "start_time": "2024-10-26T21:24:30.206Z"
   },
   {
    "duration": 107,
    "start_time": "2024-10-26T21:26:40.155Z"
   },
   {
    "duration": 193,
    "start_time": "2024-10-26T21:27:00.771Z"
   },
   {
    "duration": 101,
    "start_time": "2024-10-26T21:28:14.678Z"
   },
   {
    "duration": 99,
    "start_time": "2024-10-26T21:37:54.034Z"
   },
   {
    "duration": 198,
    "start_time": "2024-10-26T21:38:49.225Z"
   },
   {
    "duration": 198,
    "start_time": "2024-10-26T21:38:58.254Z"
   },
   {
    "duration": 6,
    "start_time": "2024-10-26T21:39:23.588Z"
   },
   {
    "duration": 189,
    "start_time": "2024-10-26T21:39:55.481Z"
   },
   {
    "duration": 194,
    "start_time": "2024-10-26T21:44:13.598Z"
   },
   {
    "duration": 212,
    "start_time": "2024-10-26T21:49:31.915Z"
   },
   {
    "duration": 209,
    "start_time": "2024-10-26T21:50:10.343Z"
   },
   {
    "duration": 5,
    "start_time": "2024-10-26T21:54:00.938Z"
   },
   {
    "duration": 21,
    "start_time": "2024-10-26T21:54:10.785Z"
   },
   {
    "duration": 21,
    "start_time": "2024-10-26T21:55:05.260Z"
   },
   {
    "duration": 20,
    "start_time": "2024-10-26T21:55:13.956Z"
   },
   {
    "duration": 103,
    "start_time": "2024-10-26T21:59:16.600Z"
   },
   {
    "duration": 10,
    "start_time": "2024-10-26T21:59:55.987Z"
   },
   {
    "duration": 12,
    "start_time": "2024-10-26T21:59:59.832Z"
   },
   {
    "duration": 95,
    "start_time": "2024-10-26T22:00:19.936Z"
   },
   {
    "duration": 34,
    "start_time": "2024-10-26T22:05:44.909Z"
   },
   {
    "duration": 31,
    "start_time": "2024-10-26T22:06:53.942Z"
   },
   {
    "duration": 30,
    "start_time": "2024-10-26T22:07:02.077Z"
   },
   {
    "duration": 13,
    "start_time": "2024-10-26T22:12:34.906Z"
   },
   {
    "duration": 15,
    "start_time": "2024-10-26T22:12:50.260Z"
   },
   {
    "duration": 11,
    "start_time": "2024-10-26T22:14:36.764Z"
   },
   {
    "duration": 15,
    "start_time": "2024-10-26T22:14:58.602Z"
   },
   {
    "duration": 15,
    "start_time": "2024-10-26T22:16:03.398Z"
   },
   {
    "duration": 15,
    "start_time": "2024-10-26T22:17:07.493Z"
   },
   {
    "duration": 21,
    "start_time": "2024-10-26T22:18:43.089Z"
   },
   {
    "duration": 15,
    "start_time": "2024-10-26T22:19:16.926Z"
   },
   {
    "duration": 3,
    "start_time": "2024-10-26T22:20:08.400Z"
   },
   {
    "duration": 328,
    "start_time": "2024-10-26T22:26:38.592Z"
   },
   {
    "duration": 18,
    "start_time": "2024-10-26T22:27:36.486Z"
   },
   {
    "duration": 19,
    "start_time": "2024-10-26T22:27:50.715Z"
   },
   {
    "duration": 23,
    "start_time": "2024-10-26T22:37:02.967Z"
   },
   {
    "duration": 24,
    "start_time": "2024-10-26T22:37:27.952Z"
   },
   {
    "duration": 19,
    "start_time": "2024-10-26T22:37:45.121Z"
   },
   {
    "duration": 32,
    "start_time": "2024-10-26T22:38:14.584Z"
   },
   {
    "duration": 21,
    "start_time": "2024-10-26T22:38:21.583Z"
   },
   {
    "duration": 20,
    "start_time": "2024-10-26T22:38:30.119Z"
   },
   {
    "duration": 33,
    "start_time": "2024-10-26T22:38:44.146Z"
   },
   {
    "duration": 28,
    "start_time": "2024-10-26T22:39:06.646Z"
   },
   {
    "duration": 28,
    "start_time": "2024-10-26T22:39:39.601Z"
   },
   {
    "duration": 27,
    "start_time": "2024-10-26T22:40:12.277Z"
   },
   {
    "duration": 30,
    "start_time": "2024-10-26T22:40:21.961Z"
   },
   {
    "duration": 21,
    "start_time": "2024-10-26T22:40:44.643Z"
   },
   {
    "duration": 9,
    "start_time": "2024-10-26T22:44:09.349Z"
   },
   {
    "duration": 17,
    "start_time": "2024-10-26T22:45:19.576Z"
   },
   {
    "duration": 23,
    "start_time": "2024-10-26T22:45:28.069Z"
   },
   {
    "duration": 25,
    "start_time": "2024-10-26T22:50:12.695Z"
   },
   {
    "duration": 25,
    "start_time": "2024-10-26T22:50:22.197Z"
   },
   {
    "duration": 16,
    "start_time": "2024-10-26T22:52:24.691Z"
   },
   {
    "duration": 27,
    "start_time": "2024-10-26T22:54:03.642Z"
   },
   {
    "duration": 165,
    "start_time": "2024-10-26T22:54:28.230Z"
   },
   {
    "duration": 4,
    "start_time": "2024-10-26T22:55:10.548Z"
   },
   {
    "duration": 27,
    "start_time": "2024-10-26T22:55:14.328Z"
   },
   {
    "duration": 4,
    "start_time": "2024-10-26T22:56:34.958Z"
   },
   {
    "duration": 29,
    "start_time": "2024-10-26T22:56:44.599Z"
   },
   {
    "duration": 277,
    "start_time": "2024-10-26T22:57:15.429Z"
   },
   {
    "duration": 881,
    "start_time": "2024-10-26T22:57:15.707Z"
   },
   {
    "duration": 18,
    "start_time": "2024-10-26T22:57:16.590Z"
   },
   {
    "duration": 13,
    "start_time": "2024-10-26T22:57:16.611Z"
   },
   {
    "duration": 26,
    "start_time": "2024-10-26T22:57:16.625Z"
   },
   {
    "duration": 11,
    "start_time": "2024-10-26T22:57:16.654Z"
   },
   {
    "duration": 10,
    "start_time": "2024-10-26T22:57:16.666Z"
   },
   {
    "duration": 220,
    "start_time": "2024-10-26T22:57:16.678Z"
   },
   {
    "duration": 21,
    "start_time": "2024-10-26T22:57:16.901Z"
   },
   {
    "duration": 123,
    "start_time": "2024-10-26T22:57:16.925Z"
   },
   {
    "duration": 101,
    "start_time": "2024-10-26T22:57:17.050Z"
   },
   {
    "duration": 30,
    "start_time": "2024-10-26T22:57:17.153Z"
   },
   {
    "duration": 24,
    "start_time": "2024-10-26T22:57:17.185Z"
   },
   {
    "duration": 4,
    "start_time": "2024-10-26T22:57:17.211Z"
   },
   {
    "duration": 49,
    "start_time": "2024-10-26T22:57:17.217Z"
   },
   {
    "duration": 15,
    "start_time": "2024-10-26T22:57:17.268Z"
   },
   {
    "duration": 2,
    "start_time": "2024-10-26T22:57:17.285Z"
   },
   {
    "duration": 2,
    "start_time": "2024-10-26T22:57:17.289Z"
   },
   {
    "duration": 3,
    "start_time": "2024-10-26T22:57:17.292Z"
   },
   {
    "duration": 3,
    "start_time": "2024-10-26T22:57:17.296Z"
   },
   {
    "duration": 3,
    "start_time": "2024-10-26T22:57:17.300Z"
   },
   {
    "duration": 2,
    "start_time": "2024-10-26T22:57:17.305Z"
   },
   {
    "duration": 36,
    "start_time": "2024-10-26T22:57:17.308Z"
   },
   {
    "duration": 2,
    "start_time": "2024-10-26T22:57:17.346Z"
   },
   {
    "duration": 2,
    "start_time": "2024-10-26T22:57:17.350Z"
   },
   {
    "duration": 3,
    "start_time": "2024-10-26T22:57:17.353Z"
   },
   {
    "duration": 3,
    "start_time": "2024-10-26T22:57:17.357Z"
   },
   {
    "duration": 2,
    "start_time": "2024-10-26T22:57:17.364Z"
   },
   {
    "duration": 2,
    "start_time": "2024-10-26T22:57:17.369Z"
   },
   {
    "duration": 2,
    "start_time": "2024-10-26T22:57:17.372Z"
   },
   {
    "duration": 2,
    "start_time": "2024-10-26T22:57:17.376Z"
   },
   {
    "duration": 2,
    "start_time": "2024-10-26T22:57:17.380Z"
   },
   {
    "duration": 2,
    "start_time": "2024-10-26T22:57:17.384Z"
   },
   {
    "duration": 2,
    "start_time": "2024-10-26T22:57:17.388Z"
   },
   {
    "duration": 4,
    "start_time": "2024-10-26T22:58:12.946Z"
   },
   {
    "duration": 20,
    "start_time": "2024-10-26T22:59:29.905Z"
   },
   {
    "duration": 12,
    "start_time": "2024-10-26T23:10:56.291Z"
   },
   {
    "duration": 11,
    "start_time": "2024-10-26T23:11:07.836Z"
   },
   {
    "duration": 184,
    "start_time": "2024-10-26T23:16:29.089Z"
   },
   {
    "duration": 10,
    "start_time": "2024-10-26T23:16:37.535Z"
   },
   {
    "duration": 11,
    "start_time": "2024-10-26T23:18:48.033Z"
   },
   {
    "duration": 8,
    "start_time": "2024-10-26T23:19:14.279Z"
   },
   {
    "duration": 5,
    "start_time": "2024-10-26T23:22:10.038Z"
   },
   {
    "duration": 9,
    "start_time": "2024-10-26T23:25:01.612Z"
   },
   {
    "duration": 10,
    "start_time": "2024-10-26T23:25:12.708Z"
   },
   {
    "duration": 10,
    "start_time": "2024-10-26T23:25:59.530Z"
   },
   {
    "duration": 10,
    "start_time": "2024-10-26T23:26:05.056Z"
   },
   {
    "duration": 10,
    "start_time": "2024-10-26T23:27:11.270Z"
   },
   {
    "duration": 10,
    "start_time": "2024-10-26T23:27:21.716Z"
   },
   {
    "duration": 10,
    "start_time": "2024-10-26T23:27:39.974Z"
   },
   {
    "duration": 20,
    "start_time": "2024-10-26T23:27:47.326Z"
   },
   {
    "duration": 11,
    "start_time": "2024-10-26T23:28:18.373Z"
   },
   {
    "duration": 15,
    "start_time": "2024-10-26T23:28:50.837Z"
   },
   {
    "duration": 10,
    "start_time": "2024-10-26T23:29:47.389Z"
   },
   {
    "duration": 12,
    "start_time": "2024-10-26T23:30:25.234Z"
   },
   {
    "duration": 3,
    "start_time": "2024-10-26T23:30:32.011Z"
   },
   {
    "duration": 11,
    "start_time": "2024-10-26T23:30:58.985Z"
   },
   {
    "duration": 3,
    "start_time": "2024-10-26T23:33:03.008Z"
   },
   {
    "duration": 14,
    "start_time": "2024-10-26T23:33:08.672Z"
   },
   {
    "duration": 776,
    "start_time": "2024-10-26T23:35:36.563Z"
   },
   {
    "duration": 783,
    "start_time": "2024-10-26T23:35:43.634Z"
   },
   {
    "duration": 507,
    "start_time": "2024-10-26T23:39:25.659Z"
   },
   {
    "duration": 117,
    "start_time": "2024-10-26T23:40:04.919Z"
   },
   {
    "duration": 57,
    "start_time": "2024-10-26T23:40:52.974Z"
   },
   {
    "duration": 47,
    "start_time": "2024-10-26T23:43:29.145Z"
   },
   {
    "duration": 2,
    "start_time": "2024-10-26T23:44:25.788Z"
   },
   {
    "duration": 27,
    "start_time": "2024-10-26T23:45:25.669Z"
   },
   {
    "duration": 280,
    "start_time": "2024-10-26T23:47:31.112Z"
   },
   {
    "duration": 923,
    "start_time": "2024-10-26T23:47:31.394Z"
   },
   {
    "duration": 27,
    "start_time": "2024-10-26T23:47:32.320Z"
   },
   {
    "duration": 14,
    "start_time": "2024-10-26T23:47:32.350Z"
   },
   {
    "duration": 11,
    "start_time": "2024-10-26T23:47:32.365Z"
   },
   {
    "duration": 11,
    "start_time": "2024-10-26T23:47:32.377Z"
   },
   {
    "duration": 10,
    "start_time": "2024-10-26T23:47:32.389Z"
   },
   {
    "duration": 242,
    "start_time": "2024-10-26T23:47:32.402Z"
   },
   {
    "duration": 23,
    "start_time": "2024-10-26T23:47:32.645Z"
   },
   {
    "duration": 114,
    "start_time": "2024-10-26T23:47:32.671Z"
   },
   {
    "duration": 108,
    "start_time": "2024-10-26T23:47:32.787Z"
   },
   {
    "duration": 30,
    "start_time": "2024-10-26T23:47:32.897Z"
   },
   {
    "duration": 37,
    "start_time": "2024-10-26T23:47:32.929Z"
   },
   {
    "duration": 3,
    "start_time": "2024-10-26T23:47:32.968Z"
   },
   {
    "duration": 20,
    "start_time": "2024-10-26T23:47:32.974Z"
   },
   {
    "duration": 16,
    "start_time": "2024-10-26T23:47:32.995Z"
   },
   {
    "duration": 35,
    "start_time": "2024-10-26T23:47:33.013Z"
   },
   {
    "duration": 6,
    "start_time": "2024-10-26T23:47:33.050Z"
   },
   {
    "duration": 14,
    "start_time": "2024-10-26T23:47:33.059Z"
   },
   {
    "duration": 4,
    "start_time": "2024-10-26T23:47:33.074Z"
   },
   {
    "duration": 821,
    "start_time": "2024-10-26T23:47:33.079Z"
   },
   {
    "duration": 191,
    "start_time": "2024-10-26T23:47:33.902Z"
   },
   {
    "duration": 0,
    "start_time": "2024-10-26T23:47:34.095Z"
   },
   {
    "duration": 0,
    "start_time": "2024-10-26T23:47:34.097Z"
   },
   {
    "duration": 0,
    "start_time": "2024-10-26T23:47:34.097Z"
   },
   {
    "duration": 0,
    "start_time": "2024-10-26T23:47:34.098Z"
   },
   {
    "duration": 0,
    "start_time": "2024-10-26T23:47:34.100Z"
   },
   {
    "duration": 0,
    "start_time": "2024-10-26T23:47:34.100Z"
   },
   {
    "duration": 0,
    "start_time": "2024-10-26T23:47:34.102Z"
   },
   {
    "duration": 0,
    "start_time": "2024-10-26T23:47:34.102Z"
   },
   {
    "duration": 0,
    "start_time": "2024-10-26T23:47:34.103Z"
   },
   {
    "duration": 0,
    "start_time": "2024-10-26T23:47:34.105Z"
   },
   {
    "duration": 0,
    "start_time": "2024-10-26T23:47:34.106Z"
   },
   {
    "duration": 0,
    "start_time": "2024-10-26T23:47:34.107Z"
   },
   {
    "duration": 13,
    "start_time": "2024-10-26T23:48:34.119Z"
   },
   {
    "duration": 12,
    "start_time": "2024-10-26T23:48:49.742Z"
   },
   {
    "duration": 13,
    "start_time": "2024-10-26T23:48:59.105Z"
   },
   {
    "duration": 28,
    "start_time": "2024-10-26T23:49:06.747Z"
   },
   {
    "duration": 172,
    "start_time": "2024-10-26T23:52:59.471Z"
   },
   {
    "duration": 28,
    "start_time": "2024-10-26T23:53:29.868Z"
   },
   {
    "duration": 27,
    "start_time": "2024-10-26T23:56:26.889Z"
   },
   {
    "duration": 26,
    "start_time": "2024-10-26T23:57:01.958Z"
   },
   {
    "duration": 48,
    "start_time": "2024-10-26T23:58:22.218Z"
   },
   {
    "duration": 2,
    "start_time": "2024-10-26T23:58:31.843Z"
   },
   {
    "duration": 15,
    "start_time": "2024-10-27T00:00:57.211Z"
   },
   {
    "duration": 13,
    "start_time": "2024-10-27T00:02:13.871Z"
   },
   {
    "duration": 5,
    "start_time": "2024-10-27T00:16:28.576Z"
   },
   {
    "duration": 13,
    "start_time": "2024-10-27T00:16:47.179Z"
   },
   {
    "duration": 13,
    "start_time": "2024-10-27T00:17:17.486Z"
   },
   {
    "duration": 12,
    "start_time": "2024-10-27T00:20:11.552Z"
   },
   {
    "duration": 296,
    "start_time": "2024-10-27T00:20:26.436Z"
   },
   {
    "duration": 876,
    "start_time": "2024-10-27T00:20:26.734Z"
   },
   {
    "duration": 19,
    "start_time": "2024-10-27T00:20:27.612Z"
   },
   {
    "duration": 21,
    "start_time": "2024-10-27T00:20:27.632Z"
   },
   {
    "duration": 11,
    "start_time": "2024-10-27T00:20:27.655Z"
   },
   {
    "duration": 11,
    "start_time": "2024-10-27T00:20:27.668Z"
   },
   {
    "duration": 10,
    "start_time": "2024-10-27T00:20:27.681Z"
   },
   {
    "duration": 239,
    "start_time": "2024-10-27T00:20:27.693Z"
   },
   {
    "duration": 21,
    "start_time": "2024-10-27T00:20:27.942Z"
   },
   {
    "duration": 112,
    "start_time": "2024-10-27T00:20:27.967Z"
   },
   {
    "duration": 105,
    "start_time": "2024-10-27T00:20:28.081Z"
   },
   {
    "duration": 31,
    "start_time": "2024-10-27T00:20:28.188Z"
   },
   {
    "duration": 35,
    "start_time": "2024-10-27T00:20:28.220Z"
   },
   {
    "duration": 4,
    "start_time": "2024-10-27T00:20:28.257Z"
   },
   {
    "duration": 21,
    "start_time": "2024-10-27T00:20:28.262Z"
   },
   {
    "duration": 17,
    "start_time": "2024-10-27T00:20:28.285Z"
   },
   {
    "duration": 9,
    "start_time": "2024-10-27T00:20:28.304Z"
   },
   {
    "duration": 5,
    "start_time": "2024-10-27T00:20:28.343Z"
   },
   {
    "duration": 11,
    "start_time": "2024-10-27T00:20:28.350Z"
   },
   {
    "duration": 3,
    "start_time": "2024-10-27T00:20:28.363Z"
   },
   {
    "duration": 815,
    "start_time": "2024-10-27T00:20:28.368Z"
   },
   {
    "duration": 735,
    "start_time": "2024-10-27T00:20:29.185Z"
   },
   {
    "duration": 2,
    "start_time": "2024-10-27T00:20:29.922Z"
   },
   {
    "duration": 17,
    "start_time": "2024-10-27T00:20:29.926Z"
   },
   {
    "duration": 2,
    "start_time": "2024-10-27T00:20:29.945Z"
   },
   {
    "duration": 2,
    "start_time": "2024-10-27T00:20:29.949Z"
   },
   {
    "duration": 2,
    "start_time": "2024-10-27T00:20:29.953Z"
   },
   {
    "duration": 1,
    "start_time": "2024-10-27T00:20:29.959Z"
   },
   {
    "duration": 2,
    "start_time": "2024-10-27T00:20:29.962Z"
   },
   {
    "duration": 2,
    "start_time": "2024-10-27T00:20:29.966Z"
   },
   {
    "duration": 3,
    "start_time": "2024-10-27T00:20:29.970Z"
   },
   {
    "duration": 3,
    "start_time": "2024-10-27T00:20:29.975Z"
   },
   {
    "duration": 3,
    "start_time": "2024-10-27T00:20:29.979Z"
   },
   {
    "duration": 3,
    "start_time": "2024-10-27T00:20:29.983Z"
   },
   {
    "duration": 675,
    "start_time": "2024-10-27T00:25:12.505Z"
   },
   {
    "duration": 51,
    "start_time": "2024-10-27T00:26:36.053Z"
   },
   {
    "duration": 733,
    "start_time": "2024-10-27T00:27:18.801Z"
   },
   {
    "duration": 163,
    "start_time": "2024-10-28T01:20:41.355Z"
   },
   {
    "duration": 12,
    "start_time": "2024-10-28T01:20:45.782Z"
   },
   {
    "duration": 329,
    "start_time": "2024-10-28T01:21:00.527Z"
   },
   {
    "duration": 1017,
    "start_time": "2024-10-28T01:21:00.859Z"
   },
   {
    "duration": 21,
    "start_time": "2024-10-28T01:21:01.878Z"
   },
   {
    "duration": 13,
    "start_time": "2024-10-28T01:21:01.902Z"
   },
   {
    "duration": 12,
    "start_time": "2024-10-28T01:21:01.932Z"
   },
   {
    "duration": 16,
    "start_time": "2024-10-28T01:21:01.946Z"
   },
   {
    "duration": 13,
    "start_time": "2024-10-28T01:21:01.965Z"
   },
   {
    "duration": 232,
    "start_time": "2024-10-28T01:21:01.981Z"
   },
   {
    "duration": 29,
    "start_time": "2024-10-28T01:21:02.215Z"
   },
   {
    "duration": 110,
    "start_time": "2024-10-28T01:21:02.247Z"
   },
   {
    "duration": 108,
    "start_time": "2024-10-28T01:21:02.359Z"
   },
   {
    "duration": 31,
    "start_time": "2024-10-28T01:21:02.469Z"
   },
   {
    "duration": 34,
    "start_time": "2024-10-28T01:21:02.502Z"
   },
   {
    "duration": 4,
    "start_time": "2024-10-28T01:21:02.538Z"
   },
   {
    "duration": 20,
    "start_time": "2024-10-28T01:21:02.544Z"
   },
   {
    "duration": 17,
    "start_time": "2024-10-28T01:21:02.566Z"
   },
   {
    "duration": 10,
    "start_time": "2024-10-28T01:21:02.585Z"
   },
   {
    "duration": 37,
    "start_time": "2024-10-28T01:21:02.597Z"
   },
   {
    "duration": 11,
    "start_time": "2024-10-28T01:21:02.636Z"
   },
   {
    "duration": 8,
    "start_time": "2024-10-28T01:21:02.650Z"
   },
   {
    "duration": 835,
    "start_time": "2024-10-28T01:21:02.660Z"
   },
   {
    "duration": 728,
    "start_time": "2024-10-28T01:21:03.499Z"
   },
   {
    "duration": 6,
    "start_time": "2024-10-28T01:21:04.232Z"
   },
   {
    "duration": 2,
    "start_time": "2024-10-28T01:21:04.241Z"
   },
   {
    "duration": 3,
    "start_time": "2024-10-28T01:21:04.245Z"
   },
   {
    "duration": 3,
    "start_time": "2024-10-28T01:21:04.249Z"
   },
   {
    "duration": 3,
    "start_time": "2024-10-28T01:21:04.253Z"
   },
   {
    "duration": 2,
    "start_time": "2024-10-28T01:21:04.260Z"
   },
   {
    "duration": 3,
    "start_time": "2024-10-28T01:21:04.263Z"
   },
   {
    "duration": 3,
    "start_time": "2024-10-28T01:21:04.267Z"
   },
   {
    "duration": 3,
    "start_time": "2024-10-28T01:21:04.271Z"
   },
   {
    "duration": 2,
    "start_time": "2024-10-28T01:21:04.275Z"
   },
   {
    "duration": 2,
    "start_time": "2024-10-28T01:21:04.279Z"
   },
   {
    "duration": 49,
    "start_time": "2024-10-28T01:21:04.283Z"
   },
   {
    "duration": 176,
    "start_time": "2024-10-28T01:21:39.031Z"
   },
   {
    "duration": 12,
    "start_time": "2024-10-28T01:21:47.210Z"
   },
   {
    "duration": 14,
    "start_time": "2024-10-28T01:21:54.865Z"
   },
   {
    "duration": 5,
    "start_time": "2024-10-28T01:23:00.313Z"
   },
   {
    "duration": 12,
    "start_time": "2024-10-28T01:23:05.762Z"
   },
   {
    "duration": 205,
    "start_time": "2024-10-28T01:23:17.184Z"
   },
   {
    "duration": 298,
    "start_time": "2024-10-28T01:23:42.423Z"
   },
   {
    "duration": 16,
    "start_time": "2024-10-28T01:27:19.440Z"
   },
   {
    "duration": 16,
    "start_time": "2024-10-28T01:27:44.445Z"
   },
   {
    "duration": 17,
    "start_time": "2024-10-28T01:28:57.125Z"
   },
   {
    "duration": 3,
    "start_time": "2024-10-28T01:29:08.458Z"
   },
   {
    "duration": 5,
    "start_time": "2024-10-28T01:30:31.330Z"
   },
   {
    "duration": 4,
    "start_time": "2024-10-28T01:30:52.619Z"
   },
   {
    "duration": 4,
    "start_time": "2024-10-28T01:31:34.185Z"
   },
   {
    "duration": 16,
    "start_time": "2024-10-28T01:31:44.208Z"
   },
   {
    "duration": 5,
    "start_time": "2024-10-28T01:32:36.837Z"
   },
   {
    "duration": 17,
    "start_time": "2024-10-28T01:33:10.372Z"
   },
   {
    "duration": 18,
    "start_time": "2024-10-28T01:33:53.605Z"
   },
   {
    "duration": 17,
    "start_time": "2024-10-28T01:34:20.239Z"
   },
   {
    "duration": 18,
    "start_time": "2024-10-28T01:34:29.843Z"
   },
   {
    "duration": 14,
    "start_time": "2024-10-28T01:38:18.813Z"
   },
   {
    "duration": 280,
    "start_time": "2024-10-28T01:38:28.712Z"
   },
   {
    "duration": 886,
    "start_time": "2024-10-28T01:38:28.994Z"
   },
   {
    "duration": 18,
    "start_time": "2024-10-28T01:38:29.882Z"
   },
   {
    "duration": 29,
    "start_time": "2024-10-28T01:38:29.903Z"
   },
   {
    "duration": 11,
    "start_time": "2024-10-28T01:38:29.934Z"
   },
   {
    "duration": 10,
    "start_time": "2024-10-28T01:38:29.947Z"
   },
   {
    "duration": 10,
    "start_time": "2024-10-28T01:38:29.959Z"
   },
   {
    "duration": 239,
    "start_time": "2024-10-28T01:38:29.971Z"
   },
   {
    "duration": 29,
    "start_time": "2024-10-28T01:38:30.212Z"
   },
   {
    "duration": 114,
    "start_time": "2024-10-28T01:38:30.246Z"
   },
   {
    "duration": 108,
    "start_time": "2024-10-28T01:38:30.361Z"
   },
   {
    "duration": 31,
    "start_time": "2024-10-28T01:38:30.471Z"
   },
   {
    "duration": 34,
    "start_time": "2024-10-28T01:38:30.504Z"
   },
   {
    "duration": 4,
    "start_time": "2024-10-28T01:38:30.539Z"
   },
   {
    "duration": 19,
    "start_time": "2024-10-28T01:38:30.545Z"
   },
   {
    "duration": 19,
    "start_time": "2024-10-28T01:38:30.566Z"
   },
   {
    "duration": 12,
    "start_time": "2024-10-28T01:38:30.587Z"
   },
   {
    "duration": 32,
    "start_time": "2024-10-28T01:38:30.600Z"
   },
   {
    "duration": 11,
    "start_time": "2024-10-28T01:38:30.634Z"
   },
   {
    "duration": 3,
    "start_time": "2024-10-28T01:38:30.647Z"
   },
   {
    "duration": 857,
    "start_time": "2024-10-28T01:38:30.651Z"
   },
   {
    "duration": 713,
    "start_time": "2024-10-28T01:38:31.510Z"
   },
   {
    "duration": 20,
    "start_time": "2024-10-28T01:38:32.225Z"
   },
   {
    "duration": 92,
    "start_time": "2024-10-28T01:38:32.247Z"
   },
   {
    "duration": 0,
    "start_time": "2024-10-28T01:38:32.341Z"
   },
   {
    "duration": 0,
    "start_time": "2024-10-28T01:38:32.342Z"
   },
   {
    "duration": 0,
    "start_time": "2024-10-28T01:38:32.343Z"
   },
   {
    "duration": 0,
    "start_time": "2024-10-28T01:38:32.344Z"
   },
   {
    "duration": 0,
    "start_time": "2024-10-28T01:38:32.345Z"
   },
   {
    "duration": 0,
    "start_time": "2024-10-28T01:38:32.347Z"
   },
   {
    "duration": 0,
    "start_time": "2024-10-28T01:38:32.348Z"
   },
   {
    "duration": 0,
    "start_time": "2024-10-28T01:38:32.349Z"
   },
   {
    "duration": 0,
    "start_time": "2024-10-28T01:38:32.350Z"
   },
   {
    "duration": 0,
    "start_time": "2024-10-28T01:38:32.351Z"
   },
   {
    "duration": 4,
    "start_time": "2024-10-28T01:38:42.600Z"
   },
   {
    "duration": 6,
    "start_time": "2024-10-28T01:38:58.136Z"
   },
   {
    "duration": 103,
    "start_time": "2024-10-28T01:44:15.348Z"
   },
   {
    "duration": 4,
    "start_time": "2024-10-28T01:44:23.010Z"
   },
   {
    "duration": 14,
    "start_time": "2024-10-28T01:44:49.115Z"
   },
   {
    "duration": 5,
    "start_time": "2024-10-28T01:44:56.651Z"
   },
   {
    "duration": 13,
    "start_time": "2024-10-28T01:46:57.608Z"
   },
   {
    "duration": 5,
    "start_time": "2024-10-28T01:47:13.346Z"
   },
   {
    "duration": 4,
    "start_time": "2024-10-28T01:47:33.481Z"
   },
   {
    "duration": 6,
    "start_time": "2024-10-28T01:47:45.481Z"
   },
   {
    "duration": 18,
    "start_time": "2024-10-28T01:50:41.002Z"
   },
   {
    "duration": 13,
    "start_time": "2024-10-28T01:50:45.285Z"
   },
   {
    "duration": 8,
    "start_time": "2024-10-28T01:53:57.978Z"
   },
   {
    "duration": 10,
    "start_time": "2024-10-28T01:54:19.931Z"
   },
   {
    "duration": 6,
    "start_time": "2024-10-28T02:00:46.655Z"
   },
   {
    "duration": 4,
    "start_time": "2024-10-28T02:04:20.280Z"
   },
   {
    "duration": 8,
    "start_time": "2024-10-28T02:05:13.420Z"
   },
   {
    "duration": 12,
    "start_time": "2024-10-28T02:11:05.847Z"
   },
   {
    "duration": 12,
    "start_time": "2024-10-28T02:12:22.605Z"
   },
   {
    "duration": 5,
    "start_time": "2024-10-28T02:12:47.012Z"
   },
   {
    "duration": 16,
    "start_time": "2024-10-28T02:15:24.597Z"
   },
   {
    "duration": 3,
    "start_time": "2024-10-28T02:17:00.470Z"
   },
   {
    "duration": 8,
    "start_time": "2024-10-28T02:17:13.360Z"
   },
   {
    "duration": 3,
    "start_time": "2024-10-28T02:17:49.658Z"
   },
   {
    "duration": 12,
    "start_time": "2024-10-28T02:17:54.842Z"
   },
   {
    "duration": 21,
    "start_time": "2024-10-28T02:18:22.408Z"
   },
   {
    "duration": 18,
    "start_time": "2024-10-28T02:19:18.693Z"
   },
   {
    "duration": 40,
    "start_time": "2024-10-28T02:20:29.671Z"
   },
   {
    "duration": 41,
    "start_time": "2024-10-28T02:20:38.594Z"
   },
   {
    "duration": 98,
    "start_time": "2024-10-28T02:20:50.905Z"
   },
   {
    "duration": 91,
    "start_time": "2024-10-28T02:22:02.337Z"
   },
   {
    "duration": 88,
    "start_time": "2024-10-28T02:22:43.423Z"
   },
   {
    "duration": 87,
    "start_time": "2024-10-28T02:22:51.153Z"
   },
   {
    "duration": 6,
    "start_time": "2024-10-28T02:28:18.945Z"
   },
   {
    "duration": 20,
    "start_time": "2024-10-28T02:31:03.435Z"
   },
   {
    "duration": 23,
    "start_time": "2024-10-28T02:34:31.357Z"
   },
   {
    "duration": 25,
    "start_time": "2024-10-28T02:36:21.055Z"
   },
   {
    "duration": 6,
    "start_time": "2024-10-28T02:36:43.737Z"
   },
   {
    "duration": 10,
    "start_time": "2024-10-28T02:36:51.708Z"
   },
   {
    "duration": 10,
    "start_time": "2024-10-28T02:38:04.277Z"
   },
   {
    "duration": 9,
    "start_time": "2024-10-28T02:38:18.457Z"
   },
   {
    "duration": 26,
    "start_time": "2024-10-28T02:38:52.868Z"
   },
   {
    "duration": 24,
    "start_time": "2024-10-28T02:40:19.714Z"
   },
   {
    "duration": 31,
    "start_time": "2024-10-28T02:40:41.940Z"
   },
   {
    "duration": 27,
    "start_time": "2024-10-28T02:40:54.680Z"
   },
   {
    "duration": 26,
    "start_time": "2024-10-28T02:50:02.104Z"
   },
   {
    "duration": 28,
    "start_time": "2024-10-28T02:50:21.983Z"
   },
   {
    "duration": 18,
    "start_time": "2024-10-28T02:50:54.702Z"
   },
   {
    "duration": 27,
    "start_time": "2024-10-28T02:51:49.294Z"
   },
   {
    "duration": 18,
    "start_time": "2024-10-28T02:53:28.745Z"
   },
   {
    "duration": 429,
    "start_time": "2024-10-28T02:53:49.030Z"
   },
   {
    "duration": 4,
    "start_time": "2024-10-28T02:54:08.154Z"
   },
   {
    "duration": 32,
    "start_time": "2024-10-28T02:54:13.688Z"
   },
   {
    "duration": 40,
    "start_time": "2024-10-28T03:00:30.552Z"
   },
   {
    "duration": 37,
    "start_time": "2024-10-28T03:01:40.018Z"
   },
   {
    "duration": 7,
    "start_time": "2024-10-28T03:02:13.625Z"
   },
   {
    "duration": 6,
    "start_time": "2024-10-28T03:02:42.744Z"
   },
   {
    "duration": 37,
    "start_time": "2024-10-28T03:05:30.752Z"
   },
   {
    "duration": 33,
    "start_time": "2024-10-28T03:05:40.541Z"
   },
   {
    "duration": 359,
    "start_time": "2024-10-28T03:12:24.693Z"
   },
   {
    "duration": 170,
    "start_time": "2024-10-29T03:59:07.243Z"
   },
   {
    "duration": 304,
    "start_time": "2024-10-29T03:59:14.627Z"
   },
   {
    "duration": 1003,
    "start_time": "2024-10-29T03:59:14.933Z"
   },
   {
    "duration": 24,
    "start_time": "2024-10-29T03:59:15.937Z"
   },
   {
    "duration": 14,
    "start_time": "2024-10-29T03:59:15.963Z"
   },
   {
    "duration": 10,
    "start_time": "2024-10-29T03:59:15.979Z"
   },
   {
    "duration": 11,
    "start_time": "2024-10-29T03:59:15.990Z"
   },
   {
    "duration": 44,
    "start_time": "2024-10-29T03:59:16.003Z"
   },
   {
    "duration": 215,
    "start_time": "2024-10-29T03:59:16.049Z"
   },
   {
    "duration": 22,
    "start_time": "2024-10-29T03:59:16.266Z"
   },
   {
    "duration": 119,
    "start_time": "2024-10-29T03:59:16.291Z"
   },
   {
    "duration": 126,
    "start_time": "2024-10-29T03:59:16.412Z"
   },
   {
    "duration": 34,
    "start_time": "2024-10-29T03:59:16.540Z"
   },
   {
    "duration": 21,
    "start_time": "2024-10-29T03:59:16.576Z"
   },
   {
    "duration": 4,
    "start_time": "2024-10-29T03:59:16.599Z"
   },
   {
    "duration": 47,
    "start_time": "2024-10-29T03:59:16.605Z"
   },
   {
    "duration": 18,
    "start_time": "2024-10-29T03:59:16.653Z"
   },
   {
    "duration": 10,
    "start_time": "2024-10-29T03:59:16.672Z"
   },
   {
    "duration": 5,
    "start_time": "2024-10-29T03:59:16.683Z"
   },
   {
    "duration": 11,
    "start_time": "2024-10-29T03:59:16.689Z"
   },
   {
    "duration": 3,
    "start_time": "2024-10-29T03:59:16.701Z"
   },
   {
    "duration": 819,
    "start_time": "2024-10-29T03:59:16.743Z"
   },
   {
    "duration": 733,
    "start_time": "2024-10-29T03:59:17.564Z"
   },
   {
    "duration": 18,
    "start_time": "2024-10-29T03:59:18.299Z"
   },
   {
    "duration": 3,
    "start_time": "2024-10-29T03:59:18.319Z"
   },
   {
    "duration": 21,
    "start_time": "2024-10-29T03:59:18.324Z"
   },
   {
    "duration": 6,
    "start_time": "2024-10-29T03:59:18.347Z"
   },
   {
    "duration": 8,
    "start_time": "2024-10-29T03:59:18.356Z"
   },
   {
    "duration": 6,
    "start_time": "2024-10-29T03:59:18.367Z"
   },
   {
    "duration": 32,
    "start_time": "2024-10-29T03:59:18.374Z"
   },
   {
    "duration": 46,
    "start_time": "2024-10-29T03:59:18.408Z"
   },
   {
    "duration": 30,
    "start_time": "2024-10-29T03:59:18.456Z"
   },
   {
    "duration": 10,
    "start_time": "2024-10-29T03:59:18.488Z"
   },
   {
    "duration": 379,
    "start_time": "2024-10-29T03:59:18.500Z"
   },
   {
    "duration": 3,
    "start_time": "2024-10-29T03:59:18.881Z"
   },
   {
    "duration": 11,
    "start_time": "2024-10-29T04:03:51.893Z"
   },
   {
    "duration": 8,
    "start_time": "2024-10-29T04:04:52.781Z"
   },
   {
    "duration": 7,
    "start_time": "2024-10-29T04:05:40.874Z"
   },
   {
    "duration": 10,
    "start_time": "2024-10-29T04:05:59.251Z"
   },
   {
    "duration": 7,
    "start_time": "2024-10-29T04:07:22.477Z"
   },
   {
    "duration": 12,
    "start_time": "2024-10-29T04:07:55.252Z"
   },
   {
    "duration": 5,
    "start_time": "2024-10-29T04:09:36.899Z"
   },
   {
    "duration": 4,
    "start_time": "2024-10-29T04:10:22.415Z"
   },
   {
    "duration": 4,
    "start_time": "2024-10-29T04:10:31.344Z"
   },
   {
    "duration": 4,
    "start_time": "2024-10-29T04:10:37.619Z"
   },
   {
    "duration": 16,
    "start_time": "2024-10-29T04:11:01.306Z"
   },
   {
    "duration": 16,
    "start_time": "2024-10-29T04:11:19.095Z"
   },
   {
    "duration": 4,
    "start_time": "2024-10-29T04:11:25.548Z"
   },
   {
    "duration": 12,
    "start_time": "2024-10-29T04:11:30.224Z"
   },
   {
    "duration": 4,
    "start_time": "2024-10-29T04:11:40.183Z"
   },
   {
    "duration": 4,
    "start_time": "2024-10-29T04:11:44.476Z"
   },
   {
    "duration": 3,
    "start_time": "2024-10-29T04:11:50.537Z"
   },
   {
    "duration": 13,
    "start_time": "2024-10-29T04:12:17.489Z"
   },
   {
    "duration": 12,
    "start_time": "2024-10-29T04:12:33.073Z"
   },
   {
    "duration": 12,
    "start_time": "2024-10-29T04:12:43.645Z"
   },
   {
    "duration": 14,
    "start_time": "2024-10-29T04:13:49.907Z"
   },
   {
    "duration": 13,
    "start_time": "2024-10-29T04:16:28.487Z"
   },
   {
    "duration": 12,
    "start_time": "2024-10-29T04:16:43.426Z"
   },
   {
    "duration": 6,
    "start_time": "2024-10-29T04:19:52.325Z"
   },
   {
    "duration": 6,
    "start_time": "2024-10-29T04:20:07.556Z"
   },
   {
    "duration": 6,
    "start_time": "2024-10-29T04:20:41.955Z"
   },
   {
    "duration": 6,
    "start_time": "2024-10-29T04:21:07.652Z"
   },
   {
    "duration": 5,
    "start_time": "2024-10-29T04:27:29.875Z"
   },
   {
    "duration": 6,
    "start_time": "2024-10-29T04:28:30.336Z"
   },
   {
    "duration": 383,
    "start_time": "2024-10-29T04:28:39.292Z"
   },
   {
    "duration": 395,
    "start_time": "2024-10-29T04:28:54.840Z"
   },
   {
    "duration": 331,
    "start_time": "2024-10-29T04:30:44.353Z"
   },
   {
    "duration": 365,
    "start_time": "2024-10-29T04:31:03.299Z"
   },
   {
    "duration": 8,
    "start_time": "2024-10-29T04:33:26.756Z"
   },
   {
    "duration": 7,
    "start_time": "2024-10-29T04:34:02.160Z"
   },
   {
    "duration": 39,
    "start_time": "2024-10-29T04:36:29.895Z"
   },
   {
    "duration": 32,
    "start_time": "2024-10-29T04:36:45.954Z"
   },
   {
    "duration": 11,
    "start_time": "2024-10-29T04:37:31.042Z"
   },
   {
    "duration": 10,
    "start_time": "2024-10-29T04:37:39.101Z"
   },
   {
    "duration": 368,
    "start_time": "2024-10-29T04:40:07.656Z"
   },
   {
    "duration": 405,
    "start_time": "2024-10-29T04:40:22.733Z"
   },
   {
    "duration": 16,
    "start_time": "2024-10-29T04:47:18.655Z"
   },
   {
    "duration": 15,
    "start_time": "2024-10-29T04:47:32.783Z"
   },
   {
    "duration": 119,
    "start_time": "2024-10-29T04:48:51.380Z"
   },
   {
    "duration": 122,
    "start_time": "2024-10-29T04:51:06.465Z"
   },
   {
    "duration": 117,
    "start_time": "2024-10-29T04:51:42.384Z"
   },
   {
    "duration": 454,
    "start_time": "2024-10-29T04:54:49.669Z"
   },
   {
    "duration": 184,
    "start_time": "2024-10-29T04:56:11.253Z"
   },
   {
    "duration": 329,
    "start_time": "2024-10-29T04:56:25.663Z"
   },
   {
    "duration": 897,
    "start_time": "2024-10-29T04:56:25.995Z"
   },
   {
    "duration": 19,
    "start_time": "2024-10-29T04:56:26.894Z"
   },
   {
    "duration": 28,
    "start_time": "2024-10-29T04:56:26.915Z"
   },
   {
    "duration": 11,
    "start_time": "2024-10-29T04:56:26.946Z"
   },
   {
    "duration": 11,
    "start_time": "2024-10-29T04:56:26.959Z"
   },
   {
    "duration": 10,
    "start_time": "2024-10-29T04:56:26.971Z"
   },
   {
    "duration": 230,
    "start_time": "2024-10-29T04:56:26.983Z"
   },
   {
    "duration": 30,
    "start_time": "2024-10-29T04:56:27.215Z"
   },
   {
    "duration": 124,
    "start_time": "2024-10-29T04:56:27.247Z"
   },
   {
    "duration": 101,
    "start_time": "2024-10-29T04:56:27.373Z"
   },
   {
    "duration": 32,
    "start_time": "2024-10-29T04:56:27.476Z"
   },
   {
    "duration": 34,
    "start_time": "2024-10-29T04:56:27.510Z"
   },
   {
    "duration": 4,
    "start_time": "2024-10-29T04:56:27.548Z"
   },
   {
    "duration": 20,
    "start_time": "2024-10-29T04:56:27.555Z"
   },
   {
    "duration": 16,
    "start_time": "2024-10-29T04:56:27.576Z"
   },
   {
    "duration": 10,
    "start_time": "2024-10-29T04:56:27.593Z"
   },
   {
    "duration": 39,
    "start_time": "2024-10-29T04:56:27.605Z"
   },
   {
    "duration": 11,
    "start_time": "2024-10-29T04:56:27.645Z"
   },
   {
    "duration": 3,
    "start_time": "2024-10-29T04:56:27.657Z"
   },
   {
    "duration": 832,
    "start_time": "2024-10-29T04:56:27.662Z"
   },
   {
    "duration": 738,
    "start_time": "2024-10-29T04:56:28.496Z"
   },
   {
    "duration": 22,
    "start_time": "2024-10-29T04:56:29.236Z"
   },
   {
    "duration": 4,
    "start_time": "2024-10-29T04:56:29.259Z"
   },
   {
    "duration": 3,
    "start_time": "2024-10-29T04:56:29.265Z"
   },
   {
    "duration": 6,
    "start_time": "2024-10-29T04:56:29.270Z"
   },
   {
    "duration": 8,
    "start_time": "2024-10-29T04:56:29.277Z"
   },
   {
    "duration": 6,
    "start_time": "2024-10-29T04:56:29.287Z"
   },
   {
    "duration": 71,
    "start_time": "2024-10-29T04:56:29.294Z"
   },
   {
    "duration": 16,
    "start_time": "2024-10-29T04:56:29.367Z"
   },
   {
    "duration": 31,
    "start_time": "2024-10-29T04:56:29.385Z"
   },
   {
    "duration": 39,
    "start_time": "2024-10-29T04:56:29.418Z"
   },
   {
    "duration": 660,
    "start_time": "2024-10-29T04:56:29.461Z"
   },
   {
    "duration": 0,
    "start_time": "2024-10-29T04:56:30.123Z"
   },
   {
    "duration": 17,
    "start_time": "2024-10-29T04:56:52.273Z"
   },
   {
    "duration": 6,
    "start_time": "2024-10-29T04:57:23.775Z"
   },
   {
    "duration": 20,
    "start_time": "2024-10-29T04:57:42.785Z"
   },
   {
    "duration": 40,
    "start_time": "2024-10-29T04:58:02.874Z"
   },
   {
    "duration": 14,
    "start_time": "2024-10-29T04:58:16.190Z"
   },
   {
    "duration": 33,
    "start_time": "2024-10-29T04:58:23.072Z"
   },
   {
    "duration": 18,
    "start_time": "2024-10-29T04:59:10.571Z"
   },
   {
    "duration": 106,
    "start_time": "2024-10-29T04:59:36.564Z"
   },
   {
    "duration": 18,
    "start_time": "2024-10-29T05:00:01.717Z"
   },
   {
    "duration": 17,
    "start_time": "2024-10-29T05:00:12.000Z"
   },
   {
    "duration": 14,
    "start_time": "2024-10-29T05:00:16.746Z"
   },
   {
    "duration": 327,
    "start_time": "2024-10-29T05:00:28.952Z"
   },
   {
    "duration": 898,
    "start_time": "2024-10-29T05:00:29.281Z"
   },
   {
    "duration": 20,
    "start_time": "2024-10-29T05:00:30.181Z"
   },
   {
    "duration": 14,
    "start_time": "2024-10-29T05:00:30.203Z"
   },
   {
    "duration": 34,
    "start_time": "2024-10-29T05:00:30.219Z"
   },
   {
    "duration": 13,
    "start_time": "2024-10-29T05:00:30.255Z"
   },
   {
    "duration": 11,
    "start_time": "2024-10-29T05:00:30.269Z"
   },
   {
    "duration": 244,
    "start_time": "2024-10-29T05:00:30.283Z"
   },
   {
    "duration": 36,
    "start_time": "2024-10-29T05:00:30.530Z"
   },
   {
    "duration": 117,
    "start_time": "2024-10-29T05:00:30.570Z"
   },
   {
    "duration": 112,
    "start_time": "2024-10-29T05:00:30.688Z"
   },
   {
    "duration": 32,
    "start_time": "2024-10-29T05:00:30.802Z"
   },
   {
    "duration": 26,
    "start_time": "2024-10-29T05:00:30.843Z"
   },
   {
    "duration": 3,
    "start_time": "2024-10-29T05:00:30.871Z"
   },
   {
    "duration": 20,
    "start_time": "2024-10-29T05:00:30.876Z"
   },
   {
    "duration": 16,
    "start_time": "2024-10-29T05:00:30.898Z"
   },
   {
    "duration": 12,
    "start_time": "2024-10-29T05:00:30.942Z"
   },
   {
    "duration": 39,
    "start_time": "2024-10-29T05:00:30.956Z"
   },
   {
    "duration": 67,
    "start_time": "2024-10-29T05:00:30.996Z"
   },
   {
    "duration": 44,
    "start_time": "2024-10-29T05:00:31.064Z"
   },
   {
    "duration": 869,
    "start_time": "2024-10-29T05:00:31.110Z"
   },
   {
    "duration": 729,
    "start_time": "2024-10-29T05:00:31.981Z"
   },
   {
    "duration": 18,
    "start_time": "2024-10-29T05:00:32.711Z"
   },
   {
    "duration": 3,
    "start_time": "2024-10-29T05:00:32.742Z"
   },
   {
    "duration": 4,
    "start_time": "2024-10-29T05:00:32.747Z"
   },
   {
    "duration": 8,
    "start_time": "2024-10-29T05:00:32.752Z"
   },
   {
    "duration": 9,
    "start_time": "2024-10-29T05:00:32.761Z"
   },
   {
    "duration": 6,
    "start_time": "2024-10-29T05:00:32.773Z"
   },
   {
    "duration": 31,
    "start_time": "2024-10-29T05:00:32.781Z"
   },
   {
    "duration": 18,
    "start_time": "2024-10-29T05:00:32.842Z"
   },
   {
    "duration": 28,
    "start_time": "2024-10-29T05:00:32.863Z"
   },
   {
    "duration": 14,
    "start_time": "2024-10-29T05:00:32.893Z"
   },
   {
    "duration": 5,
    "start_time": "2024-10-29T05:00:32.909Z"
   },
   {
    "duration": 42,
    "start_time": "2024-10-29T05:00:32.944Z"
   },
   {
    "duration": 6,
    "start_time": "2024-10-29T05:01:40.638Z"
   },
   {
    "duration": 6,
    "start_time": "2024-10-29T05:04:54.097Z"
   },
   {
    "duration": 7,
    "start_time": "2024-10-29T05:05:09.145Z"
   },
   {
    "duration": 255,
    "start_time": "2024-10-29T05:08:55.395Z"
   },
   {
    "duration": 304,
    "start_time": "2024-10-29T05:10:04.912Z"
   },
   {
    "duration": 276,
    "start_time": "2024-10-29T05:10:24.663Z"
   },
   {
    "duration": 274,
    "start_time": "2024-10-29T05:10:38.044Z"
   },
   {
    "duration": 367,
    "start_time": "2024-10-29T05:11:46.423Z"
   },
   {
    "duration": 301,
    "start_time": "2024-10-29T05:12:04.418Z"
   },
   {
    "duration": 317,
    "start_time": "2024-10-29T05:12:50.980Z"
   },
   {
    "duration": 888,
    "start_time": "2024-10-29T05:12:51.299Z"
   },
   {
    "duration": 20,
    "start_time": "2024-10-29T05:12:52.188Z"
   },
   {
    "duration": 13,
    "start_time": "2024-10-29T05:12:52.211Z"
   },
   {
    "duration": 9,
    "start_time": "2024-10-29T05:12:52.243Z"
   },
   {
    "duration": 12,
    "start_time": "2024-10-29T05:12:52.254Z"
   },
   {
    "duration": 12,
    "start_time": "2024-10-29T05:12:52.267Z"
   },
   {
    "duration": 226,
    "start_time": "2024-10-29T05:12:52.280Z"
   },
   {
    "duration": 22,
    "start_time": "2024-10-29T05:12:52.507Z"
   },
   {
    "duration": 115,
    "start_time": "2024-10-29T05:12:52.543Z"
   },
   {
    "duration": 119,
    "start_time": "2024-10-29T05:12:52.660Z"
   },
   {
    "duration": 29,
    "start_time": "2024-10-29T05:12:52.780Z"
   },
   {
    "duration": 34,
    "start_time": "2024-10-29T05:12:52.811Z"
   },
   {
    "duration": 4,
    "start_time": "2024-10-29T05:12:52.846Z"
   },
   {
    "duration": 20,
    "start_time": "2024-10-29T05:12:52.851Z"
   },
   {
    "duration": 15,
    "start_time": "2024-10-29T05:12:52.873Z"
   },
   {
    "duration": 10,
    "start_time": "2024-10-29T05:12:52.889Z"
   },
   {
    "duration": 5,
    "start_time": "2024-10-29T05:12:52.900Z"
   },
   {
    "duration": 43,
    "start_time": "2024-10-29T05:12:52.907Z"
   },
   {
    "duration": 3,
    "start_time": "2024-10-29T05:12:52.952Z"
   },
   {
    "duration": 864,
    "start_time": "2024-10-29T05:12:52.957Z"
   },
   {
    "duration": 702,
    "start_time": "2024-10-29T05:12:53.822Z"
   },
   {
    "duration": 25,
    "start_time": "2024-10-29T05:12:54.525Z"
   },
   {
    "duration": 4,
    "start_time": "2024-10-29T05:12:54.552Z"
   },
   {
    "duration": 5,
    "start_time": "2024-10-29T05:12:54.558Z"
   },
   {
    "duration": 6,
    "start_time": "2024-10-29T05:12:54.564Z"
   },
   {
    "duration": 7,
    "start_time": "2024-10-29T05:12:54.572Z"
   },
   {
    "duration": 5,
    "start_time": "2024-10-29T05:12:54.583Z"
   },
   {
    "duration": 64,
    "start_time": "2024-10-29T05:12:54.590Z"
   },
   {
    "duration": 18,
    "start_time": "2024-10-29T05:12:54.657Z"
   },
   {
    "duration": 32,
    "start_time": "2024-10-29T05:12:54.676Z"
   },
   {
    "duration": 35,
    "start_time": "2024-10-29T05:12:54.710Z"
   },
   {
    "duration": 353,
    "start_time": "2024-10-29T05:12:54.747Z"
   },
   {
    "duration": 0,
    "start_time": "2024-10-29T05:12:55.102Z"
   },
   {
    "duration": 265,
    "start_time": "2024-10-29T05:13:07.779Z"
   },
   {
    "duration": 284,
    "start_time": "2024-10-29T05:13:26.130Z"
   },
   {
    "duration": 107,
    "start_time": "2024-10-29T05:15:01.512Z"
   },
   {
    "duration": 80,
    "start_time": "2024-10-29T05:15:18.009Z"
   },
   {
    "duration": 4,
    "start_time": "2024-10-29T05:17:08.548Z"
   },
   {
    "duration": 6,
    "start_time": "2024-10-29T05:17:23.745Z"
   },
   {
    "duration": 38,
    "start_time": "2024-10-29T05:18:03.512Z"
   },
   {
    "duration": 160,
    "start_time": "2024-10-30T00:06:30.287Z"
   },
   {
    "duration": 360,
    "start_time": "2024-10-30T00:06:38.046Z"
   },
   {
    "duration": 1059,
    "start_time": "2024-10-30T00:06:38.409Z"
   },
   {
    "duration": 20,
    "start_time": "2024-10-30T00:06:39.469Z"
   },
   {
    "duration": 20,
    "start_time": "2024-10-30T00:06:39.492Z"
   },
   {
    "duration": 11,
    "start_time": "2024-10-30T00:06:39.514Z"
   },
   {
    "duration": 10,
    "start_time": "2024-10-30T00:06:39.527Z"
   },
   {
    "duration": 10,
    "start_time": "2024-10-30T00:06:39.540Z"
   },
   {
    "duration": 266,
    "start_time": "2024-10-30T00:06:39.552Z"
   },
   {
    "duration": 25,
    "start_time": "2024-10-30T00:06:39.820Z"
   },
   {
    "duration": 121,
    "start_time": "2024-10-30T00:06:39.848Z"
   },
   {
    "duration": 100,
    "start_time": "2024-10-30T00:06:39.971Z"
   },
   {
    "duration": 44,
    "start_time": "2024-10-30T00:06:40.073Z"
   },
   {
    "duration": 25,
    "start_time": "2024-10-30T00:06:40.119Z"
   },
   {
    "duration": 3,
    "start_time": "2024-10-30T00:06:40.147Z"
   },
   {
    "duration": 19,
    "start_time": "2024-10-30T00:06:40.152Z"
   },
   {
    "duration": 40,
    "start_time": "2024-10-30T00:06:40.172Z"
   },
   {
    "duration": 12,
    "start_time": "2024-10-30T00:06:40.213Z"
   },
   {
    "duration": 4,
    "start_time": "2024-10-30T00:06:40.226Z"
   },
   {
    "duration": 11,
    "start_time": "2024-10-30T00:06:40.232Z"
   },
   {
    "duration": 4,
    "start_time": "2024-10-30T00:06:40.244Z"
   },
   {
    "duration": 834,
    "start_time": "2024-10-30T00:06:40.249Z"
   },
   {
    "duration": 685,
    "start_time": "2024-10-30T00:06:41.085Z"
   },
   {
    "duration": 18,
    "start_time": "2024-10-30T00:06:41.772Z"
   },
   {
    "duration": 3,
    "start_time": "2024-10-30T00:06:41.791Z"
   },
   {
    "duration": 17,
    "start_time": "2024-10-30T00:06:41.796Z"
   },
   {
    "duration": 7,
    "start_time": "2024-10-30T00:06:41.814Z"
   },
   {
    "duration": 8,
    "start_time": "2024-10-30T00:06:41.822Z"
   },
   {
    "duration": 5,
    "start_time": "2024-10-30T00:06:41.834Z"
   },
   {
    "duration": 32,
    "start_time": "2024-10-30T00:06:41.840Z"
   },
   {
    "duration": 46,
    "start_time": "2024-10-30T00:06:41.874Z"
   },
   {
    "duration": 28,
    "start_time": "2024-10-30T00:06:41.922Z"
   },
   {
    "duration": 14,
    "start_time": "2024-10-30T00:06:41.951Z"
   },
   {
    "duration": 6,
    "start_time": "2024-10-30T00:06:41.967Z"
   },
   {
    "duration": 68,
    "start_time": "2024-10-30T00:06:41.975Z"
   },
   {
    "duration": 5,
    "start_time": "2024-10-30T00:06:42.045Z"
   },
   {
    "duration": 11,
    "start_time": "2024-10-30T00:07:01.802Z"
   },
   {
    "duration": 11,
    "start_time": "2024-10-30T00:07:24.546Z"
   },
   {
    "duration": 189,
    "start_time": "2024-10-30T00:07:57.501Z"
   },
   {
    "duration": 12,
    "start_time": "2024-10-30T00:08:06.982Z"
   },
   {
    "duration": 16,
    "start_time": "2024-10-30T00:09:01.532Z"
   },
   {
    "duration": 17,
    "start_time": "2024-10-30T00:09:49.973Z"
   },
   {
    "duration": 25,
    "start_time": "2024-10-30T00:11:49.278Z"
   },
   {
    "duration": 16,
    "start_time": "2024-10-30T00:11:58.277Z"
   },
   {
    "duration": 17,
    "start_time": "2024-10-30T00:12:11.274Z"
   },
   {
    "duration": 16,
    "start_time": "2024-10-30T00:12:38.380Z"
   },
   {
    "duration": 14,
    "start_time": "2024-10-30T00:12:44.214Z"
   },
   {
    "duration": 17,
    "start_time": "2024-10-30T00:13:08.002Z"
   },
   {
    "duration": 16,
    "start_time": "2024-10-30T00:14:06.128Z"
   },
   {
    "duration": 7,
    "start_time": "2024-10-30T00:14:28.074Z"
   },
   {
    "duration": 18,
    "start_time": "2024-10-30T00:14:41.563Z"
   },
   {
    "duration": 17,
    "start_time": "2024-10-30T00:15:37.061Z"
   },
   {
    "duration": 16,
    "start_time": "2024-10-30T00:15:57.011Z"
   },
   {
    "duration": 168,
    "start_time": "2024-10-30T02:32:59.419Z"
   },
   {
    "duration": 315,
    "start_time": "2024-10-30T02:33:08.066Z"
   },
   {
    "duration": 1028,
    "start_time": "2024-10-30T02:33:08.383Z"
   },
   {
    "duration": 21,
    "start_time": "2024-10-30T02:33:09.413Z"
   },
   {
    "duration": 13,
    "start_time": "2024-10-30T02:33:09.437Z"
   },
   {
    "duration": 36,
    "start_time": "2024-10-30T02:33:09.452Z"
   },
   {
    "duration": 11,
    "start_time": "2024-10-30T02:33:09.490Z"
   },
   {
    "duration": 13,
    "start_time": "2024-10-30T02:33:09.503Z"
   },
   {
    "duration": 237,
    "start_time": "2024-10-30T02:33:09.518Z"
   },
   {
    "duration": 30,
    "start_time": "2024-10-30T02:33:09.757Z"
   },
   {
    "duration": 115,
    "start_time": "2024-10-30T02:33:09.790Z"
   },
   {
    "duration": 100,
    "start_time": "2024-10-30T02:33:09.907Z"
   },
   {
    "duration": 33,
    "start_time": "2024-10-30T02:33:10.009Z"
   },
   {
    "duration": 23,
    "start_time": "2024-10-30T02:33:10.045Z"
   },
   {
    "duration": 3,
    "start_time": "2024-10-30T02:33:10.087Z"
   },
   {
    "duration": 20,
    "start_time": "2024-10-30T02:33:10.092Z"
   },
   {
    "duration": 15,
    "start_time": "2024-10-30T02:33:10.114Z"
   },
   {
    "duration": 10,
    "start_time": "2024-10-30T02:33:10.131Z"
   },
   {
    "duration": 5,
    "start_time": "2024-10-30T02:33:10.143Z"
   },
   {
    "duration": 46,
    "start_time": "2024-10-30T02:33:10.150Z"
   },
   {
    "duration": 6,
    "start_time": "2024-10-30T02:33:10.198Z"
   },
   {
    "duration": 901,
    "start_time": "2024-10-30T02:33:10.206Z"
   },
   {
    "duration": 758,
    "start_time": "2024-10-30T02:33:11.109Z"
   },
   {
    "duration": 26,
    "start_time": "2024-10-30T02:33:11.869Z"
   },
   {
    "duration": 3,
    "start_time": "2024-10-30T02:33:11.897Z"
   },
   {
    "duration": 4,
    "start_time": "2024-10-30T02:33:11.902Z"
   },
   {
    "duration": 6,
    "start_time": "2024-10-30T02:33:11.908Z"
   },
   {
    "duration": 8,
    "start_time": "2024-10-30T02:33:11.916Z"
   },
   {
    "duration": 6,
    "start_time": "2024-10-30T02:33:11.928Z"
   },
   {
    "duration": 69,
    "start_time": "2024-10-30T02:33:11.935Z"
   },
   {
    "duration": 18,
    "start_time": "2024-10-30T02:33:12.006Z"
   },
   {
    "duration": 30,
    "start_time": "2024-10-30T02:33:12.026Z"
   },
   {
    "duration": 38,
    "start_time": "2024-10-30T02:33:12.059Z"
   },
   {
    "duration": 6,
    "start_time": "2024-10-30T02:33:12.099Z"
   },
   {
    "duration": 40,
    "start_time": "2024-10-30T02:33:12.107Z"
   },
   {
    "duration": 43,
    "start_time": "2024-10-30T02:33:12.150Z"
   },
   {
    "duration": 9,
    "start_time": "2024-10-30T02:33:12.196Z"
   },
   {
    "duration": 277,
    "start_time": "2024-10-30T02:36:24.741Z"
   },
   {
    "duration": 325,
    "start_time": "2024-10-30T02:36:42.516Z"
   },
   {
    "duration": 908,
    "start_time": "2024-10-30T02:36:42.844Z"
   },
   {
    "duration": 19,
    "start_time": "2024-10-30T02:36:43.754Z"
   },
   {
    "duration": 16,
    "start_time": "2024-10-30T02:36:43.787Z"
   },
   {
    "duration": 12,
    "start_time": "2024-10-30T02:36:43.805Z"
   },
   {
    "duration": 10,
    "start_time": "2024-10-30T02:36:43.819Z"
   },
   {
    "duration": 10,
    "start_time": "2024-10-30T02:36:43.831Z"
   },
   {
    "duration": 246,
    "start_time": "2024-10-30T02:36:43.843Z"
   },
   {
    "duration": 22,
    "start_time": "2024-10-30T02:36:44.091Z"
   },
   {
    "duration": 124,
    "start_time": "2024-10-30T02:36:44.117Z"
   },
   {
    "duration": 103,
    "start_time": "2024-10-30T02:36:44.243Z"
   },
   {
    "duration": 39,
    "start_time": "2024-10-30T02:36:44.348Z"
   },
   {
    "duration": 22,
    "start_time": "2024-10-30T02:36:44.389Z"
   },
   {
    "duration": 3,
    "start_time": "2024-10-30T02:36:44.413Z"
   },
   {
    "duration": 21,
    "start_time": "2024-10-30T02:36:44.417Z"
   },
   {
    "duration": 16,
    "start_time": "2024-10-30T02:36:44.440Z"
   },
   {
    "duration": 36,
    "start_time": "2024-10-30T02:36:44.458Z"
   },
   {
    "duration": 4,
    "start_time": "2024-10-30T02:36:44.497Z"
   },
   {
    "duration": 11,
    "start_time": "2024-10-30T02:36:44.503Z"
   },
   {
    "duration": 3,
    "start_time": "2024-10-30T02:36:44.517Z"
   },
   {
    "duration": 869,
    "start_time": "2024-10-30T02:36:44.522Z"
   },
   {
    "duration": 771,
    "start_time": "2024-10-30T02:36:45.393Z"
   },
   {
    "duration": 26,
    "start_time": "2024-10-30T02:36:46.166Z"
   },
   {
    "duration": 4,
    "start_time": "2024-10-30T02:36:46.194Z"
   },
   {
    "duration": 4,
    "start_time": "2024-10-30T02:36:46.200Z"
   },
   {
    "duration": 6,
    "start_time": "2024-10-30T02:36:46.206Z"
   },
   {
    "duration": 8,
    "start_time": "2024-10-30T02:36:46.213Z"
   },
   {
    "duration": 6,
    "start_time": "2024-10-30T02:36:46.226Z"
   },
   {
    "duration": 69,
    "start_time": "2024-10-30T02:36:46.234Z"
   },
   {
    "duration": 18,
    "start_time": "2024-10-30T02:36:46.305Z"
   },
   {
    "duration": 33,
    "start_time": "2024-10-30T02:36:46.325Z"
   },
   {
    "duration": 35,
    "start_time": "2024-10-30T02:36:46.359Z"
   },
   {
    "duration": 6,
    "start_time": "2024-10-30T02:36:46.396Z"
   },
   {
    "duration": 46,
    "start_time": "2024-10-30T02:36:46.404Z"
   },
   {
    "duration": 43,
    "start_time": "2024-10-30T02:36:46.452Z"
   },
   {
    "duration": 11,
    "start_time": "2024-10-30T02:36:46.497Z"
   },
   {
    "duration": 289,
    "start_time": "2024-10-30T02:36:46.510Z"
   },
   {
    "duration": 8,
    "start_time": "2024-10-30T02:37:26.113Z"
   },
   {
    "duration": 8,
    "start_time": "2024-10-30T02:37:29.832Z"
   },
   {
    "duration": 7,
    "start_time": "2024-10-30T02:37:33.168Z"
   },
   {
    "duration": 9,
    "start_time": "2024-10-30T02:37:45.779Z"
   },
   {
    "duration": 18,
    "start_time": "2024-10-30T02:38:04.432Z"
   },
   {
    "duration": 16,
    "start_time": "2024-10-30T02:38:49.898Z"
   },
   {
    "duration": 9,
    "start_time": "2024-10-30T02:41:35.106Z"
   },
   {
    "duration": 9,
    "start_time": "2024-10-30T02:44:03.271Z"
   },
   {
    "duration": 18,
    "start_time": "2024-10-30T02:46:18.831Z"
   },
   {
    "duration": 21,
    "start_time": "2024-10-30T02:46:30.382Z"
   },
   {
    "duration": 10,
    "start_time": "2024-10-30T02:47:01.352Z"
   },
   {
    "duration": 11,
    "start_time": "2024-10-30T03:12:32.792Z"
   },
   {
    "duration": 10,
    "start_time": "2024-10-30T03:16:39.397Z"
   },
   {
    "duration": 10,
    "start_time": "2024-10-30T03:16:54.802Z"
   },
   {
    "duration": 5,
    "start_time": "2024-10-30T03:19:10.871Z"
   },
   {
    "duration": 12,
    "start_time": "2024-10-30T03:19:23.660Z"
   },
   {
    "duration": 10,
    "start_time": "2024-10-30T03:21:24.018Z"
   },
   {
    "duration": 2056,
    "start_time": "2024-10-30T03:24:43.332Z"
   },
   {
    "duration": 119,
    "start_time": "2024-10-30T03:24:57.904Z"
   },
   {
    "duration": 25,
    "start_time": "2024-10-30T03:26:49.678Z"
   },
   {
    "duration": 311,
    "start_time": "2024-10-30T03:27:00.935Z"
   },
   {
    "duration": 882,
    "start_time": "2024-10-30T03:27:01.249Z"
   },
   {
    "duration": 19,
    "start_time": "2024-10-30T03:27:02.132Z"
   },
   {
    "duration": 12,
    "start_time": "2024-10-30T03:27:02.155Z"
   },
   {
    "duration": 25,
    "start_time": "2024-10-30T03:27:02.170Z"
   },
   {
    "duration": 12,
    "start_time": "2024-10-30T03:27:02.196Z"
   },
   {
    "duration": 11,
    "start_time": "2024-10-30T03:27:02.211Z"
   },
   {
    "duration": 235,
    "start_time": "2024-10-30T03:27:02.223Z"
   },
   {
    "duration": 29,
    "start_time": "2024-10-30T03:27:02.460Z"
   },
   {
    "duration": 116,
    "start_time": "2024-10-30T03:27:02.491Z"
   },
   {
    "duration": 102,
    "start_time": "2024-10-30T03:27:02.609Z"
   },
   {
    "duration": 31,
    "start_time": "2024-10-30T03:27:02.714Z"
   },
   {
    "duration": 22,
    "start_time": "2024-10-30T03:27:02.747Z"
   },
   {
    "duration": 16,
    "start_time": "2024-10-30T03:27:02.772Z"
   },
   {
    "duration": 20,
    "start_time": "2024-10-30T03:27:02.790Z"
   },
   {
    "duration": 16,
    "start_time": "2024-10-30T03:27:02.811Z"
   },
   {
    "duration": 10,
    "start_time": "2024-10-30T03:27:02.829Z"
   },
   {
    "duration": 5,
    "start_time": "2024-10-30T03:27:02.840Z"
   },
   {
    "duration": 49,
    "start_time": "2024-10-30T03:27:02.847Z"
   },
   {
    "duration": 4,
    "start_time": "2024-10-30T03:27:02.898Z"
   },
   {
    "duration": 905,
    "start_time": "2024-10-30T03:27:02.903Z"
   },
   {
    "duration": 764,
    "start_time": "2024-10-30T03:27:03.810Z"
   },
   {
    "duration": 24,
    "start_time": "2024-10-30T03:27:04.577Z"
   },
   {
    "duration": 4,
    "start_time": "2024-10-30T03:27:04.603Z"
   },
   {
    "duration": 5,
    "start_time": "2024-10-30T03:27:04.609Z"
   },
   {
    "duration": 6,
    "start_time": "2024-10-30T03:27:04.616Z"
   },
   {
    "duration": 22,
    "start_time": "2024-10-30T03:27:04.624Z"
   },
   {
    "duration": 19,
    "start_time": "2024-10-30T03:27:04.647Z"
   },
   {
    "duration": 45,
    "start_time": "2024-10-30T03:27:04.667Z"
   },
   {
    "duration": 17,
    "start_time": "2024-10-30T03:27:04.714Z"
   },
   {
    "duration": 30,
    "start_time": "2024-10-30T03:27:04.733Z"
   },
   {
    "duration": 32,
    "start_time": "2024-10-30T03:27:04.766Z"
   },
   {
    "duration": 5,
    "start_time": "2024-10-30T03:27:04.800Z"
   },
   {
    "duration": 41,
    "start_time": "2024-10-30T03:27:04.807Z"
   },
   {
    "duration": 44,
    "start_time": "2024-10-30T03:27:04.850Z"
   },
   {
    "duration": 10,
    "start_time": "2024-10-30T03:27:04.896Z"
   },
   {
    "duration": 248,
    "start_time": "2024-10-30T03:27:04.908Z"
   },
   {
    "duration": 25,
    "start_time": "2024-10-30T03:27:09.777Z"
   },
   {
    "duration": 344,
    "start_time": "2024-10-30T03:29:40.171Z"
   },
   {
    "duration": 190,
    "start_time": "2024-10-30T03:33:06.513Z"
   },
   {
    "duration": 7,
    "start_time": "2024-10-30T03:36:42.369Z"
   },
   {
    "duration": 8,
    "start_time": "2024-10-30T03:36:56.526Z"
   },
   {
    "duration": 118,
    "start_time": "2024-10-30T03:41:15.364Z"
   },
   {
    "duration": 121,
    "start_time": "2024-10-30T03:42:49.430Z"
   },
   {
    "duration": 16,
    "start_time": "2024-10-30T03:54:47.582Z"
   },
   {
    "duration": 31,
    "start_time": "2024-10-30T04:02:14.365Z"
   },
   {
    "duration": 32,
    "start_time": "2024-10-30T04:02:40.408Z"
   },
   {
    "duration": 31,
    "start_time": "2024-10-30T04:03:09.960Z"
   },
   {
    "duration": 18,
    "start_time": "2024-10-30T04:03:45.830Z"
   },
   {
    "duration": 2,
    "start_time": "2024-10-30T04:09:15.106Z"
   },
   {
    "duration": 161,
    "start_time": "2024-10-30T04:09:24.611Z"
   },
   {
    "duration": 40,
    "start_time": "2024-10-30T04:12:06.338Z"
   },
   {
    "duration": 28,
    "start_time": "2024-10-30T04:13:04.945Z"
   },
   {
    "duration": 350,
    "start_time": "2024-10-30T04:14:34.299Z"
   },
   {
    "duration": 899,
    "start_time": "2024-10-30T04:14:34.652Z"
   },
   {
    "duration": 20,
    "start_time": "2024-10-30T04:14:35.553Z"
   },
   {
    "duration": 15,
    "start_time": "2024-10-30T04:14:35.588Z"
   },
   {
    "duration": 12,
    "start_time": "2024-10-30T04:14:35.605Z"
   },
   {
    "duration": 11,
    "start_time": "2024-10-30T04:14:35.619Z"
   },
   {
    "duration": 11,
    "start_time": "2024-10-30T04:14:35.632Z"
   },
   {
    "duration": 255,
    "start_time": "2024-10-30T04:14:35.645Z"
   },
   {
    "duration": 22,
    "start_time": "2024-10-30T04:14:35.902Z"
   },
   {
    "duration": 124,
    "start_time": "2024-10-30T04:14:35.928Z"
   },
   {
    "duration": 117,
    "start_time": "2024-10-30T04:14:36.054Z"
   },
   {
    "duration": 37,
    "start_time": "2024-10-30T04:14:36.173Z"
   },
   {
    "duration": 21,
    "start_time": "2024-10-30T04:14:36.212Z"
   },
   {
    "duration": 3,
    "start_time": "2024-10-30T04:14:36.235Z"
   },
   {
    "duration": 48,
    "start_time": "2024-10-30T04:14:36.240Z"
   },
   {
    "duration": 17,
    "start_time": "2024-10-30T04:14:36.290Z"
   },
   {
    "duration": 9,
    "start_time": "2024-10-30T04:14:36.309Z"
   },
   {
    "duration": 5,
    "start_time": "2024-10-30T04:14:36.319Z"
   },
   {
    "duration": 11,
    "start_time": "2024-10-30T04:14:36.325Z"
   },
   {
    "duration": 4,
    "start_time": "2024-10-30T04:14:36.338Z"
   },
   {
    "duration": 914,
    "start_time": "2024-10-30T04:14:36.343Z"
   },
   {
    "duration": 806,
    "start_time": "2024-10-30T04:14:37.259Z"
   },
   {
    "duration": 27,
    "start_time": "2024-10-30T04:14:38.066Z"
   },
   {
    "duration": 4,
    "start_time": "2024-10-30T04:14:38.095Z"
   },
   {
    "duration": 4,
    "start_time": "2024-10-30T04:14:38.102Z"
   },
   {
    "duration": 6,
    "start_time": "2024-10-30T04:14:38.108Z"
   },
   {
    "duration": 13,
    "start_time": "2024-10-30T04:14:38.118Z"
   },
   {
    "duration": 7,
    "start_time": "2024-10-30T04:14:38.136Z"
   },
   {
    "duration": 68,
    "start_time": "2024-10-30T04:14:38.145Z"
   },
   {
    "duration": 19,
    "start_time": "2024-10-30T04:14:38.215Z"
   },
   {
    "duration": 31,
    "start_time": "2024-10-30T04:14:38.235Z"
   },
   {
    "duration": 30,
    "start_time": "2024-10-30T04:14:38.268Z"
   },
   {
    "duration": 6,
    "start_time": "2024-10-30T04:14:38.300Z"
   },
   {
    "duration": 39,
    "start_time": "2024-10-30T04:14:38.307Z"
   },
   {
    "duration": 15,
    "start_time": "2024-10-30T04:14:38.348Z"
   },
   {
    "duration": 10,
    "start_time": "2024-10-30T04:14:38.388Z"
   },
   {
    "duration": 384,
    "start_time": "2024-10-30T04:14:38.400Z"
   },
   {
    "duration": 125,
    "start_time": "2024-10-30T04:14:38.786Z"
   },
   {
    "duration": 3,
    "start_time": "2024-10-30T04:14:38.912Z"
   },
   {
    "duration": 284,
    "start_time": "2024-10-30T04:14:38.917Z"
   },
   {
    "duration": 5,
    "start_time": "2024-10-30T04:17:29.522Z"
   },
   {
    "duration": 4,
    "start_time": "2024-10-30T04:17:42.947Z"
   },
   {
    "duration": 74,
    "start_time": "2024-10-30T04:18:21.635Z"
   },
   {
    "duration": 83,
    "start_time": "2024-10-30T04:18:43.055Z"
   },
   {
    "duration": 4,
    "start_time": "2024-10-30T04:19:53.348Z"
   },
   {
    "duration": 10,
    "start_time": "2024-10-30T04:20:46.362Z"
   },
   {
    "duration": 23,
    "start_time": "2024-10-30T04:21:16.143Z"
   },
   {
    "duration": 12,
    "start_time": "2024-10-30T04:21:24.288Z"
   },
   {
    "duration": 303,
    "start_time": "2024-11-01T02:23:22.102Z"
   },
   {
    "duration": 1160,
    "start_time": "2024-11-01T02:23:22.407Z"
   },
   {
    "duration": 20,
    "start_time": "2024-11-01T02:23:23.569Z"
   },
   {
    "duration": 12,
    "start_time": "2024-11-01T02:23:23.591Z"
   },
   {
    "duration": 11,
    "start_time": "2024-11-01T02:23:23.623Z"
   },
   {
    "duration": 10,
    "start_time": "2024-11-01T02:23:23.636Z"
   },
   {
    "duration": 10,
    "start_time": "2024-11-01T02:23:23.648Z"
   },
   {
    "duration": 229,
    "start_time": "2024-11-01T02:23:23.661Z"
   },
   {
    "duration": 20,
    "start_time": "2024-11-01T02:23:23.892Z"
   },
   {
    "duration": 109,
    "start_time": "2024-11-01T02:23:23.925Z"
   },
   {
    "duration": 99,
    "start_time": "2024-11-01T02:23:24.036Z"
   },
   {
    "duration": 33,
    "start_time": "2024-11-01T02:23:24.136Z"
   },
   {
    "duration": 22,
    "start_time": "2024-11-01T02:23:24.171Z"
   },
   {
    "duration": 4,
    "start_time": "2024-11-01T02:23:24.196Z"
   },
   {
    "duration": 19,
    "start_time": "2024-11-01T02:23:24.224Z"
   },
   {
    "duration": 15,
    "start_time": "2024-11-01T02:23:24.245Z"
   },
   {
    "duration": 9,
    "start_time": "2024-11-01T02:23:24.261Z"
   },
   {
    "duration": 4,
    "start_time": "2024-11-01T02:23:24.272Z"
   },
   {
    "duration": 10,
    "start_time": "2024-11-01T02:23:24.278Z"
   },
   {
    "duration": 3,
    "start_time": "2024-11-01T02:23:24.323Z"
   },
   {
    "duration": 770,
    "start_time": "2024-11-01T02:23:24.328Z"
   },
   {
    "duration": 725,
    "start_time": "2024-11-01T02:23:25.100Z"
   },
   {
    "duration": 17,
    "start_time": "2024-11-01T02:23:25.826Z"
   },
   {
    "duration": 4,
    "start_time": "2024-11-01T02:23:25.844Z"
   },
   {
    "duration": 4,
    "start_time": "2024-11-01T02:23:25.850Z"
   },
   {
    "duration": 5,
    "start_time": "2024-11-01T02:23:25.856Z"
   },
   {
    "duration": 8,
    "start_time": "2024-11-01T02:23:25.863Z"
   },
   {
    "duration": 5,
    "start_time": "2024-11-01T02:23:25.874Z"
   },
   {
    "duration": 71,
    "start_time": "2024-11-01T02:23:25.881Z"
   },
   {
    "duration": 16,
    "start_time": "2024-11-01T02:23:25.954Z"
   },
   {
    "duration": 29,
    "start_time": "2024-11-01T02:23:25.971Z"
   },
   {
    "duration": 36,
    "start_time": "2024-11-01T02:23:26.002Z"
   },
   {
    "duration": 6,
    "start_time": "2024-11-01T02:23:26.040Z"
   },
   {
    "duration": 39,
    "start_time": "2024-11-01T02:23:26.047Z"
   },
   {
    "duration": 40,
    "start_time": "2024-11-01T02:23:26.088Z"
   },
   {
    "duration": 9,
    "start_time": "2024-11-01T02:23:26.130Z"
   },
   {
    "duration": 2146,
    "start_time": "2024-11-01T02:23:26.140Z"
   },
   {
    "duration": 123,
    "start_time": "2024-11-01T02:23:28.288Z"
   },
   {
    "duration": 22,
    "start_time": "2024-11-01T02:23:28.413Z"
   },
   {
    "duration": 239,
    "start_time": "2024-11-01T02:26:43.478Z"
   },
   {
    "duration": 143,
    "start_time": "2024-11-01T02:28:48.698Z"
   },
   {
    "duration": 142,
    "start_time": "2024-11-01T02:29:09.408Z"
   },
   {
    "duration": 146,
    "start_time": "2024-11-01T02:30:53.613Z"
   },
   {
    "duration": 321,
    "start_time": "2024-11-01T02:32:12.051Z"
   },
   {
    "duration": 907,
    "start_time": "2024-11-01T02:32:12.375Z"
   },
   {
    "duration": 20,
    "start_time": "2024-11-01T02:32:13.284Z"
   },
   {
    "duration": 26,
    "start_time": "2024-11-01T02:32:13.306Z"
   },
   {
    "duration": 10,
    "start_time": "2024-11-01T02:32:13.334Z"
   },
   {
    "duration": 9,
    "start_time": "2024-11-01T02:32:13.346Z"
   },
   {
    "duration": 10,
    "start_time": "2024-11-01T02:32:13.357Z"
   },
   {
    "duration": 229,
    "start_time": "2024-11-01T02:32:13.369Z"
   },
   {
    "duration": 30,
    "start_time": "2024-11-01T02:32:13.600Z"
   },
   {
    "duration": 106,
    "start_time": "2024-11-01T02:32:13.634Z"
   },
   {
    "duration": 104,
    "start_time": "2024-11-01T02:32:13.742Z"
   },
   {
    "duration": 34,
    "start_time": "2024-11-01T02:32:13.848Z"
   },
   {
    "duration": 23,
    "start_time": "2024-11-01T02:32:13.883Z"
   },
   {
    "duration": 17,
    "start_time": "2024-11-01T02:32:13.909Z"
   },
   {
    "duration": 19,
    "start_time": "2024-11-01T02:32:13.927Z"
   },
   {
    "duration": 16,
    "start_time": "2024-11-01T02:32:13.948Z"
   },
   {
    "duration": 9,
    "start_time": "2024-11-01T02:32:13.966Z"
   },
   {
    "duration": 3,
    "start_time": "2024-11-01T02:32:13.978Z"
   },
   {
    "duration": 41,
    "start_time": "2024-11-01T02:32:13.983Z"
   },
   {
    "duration": 3,
    "start_time": "2024-11-01T02:32:14.026Z"
   },
   {
    "duration": 786,
    "start_time": "2024-11-01T02:32:14.031Z"
   },
   {
    "duration": 694,
    "start_time": "2024-11-01T02:32:14.819Z"
   },
   {
    "duration": 23,
    "start_time": "2024-11-01T02:32:15.515Z"
   },
   {
    "duration": 4,
    "start_time": "2024-11-01T02:32:15.540Z"
   },
   {
    "duration": 5,
    "start_time": "2024-11-01T02:32:15.545Z"
   },
   {
    "duration": 6,
    "start_time": "2024-11-01T02:32:15.551Z"
   },
   {
    "duration": 7,
    "start_time": "2024-11-01T02:32:15.559Z"
   },
   {
    "duration": 5,
    "start_time": "2024-11-01T02:32:15.570Z"
   },
   {
    "duration": 68,
    "start_time": "2024-11-01T02:32:15.577Z"
   },
   {
    "duration": 16,
    "start_time": "2024-11-01T02:32:15.648Z"
   },
   {
    "duration": 29,
    "start_time": "2024-11-01T02:32:15.665Z"
   },
   {
    "duration": 39,
    "start_time": "2024-11-01T02:32:15.695Z"
   },
   {
    "duration": 6,
    "start_time": "2024-11-01T02:32:15.735Z"
   },
   {
    "duration": 38,
    "start_time": "2024-11-01T02:32:15.742Z"
   },
   {
    "duration": 15,
    "start_time": "2024-11-01T02:32:15.783Z"
   },
   {
    "duration": 29,
    "start_time": "2024-11-01T02:32:15.799Z"
   },
   {
    "duration": 357,
    "start_time": "2024-11-01T02:32:15.830Z"
   },
   {
    "duration": 126,
    "start_time": "2024-11-01T02:32:16.190Z"
   },
   {
    "duration": 8,
    "start_time": "2024-11-01T02:32:16.317Z"
   },
   {
    "duration": 285,
    "start_time": "2024-11-01T02:32:37.597Z"
   },
   {
    "duration": 885,
    "start_time": "2024-11-01T02:32:37.884Z"
   },
   {
    "duration": 19,
    "start_time": "2024-11-01T02:32:38.770Z"
   },
   {
    "duration": 12,
    "start_time": "2024-11-01T02:32:38.791Z"
   },
   {
    "duration": 28,
    "start_time": "2024-11-01T02:32:38.805Z"
   },
   {
    "duration": 11,
    "start_time": "2024-11-01T02:32:38.834Z"
   },
   {
    "duration": 9,
    "start_time": "2024-11-01T02:32:38.847Z"
   },
   {
    "duration": 238,
    "start_time": "2024-11-01T02:32:38.858Z"
   },
   {
    "duration": 30,
    "start_time": "2024-11-01T02:32:39.098Z"
   },
   {
    "duration": 107,
    "start_time": "2024-11-01T02:32:39.132Z"
   },
   {
    "duration": 106,
    "start_time": "2024-11-01T02:32:39.241Z"
   },
   {
    "duration": 30,
    "start_time": "2024-11-01T02:32:39.348Z"
   },
   {
    "duration": 22,
    "start_time": "2024-11-01T02:32:39.379Z"
   },
   {
    "duration": 3,
    "start_time": "2024-11-01T02:32:39.402Z"
   },
   {
    "duration": 25,
    "start_time": "2024-11-01T02:32:39.424Z"
   },
   {
    "duration": 19,
    "start_time": "2024-11-01T02:32:39.451Z"
   },
   {
    "duration": 9,
    "start_time": "2024-11-01T02:32:39.472Z"
   },
   {
    "duration": 5,
    "start_time": "2024-11-01T02:32:39.483Z"
   },
   {
    "duration": 39,
    "start_time": "2024-11-01T02:32:39.489Z"
   },
   {
    "duration": 3,
    "start_time": "2024-11-01T02:32:39.529Z"
   },
   {
    "duration": 780,
    "start_time": "2024-11-01T02:32:39.534Z"
   },
   {
    "duration": 703,
    "start_time": "2024-11-01T02:32:40.316Z"
   },
   {
    "duration": 17,
    "start_time": "2024-11-01T02:32:41.024Z"
   },
   {
    "duration": 4,
    "start_time": "2024-11-01T02:32:41.042Z"
   },
   {
    "duration": 4,
    "start_time": "2024-11-01T02:32:41.048Z"
   },
   {
    "duration": 6,
    "start_time": "2024-11-01T02:32:41.054Z"
   },
   {
    "duration": 7,
    "start_time": "2024-11-01T02:32:41.063Z"
   },
   {
    "duration": 5,
    "start_time": "2024-11-01T02:32:41.075Z"
   },
   {
    "duration": 66,
    "start_time": "2024-11-01T02:32:41.082Z"
   },
   {
    "duration": 17,
    "start_time": "2024-11-01T02:32:41.150Z"
   },
   {
    "duration": 36,
    "start_time": "2024-11-01T02:32:41.169Z"
   },
   {
    "duration": 14,
    "start_time": "2024-11-01T02:32:41.223Z"
   },
   {
    "duration": 6,
    "start_time": "2024-11-01T02:32:41.239Z"
   },
   {
    "duration": 39,
    "start_time": "2024-11-01T02:32:41.247Z"
   },
   {
    "duration": 43,
    "start_time": "2024-11-01T02:32:41.288Z"
   },
   {
    "duration": 9,
    "start_time": "2024-11-01T02:32:41.333Z"
   },
   {
    "duration": 375,
    "start_time": "2024-11-01T02:32:41.343Z"
   },
   {
    "duration": 125,
    "start_time": "2024-11-01T02:32:41.720Z"
   },
   {
    "duration": 162,
    "start_time": "2024-11-01T02:33:18.017Z"
   },
   {
    "duration": 306,
    "start_time": "2024-11-01T02:33:24.526Z"
   },
   {
    "duration": 872,
    "start_time": "2024-11-01T02:33:24.835Z"
   },
   {
    "duration": 24,
    "start_time": "2024-11-01T02:33:25.709Z"
   },
   {
    "duration": 13,
    "start_time": "2024-11-01T02:33:25.735Z"
   },
   {
    "duration": 10,
    "start_time": "2024-11-01T02:33:25.750Z"
   },
   {
    "duration": 10,
    "start_time": "2024-11-01T02:33:25.762Z"
   },
   {
    "duration": 10,
    "start_time": "2024-11-01T02:33:25.774Z"
   },
   {
    "duration": 240,
    "start_time": "2024-11-01T02:33:25.785Z"
   },
   {
    "duration": 21,
    "start_time": "2024-11-01T02:33:26.027Z"
   },
   {
    "duration": 114,
    "start_time": "2024-11-01T02:33:26.050Z"
   },
   {
    "duration": 103,
    "start_time": "2024-11-01T02:33:26.166Z"
   },
   {
    "duration": 29,
    "start_time": "2024-11-01T02:33:26.271Z"
   },
   {
    "duration": 35,
    "start_time": "2024-11-01T02:33:26.302Z"
   },
   {
    "duration": 4,
    "start_time": "2024-11-01T02:33:26.339Z"
   },
   {
    "duration": 20,
    "start_time": "2024-11-01T02:33:26.345Z"
   },
   {
    "duration": 16,
    "start_time": "2024-11-01T02:33:26.367Z"
   },
   {
    "duration": 39,
    "start_time": "2024-11-01T02:33:26.385Z"
   },
   {
    "duration": 5,
    "start_time": "2024-11-01T02:33:26.427Z"
   },
   {
    "duration": 13,
    "start_time": "2024-11-01T02:33:26.434Z"
   },
   {
    "duration": 4,
    "start_time": "2024-11-01T02:33:26.448Z"
   },
   {
    "duration": 915,
    "start_time": "2024-11-01T02:33:26.454Z"
   },
   {
    "duration": 823,
    "start_time": "2024-11-01T02:33:27.371Z"
   },
   {
    "duration": 28,
    "start_time": "2024-11-01T02:33:28.196Z"
   },
   {
    "duration": 7,
    "start_time": "2024-11-01T02:33:28.226Z"
   },
   {
    "duration": 5,
    "start_time": "2024-11-01T02:33:28.235Z"
   },
   {
    "duration": 6,
    "start_time": "2024-11-01T02:33:28.242Z"
   },
   {
    "duration": 8,
    "start_time": "2024-11-01T02:33:28.250Z"
   },
   {
    "duration": 6,
    "start_time": "2024-11-01T02:33:28.263Z"
   },
   {
    "duration": 67,
    "start_time": "2024-11-01T02:33:28.271Z"
   },
   {
    "duration": 18,
    "start_time": "2024-11-01T02:33:28.340Z"
   },
   {
    "duration": 31,
    "start_time": "2024-11-01T02:33:28.361Z"
   },
   {
    "duration": 35,
    "start_time": "2024-11-01T02:33:28.394Z"
   },
   {
    "duration": 5,
    "start_time": "2024-11-01T02:33:28.431Z"
   },
   {
    "duration": 41,
    "start_time": "2024-11-01T02:33:28.437Z"
   },
   {
    "duration": 17,
    "start_time": "2024-11-01T02:33:28.480Z"
   },
   {
    "duration": 10,
    "start_time": "2024-11-01T02:33:28.524Z"
   },
   {
    "duration": 383,
    "start_time": "2024-11-01T02:33:28.535Z"
   },
   {
    "duration": 126,
    "start_time": "2024-11-01T02:33:28.923Z"
   },
   {
    "duration": 162,
    "start_time": "2024-11-01T02:33:29.051Z"
   },
   {
    "duration": 10,
    "start_time": "2024-11-01T02:35:34.030Z"
   },
   {
    "duration": 13,
    "start_time": "2024-11-01T02:35:47.517Z"
   },
   {
    "duration": 327,
    "start_time": "2024-11-01T02:38:01.248Z"
   },
   {
    "duration": 870,
    "start_time": "2024-11-01T02:38:01.578Z"
   },
   {
    "duration": 19,
    "start_time": "2024-11-01T02:38:02.450Z"
   },
   {
    "duration": 13,
    "start_time": "2024-11-01T02:38:02.472Z"
   },
   {
    "duration": 10,
    "start_time": "2024-11-01T02:38:02.487Z"
   },
   {
    "duration": 12,
    "start_time": "2024-11-01T02:38:02.524Z"
   },
   {
    "duration": 10,
    "start_time": "2024-11-01T02:38:02.538Z"
   },
   {
    "duration": 211,
    "start_time": "2024-11-01T02:38:02.551Z"
   },
   {
    "duration": 20,
    "start_time": "2024-11-01T02:38:02.764Z"
   },
   {
    "duration": 112,
    "start_time": "2024-11-01T02:38:02.787Z"
   },
   {
    "duration": 102,
    "start_time": "2024-11-01T02:38:02.901Z"
   },
   {
    "duration": 35,
    "start_time": "2024-11-01T02:38:03.004Z"
   },
   {
    "duration": 21,
    "start_time": "2024-11-01T02:38:03.041Z"
   },
   {
    "duration": 4,
    "start_time": "2024-11-01T02:38:03.063Z"
   },
   {
    "duration": 19,
    "start_time": "2024-11-01T02:38:03.068Z"
   },
   {
    "duration": 39,
    "start_time": "2024-11-01T02:38:03.089Z"
   },
   {
    "duration": 10,
    "start_time": "2024-11-01T02:38:03.130Z"
   },
   {
    "duration": 4,
    "start_time": "2024-11-01T02:38:03.142Z"
   },
   {
    "duration": 10,
    "start_time": "2024-11-01T02:38:03.148Z"
   },
   {
    "duration": 3,
    "start_time": "2024-11-01T02:38:03.160Z"
   },
   {
    "duration": 844,
    "start_time": "2024-11-01T02:38:03.165Z"
   },
   {
    "duration": 664,
    "start_time": "2024-11-01T02:38:04.011Z"
   },
   {
    "duration": 17,
    "start_time": "2024-11-01T02:38:04.677Z"
   },
   {
    "duration": 6,
    "start_time": "2024-11-01T02:38:04.698Z"
   },
   {
    "duration": 18,
    "start_time": "2024-11-01T02:38:04.707Z"
   },
   {
    "duration": 6,
    "start_time": "2024-11-01T02:38:04.727Z"
   },
   {
    "duration": 8,
    "start_time": "2024-11-01T02:38:04.734Z"
   },
   {
    "duration": 5,
    "start_time": "2024-11-01T02:38:04.745Z"
   },
   {
    "duration": 31,
    "start_time": "2024-11-01T02:38:04.751Z"
   },
   {
    "duration": 46,
    "start_time": "2024-11-01T02:38:04.784Z"
   },
   {
    "duration": 30,
    "start_time": "2024-11-01T02:38:04.832Z"
   },
   {
    "duration": 14,
    "start_time": "2024-11-01T02:38:04.865Z"
   },
   {
    "duration": 5,
    "start_time": "2024-11-01T02:38:04.881Z"
   },
   {
    "duration": 66,
    "start_time": "2024-11-01T02:38:04.888Z"
   },
   {
    "duration": 16,
    "start_time": "2024-11-01T02:38:04.956Z"
   },
   {
    "duration": 8,
    "start_time": "2024-11-01T02:38:04.973Z"
   },
   {
    "duration": 365,
    "start_time": "2024-11-01T02:38:04.983Z"
   },
   {
    "duration": 10,
    "start_time": "2024-11-01T02:38:05.350Z"
   },
   {
    "duration": 0,
    "start_time": "2024-11-01T02:38:05.362Z"
   },
   {
    "duration": 118,
    "start_time": "2024-11-01T02:38:48.201Z"
   },
   {
    "duration": 122,
    "start_time": "2024-11-01T02:40:27.222Z"
   },
   {
    "duration": 160,
    "start_time": "2024-11-01T02:44:58.117Z"
   },
   {
    "duration": 147,
    "start_time": "2024-11-01T02:46:19.931Z"
   },
   {
    "duration": 144,
    "start_time": "2024-11-01T02:46:29.938Z"
   },
   {
    "duration": 123,
    "start_time": "2024-11-01T02:49:55.903Z"
   },
   {
    "duration": 115,
    "start_time": "2024-11-01T02:52:21.359Z"
   },
   {
    "duration": 154,
    "start_time": "2024-11-01T02:52:33.819Z"
   },
   {
    "duration": 148,
    "start_time": "2024-11-01T02:52:54.828Z"
   },
   {
    "duration": 300,
    "start_time": "2024-11-01T02:53:07.213Z"
   },
   {
    "duration": 910,
    "start_time": "2024-11-01T02:53:07.515Z"
   },
   {
    "duration": 20,
    "start_time": "2024-11-01T02:53:08.426Z"
   },
   {
    "duration": 12,
    "start_time": "2024-11-01T02:53:08.449Z"
   },
   {
    "duration": 10,
    "start_time": "2024-11-01T02:53:08.463Z"
   },
   {
    "duration": 10,
    "start_time": "2024-11-01T02:53:08.475Z"
   },
   {
    "duration": 39,
    "start_time": "2024-11-01T02:53:08.487Z"
   },
   {
    "duration": 208,
    "start_time": "2024-11-01T02:53:08.527Z"
   },
   {
    "duration": 26,
    "start_time": "2024-11-01T02:53:08.736Z"
   },
   {
    "duration": 121,
    "start_time": "2024-11-01T02:53:08.765Z"
   },
   {
    "duration": 99,
    "start_time": "2024-11-01T02:53:08.887Z"
   },
   {
    "duration": 40,
    "start_time": "2024-11-01T02:53:08.987Z"
   },
   {
    "duration": 20,
    "start_time": "2024-11-01T02:53:09.029Z"
   },
   {
    "duration": 3,
    "start_time": "2024-11-01T02:53:09.052Z"
   },
   {
    "duration": 19,
    "start_time": "2024-11-01T02:53:09.056Z"
   },
   {
    "duration": 16,
    "start_time": "2024-11-01T02:53:09.076Z"
   },
   {
    "duration": 37,
    "start_time": "2024-11-01T02:53:09.093Z"
   },
   {
    "duration": 4,
    "start_time": "2024-11-01T02:53:09.133Z"
   },
   {
    "duration": 10,
    "start_time": "2024-11-01T02:53:09.139Z"
   },
   {
    "duration": 3,
    "start_time": "2024-11-01T02:53:09.151Z"
   },
   {
    "duration": 852,
    "start_time": "2024-11-01T02:53:09.156Z"
   },
   {
    "duration": 773,
    "start_time": "2024-11-01T02:53:10.010Z"
   },
   {
    "duration": 18,
    "start_time": "2024-11-01T02:53:10.787Z"
   },
   {
    "duration": 4,
    "start_time": "2024-11-01T02:53:10.807Z"
   },
   {
    "duration": 6,
    "start_time": "2024-11-01T02:53:10.823Z"
   },
   {
    "duration": 6,
    "start_time": "2024-11-01T02:53:10.831Z"
   },
   {
    "duration": 9,
    "start_time": "2024-11-01T02:53:10.839Z"
   },
   {
    "duration": 5,
    "start_time": "2024-11-01T02:53:10.852Z"
   },
   {
    "duration": 66,
    "start_time": "2024-11-01T02:53:10.858Z"
   },
   {
    "duration": 19,
    "start_time": "2024-11-01T02:53:10.925Z"
   },
   {
    "duration": 33,
    "start_time": "2024-11-01T02:53:10.945Z"
   },
   {
    "duration": 15,
    "start_time": "2024-11-01T02:53:10.981Z"
   },
   {
    "duration": 6,
    "start_time": "2024-11-01T02:53:11.024Z"
   },
   {
    "duration": 39,
    "start_time": "2024-11-01T02:53:11.032Z"
   },
   {
    "duration": 15,
    "start_time": "2024-11-01T02:53:11.073Z"
   },
   {
    "duration": 34,
    "start_time": "2024-11-01T02:53:11.090Z"
   },
   {
    "duration": 419,
    "start_time": "2024-11-01T02:53:11.127Z"
   },
   {
    "duration": 134,
    "start_time": "2024-11-01T02:53:11.548Z"
   },
   {
    "duration": 441,
    "start_time": "2024-11-01T02:53:11.684Z"
   },
   {
    "duration": 169,
    "start_time": "2024-11-01T02:53:27.806Z"
   },
   {
    "duration": 148,
    "start_time": "2024-11-01T02:53:36.071Z"
   },
   {
    "duration": 17,
    "start_time": "2024-11-01T03:01:45.765Z"
   },
   {
    "duration": 120,
    "start_time": "2024-11-01T03:02:10.580Z"
   },
   {
    "duration": 391,
    "start_time": "2024-11-01T03:04:27.167Z"
   },
   {
    "duration": 147,
    "start_time": "2024-11-01T03:05:09.125Z"
   },
   {
    "duration": 143,
    "start_time": "2024-11-01T03:06:03.652Z"
   },
   {
    "duration": 146,
    "start_time": "2024-11-01T03:06:09.498Z"
   },
   {
    "duration": 143,
    "start_time": "2024-11-01T03:06:15.575Z"
   },
   {
    "duration": 140,
    "start_time": "2024-11-01T03:07:50.633Z"
   },
   {
    "duration": 240,
    "start_time": "2024-11-01T03:09:53.419Z"
   },
   {
    "duration": 221,
    "start_time": "2024-11-01T03:11:30.133Z"
   },
   {
    "duration": 285,
    "start_time": "2024-11-01T03:12:00.995Z"
   },
   {
    "duration": 220,
    "start_time": "2024-11-01T03:12:23.532Z"
   },
   {
    "duration": 225,
    "start_time": "2024-11-01T03:12:46.388Z"
   },
   {
    "duration": 224,
    "start_time": "2024-11-01T03:12:58.517Z"
   },
   {
    "duration": 209,
    "start_time": "2024-11-01T03:13:08.492Z"
   },
   {
    "duration": 288,
    "start_time": "2024-11-01T03:13:19.585Z"
   },
   {
    "duration": 322,
    "start_time": "2024-11-01T03:22:46.574Z"
   },
   {
    "duration": 155,
    "start_time": "2024-11-01T03:23:23.961Z"
   },
   {
    "duration": 162,
    "start_time": "2024-11-01T03:24:13.618Z"
   },
   {
    "duration": 161,
    "start_time": "2024-11-01T03:24:20.567Z"
   },
   {
    "duration": 163,
    "start_time": "2024-11-01T03:24:54.970Z"
   },
   {
    "duration": 165,
    "start_time": "2024-11-01T03:25:35.696Z"
   },
   {
    "duration": 163,
    "start_time": "2024-11-01T03:25:41.007Z"
   },
   {
    "duration": 235,
    "start_time": "2024-11-01T03:25:51.162Z"
   },
   {
    "duration": 5,
    "start_time": "2024-11-01T03:30:14.953Z"
   },
   {
    "duration": 324,
    "start_time": "2024-11-01T03:30:24.277Z"
   },
   {
    "duration": 8,
    "start_time": "2024-11-01T03:31:00.284Z"
   },
   {
    "duration": 8,
    "start_time": "2024-11-01T03:31:13.411Z"
   },
   {
    "duration": 4,
    "start_time": "2024-11-01T03:33:17.133Z"
   },
   {
    "duration": 41,
    "start_time": "2024-11-01T03:33:23.215Z"
   },
   {
    "duration": 183,
    "start_time": "2024-11-01T03:34:58.826Z"
   },
   {
    "duration": 281,
    "start_time": "2024-11-01T03:39:32.837Z"
   },
   {
    "duration": 287,
    "start_time": "2024-11-01T03:41:17.079Z"
   },
   {
    "duration": 934,
    "start_time": "2024-11-01T03:41:17.368Z"
   },
   {
    "duration": 28,
    "start_time": "2024-11-01T03:41:18.303Z"
   },
   {
    "duration": 13,
    "start_time": "2024-11-01T03:41:18.333Z"
   },
   {
    "duration": 10,
    "start_time": "2024-11-01T03:41:18.348Z"
   },
   {
    "duration": 11,
    "start_time": "2024-11-01T03:41:18.360Z"
   },
   {
    "duration": 9,
    "start_time": "2024-11-01T03:41:18.373Z"
   },
   {
    "duration": 233,
    "start_time": "2024-11-01T03:41:18.384Z"
   },
   {
    "duration": 20,
    "start_time": "2024-11-01T03:41:18.624Z"
   },
   {
    "duration": 114,
    "start_time": "2024-11-01T03:41:18.648Z"
   },
   {
    "duration": 101,
    "start_time": "2024-11-01T03:41:18.764Z"
   },
   {
    "duration": 31,
    "start_time": "2024-11-01T03:41:18.867Z"
   },
   {
    "duration": 37,
    "start_time": "2024-11-01T03:41:18.901Z"
   },
   {
    "duration": 3,
    "start_time": "2024-11-01T03:41:18.939Z"
   },
   {
    "duration": 19,
    "start_time": "2024-11-01T03:41:18.944Z"
   },
   {
    "duration": 15,
    "start_time": "2024-11-01T03:41:18.964Z"
   },
   {
    "duration": 10,
    "start_time": "2024-11-01T03:41:18.981Z"
   },
   {
    "duration": 34,
    "start_time": "2024-11-01T03:41:18.992Z"
   },
   {
    "duration": 10,
    "start_time": "2024-11-01T03:41:19.028Z"
   },
   {
    "duration": 3,
    "start_time": "2024-11-01T03:41:19.040Z"
   },
   {
    "duration": 802,
    "start_time": "2024-11-01T03:41:19.045Z"
   },
   {
    "duration": 698,
    "start_time": "2024-11-01T03:41:19.849Z"
   },
   {
    "duration": 16,
    "start_time": "2024-11-01T03:41:20.548Z"
   },
   {
    "duration": 4,
    "start_time": "2024-11-01T03:41:20.566Z"
   },
   {
    "duration": 4,
    "start_time": "2024-11-01T03:41:20.572Z"
   },
   {
    "duration": 5,
    "start_time": "2024-11-01T03:41:20.578Z"
   },
   {
    "duration": 42,
    "start_time": "2024-11-01T03:41:20.585Z"
   },
   {
    "duration": 5,
    "start_time": "2024-11-01T03:41:20.630Z"
   },
   {
    "duration": 30,
    "start_time": "2024-11-01T03:41:20.636Z"
   },
   {
    "duration": 17,
    "start_time": "2024-11-01T03:41:20.668Z"
   },
   {
    "duration": 55,
    "start_time": "2024-11-01T03:41:20.686Z"
   },
   {
    "duration": 14,
    "start_time": "2024-11-01T03:41:20.743Z"
   },
   {
    "duration": 6,
    "start_time": "2024-11-01T03:41:20.759Z"
   },
   {
    "duration": 37,
    "start_time": "2024-11-01T03:41:20.766Z"
   },
   {
    "duration": 16,
    "start_time": "2024-11-01T03:41:20.824Z"
   },
   {
    "duration": 9,
    "start_time": "2024-11-01T03:41:20.841Z"
   },
   {
    "duration": 376,
    "start_time": "2024-11-01T03:41:20.852Z"
   },
   {
    "duration": 125,
    "start_time": "2024-11-01T03:41:21.230Z"
   },
   {
    "duration": 155,
    "start_time": "2024-11-01T03:41:21.357Z"
   },
   {
    "duration": 174,
    "start_time": "2024-11-01T03:41:21.514Z"
   },
   {
    "duration": 171,
    "start_time": "2024-11-01T03:41:21.690Z"
   },
   {
    "duration": 243,
    "start_time": "2024-11-01T03:41:21.863Z"
   },
   {
    "duration": 308,
    "start_time": "2024-11-01T03:41:22.108Z"
   },
   {
    "duration": 341,
    "start_time": "2024-11-01T03:42:27.172Z"
   },
   {
    "duration": 293,
    "start_time": "2024-11-01T03:45:11.388Z"
   },
   {
    "duration": 285,
    "start_time": "2024-11-01T03:46:08.452Z"
   },
   {
    "duration": 307,
    "start_time": "2024-11-01T03:46:23.725Z"
   },
   {
    "duration": 229,
    "start_time": "2024-11-01T03:46:40.578Z"
   },
   {
    "duration": 349,
    "start_time": "2024-11-01T03:46:52.425Z"
   },
   {
    "duration": 55,
    "start_time": "2024-11-01T03:47:00.219Z"
   },
   {
    "duration": 302,
    "start_time": "2024-11-01T03:47:29.680Z"
   },
   {
    "duration": 293,
    "start_time": "2024-11-01T03:47:38.892Z"
   },
   {
    "duration": 307,
    "start_time": "2024-11-01T03:48:03.543Z"
   },
   {
    "duration": 4,
    "start_time": "2024-11-01T03:51:25.572Z"
   },
   {
    "duration": 167,
    "start_time": "2024-11-01T03:51:36.148Z"
   },
   {
    "duration": 162,
    "start_time": "2024-11-01T03:52:00.521Z"
   },
   {
    "duration": 228,
    "start_time": "2024-11-01T03:52:09.003Z"
   },
   {
    "duration": 168,
    "start_time": "2024-11-01T03:53:39.202Z"
   },
   {
    "duration": 164,
    "start_time": "2024-11-01T04:02:10.630Z"
   },
   {
    "duration": 163,
    "start_time": "2024-11-01T04:04:36.151Z"
   },
   {
    "duration": 37,
    "start_time": "2024-11-01T04:06:09.075Z"
   },
   {
    "duration": 160,
    "start_time": "2024-11-01T04:06:26.515Z"
   },
   {
    "duration": 5,
    "start_time": "2024-11-01T04:06:42.199Z"
   },
   {
    "duration": 4,
    "start_time": "2024-11-01T04:07:03.459Z"
   },
   {
    "duration": 5,
    "start_time": "2024-11-01T04:07:07.497Z"
   },
   {
    "duration": 5,
    "start_time": "2024-11-01T04:07:27.238Z"
   },
   {
    "duration": 5,
    "start_time": "2024-11-01T04:07:33.948Z"
   },
   {
    "duration": 7,
    "start_time": "2024-11-01T04:08:09.202Z"
   },
   {
    "duration": 293,
    "start_time": "2024-11-01T04:40:53.120Z"
   },
   {
    "duration": 882,
    "start_time": "2024-11-01T04:40:53.415Z"
   },
   {
    "duration": 26,
    "start_time": "2024-11-01T04:40:54.299Z"
   },
   {
    "duration": 12,
    "start_time": "2024-11-01T04:40:54.327Z"
   },
   {
    "duration": 10,
    "start_time": "2024-11-01T04:40:54.341Z"
   },
   {
    "duration": 11,
    "start_time": "2024-11-01T04:40:54.353Z"
   },
   {
    "duration": 10,
    "start_time": "2024-11-01T04:40:54.365Z"
   },
   {
    "duration": 238,
    "start_time": "2024-11-01T04:40:54.377Z"
   },
   {
    "duration": 28,
    "start_time": "2024-11-01T04:40:54.617Z"
   },
   {
    "duration": 113,
    "start_time": "2024-11-01T04:40:54.646Z"
   },
   {
    "duration": 101,
    "start_time": "2024-11-01T04:40:54.761Z"
   },
   {
    "duration": 29,
    "start_time": "2024-11-01T04:40:54.864Z"
   },
   {
    "duration": 33,
    "start_time": "2024-11-01T04:40:54.895Z"
   },
   {
    "duration": 3,
    "start_time": "2024-11-01T04:40:54.932Z"
   },
   {
    "duration": 19,
    "start_time": "2024-11-01T04:40:54.937Z"
   },
   {
    "duration": 16,
    "start_time": "2024-11-01T04:40:54.957Z"
   },
   {
    "duration": 9,
    "start_time": "2024-11-01T04:40:54.974Z"
   },
   {
    "duration": 40,
    "start_time": "2024-11-01T04:40:54.985Z"
   },
   {
    "duration": 10,
    "start_time": "2024-11-01T04:40:55.027Z"
   },
   {
    "duration": 4,
    "start_time": "2024-11-01T04:40:55.038Z"
   },
   {
    "duration": 809,
    "start_time": "2024-11-01T04:40:55.043Z"
   },
   {
    "duration": 678,
    "start_time": "2024-11-01T04:40:55.853Z"
   },
   {
    "duration": 18,
    "start_time": "2024-11-01T04:40:56.533Z"
   },
   {
    "duration": 4,
    "start_time": "2024-11-01T04:40:56.552Z"
   },
   {
    "duration": 4,
    "start_time": "2024-11-01T04:40:56.558Z"
   },
   {
    "duration": 7,
    "start_time": "2024-11-01T04:40:56.564Z"
   },
   {
    "duration": 8,
    "start_time": "2024-11-01T04:40:56.573Z"
   },
   {
    "duration": 5,
    "start_time": "2024-11-01T04:40:56.582Z"
   },
   {
    "duration": 31,
    "start_time": "2024-11-01T04:40:56.625Z"
   },
   {
    "duration": 17,
    "start_time": "2024-11-01T04:40:56.658Z"
   },
   {
    "duration": 48,
    "start_time": "2024-11-01T04:40:56.677Z"
   },
   {
    "duration": 14,
    "start_time": "2024-11-01T04:40:56.727Z"
   },
   {
    "duration": 6,
    "start_time": "2024-11-01T04:40:56.743Z"
   },
   {
    "duration": 39,
    "start_time": "2024-11-01T04:40:56.750Z"
   },
   {
    "duration": 40,
    "start_time": "2024-11-01T04:40:56.791Z"
   },
   {
    "duration": 9,
    "start_time": "2024-11-01T04:40:56.833Z"
   },
   {
    "duration": 364,
    "start_time": "2024-11-01T04:40:56.844Z"
   },
   {
    "duration": 125,
    "start_time": "2024-11-01T04:40:57.209Z"
   },
   {
    "duration": 159,
    "start_time": "2024-11-01T04:40:57.336Z"
   },
   {
    "duration": 189,
    "start_time": "2024-11-01T04:40:57.497Z"
   },
   {
    "duration": 176,
    "start_time": "2024-11-01T04:40:57.691Z"
   },
   {
    "duration": 232,
    "start_time": "2024-11-01T04:40:57.869Z"
   },
   {
    "duration": 187,
    "start_time": "2024-11-01T04:40:58.102Z"
   },
   {
    "duration": 7,
    "start_time": "2024-11-01T04:40:58.291Z"
   },
   {
    "duration": 3,
    "start_time": "2024-11-01T04:40:58.299Z"
   },
   {
    "duration": 3,
    "start_time": "2024-11-01T04:40:58.303Z"
   },
   {
    "duration": 527,
    "start_time": "2024-11-01T04:40:58.325Z"
   },
   {
    "duration": 271,
    "start_time": "2024-11-01T04:44:13.671Z"
   },
   {
    "duration": 481,
    "start_time": "2024-11-01T04:51:36.804Z"
   },
   {
    "duration": 203,
    "start_time": "2024-11-01T04:52:25.441Z"
   },
   {
    "duration": 116,
    "start_time": "2024-11-01T04:52:42.049Z"
   },
   {
    "duration": 122,
    "start_time": "2024-11-01T04:53:37.114Z"
   },
   {
    "duration": 116,
    "start_time": "2024-11-01T04:53:53.737Z"
   },
   {
    "duration": 90,
    "start_time": "2024-11-01T04:56:00.312Z"
   },
   {
    "duration": 92,
    "start_time": "2024-11-01T04:56:50.120Z"
   },
   {
    "duration": 116,
    "start_time": "2024-11-01T04:58:17.471Z"
   },
   {
    "duration": 111,
    "start_time": "2024-11-01T04:58:37.674Z"
   },
   {
    "duration": 165,
    "start_time": "2024-11-01T18:09:20.356Z"
   },
   {
    "duration": 344,
    "start_time": "2024-11-01T18:09:47.057Z"
   },
   {
    "duration": 1035,
    "start_time": "2024-11-01T18:09:47.403Z"
   },
   {
    "duration": 18,
    "start_time": "2024-11-01T18:09:48.441Z"
   },
   {
    "duration": 14,
    "start_time": "2024-11-01T18:09:48.461Z"
   },
   {
    "duration": 10,
    "start_time": "2024-11-01T18:09:48.477Z"
   },
   {
    "duration": 43,
    "start_time": "2024-11-01T18:09:48.489Z"
   },
   {
    "duration": 13,
    "start_time": "2024-11-01T18:09:48.533Z"
   },
   {
    "duration": 224,
    "start_time": "2024-11-01T18:09:48.548Z"
   },
   {
    "duration": 21,
    "start_time": "2024-11-01T18:09:48.773Z"
   },
   {
    "duration": 121,
    "start_time": "2024-11-01T18:09:48.798Z"
   },
   {
    "duration": 121,
    "start_time": "2024-11-01T18:09:48.921Z"
   },
   {
    "duration": 34,
    "start_time": "2024-11-01T18:09:49.043Z"
   },
   {
    "duration": 53,
    "start_time": "2024-11-01T18:09:49.079Z"
   },
   {
    "duration": 3,
    "start_time": "2024-11-01T18:09:49.134Z"
   },
   {
    "duration": 20,
    "start_time": "2024-11-01T18:09:49.138Z"
   },
   {
    "duration": 14,
    "start_time": "2024-11-01T18:09:49.160Z"
   },
   {
    "duration": 9,
    "start_time": "2024-11-01T18:09:49.177Z"
   },
   {
    "duration": 5,
    "start_time": "2024-11-01T18:09:49.188Z"
   },
   {
    "duration": 48,
    "start_time": "2024-11-01T18:09:49.194Z"
   },
   {
    "duration": 3,
    "start_time": "2024-11-01T18:09:49.244Z"
   },
   {
    "duration": 851,
    "start_time": "2024-11-01T18:09:49.249Z"
   },
   {
    "duration": 724,
    "start_time": "2024-11-01T18:09:50.102Z"
   },
   {
    "duration": 18,
    "start_time": "2024-11-01T18:09:50.827Z"
   },
   {
    "duration": 4,
    "start_time": "2024-11-01T18:09:50.846Z"
   },
   {
    "duration": 4,
    "start_time": "2024-11-01T18:09:50.852Z"
   },
   {
    "duration": 5,
    "start_time": "2024-11-01T18:09:50.859Z"
   },
   {
    "duration": 8,
    "start_time": "2024-11-01T18:09:50.866Z"
   },
   {
    "duration": 6,
    "start_time": "2024-11-01T18:09:50.878Z"
   },
   {
    "duration": 74,
    "start_time": "2024-11-01T18:09:50.885Z"
   },
   {
    "duration": 17,
    "start_time": "2024-11-01T18:09:50.961Z"
   },
   {
    "duration": 31,
    "start_time": "2024-11-01T18:09:50.980Z"
   },
   {
    "duration": 32,
    "start_time": "2024-11-01T18:09:51.013Z"
   },
   {
    "duration": 6,
    "start_time": "2024-11-01T18:09:51.047Z"
   },
   {
    "duration": 38,
    "start_time": "2024-11-01T18:09:51.054Z"
   },
   {
    "duration": 40,
    "start_time": "2024-11-01T18:09:51.094Z"
   },
   {
    "duration": 9,
    "start_time": "2024-11-01T18:09:51.135Z"
   },
   {
    "duration": 2091,
    "start_time": "2024-11-01T18:09:51.146Z"
   },
   {
    "duration": 131,
    "start_time": "2024-11-01T18:09:53.240Z"
   },
   {
    "duration": 211,
    "start_time": "2024-11-01T18:09:53.373Z"
   },
   {
    "duration": 169,
    "start_time": "2024-11-01T18:09:53.586Z"
   },
   {
    "duration": 175,
    "start_time": "2024-11-01T18:09:53.757Z"
   },
   {
    "duration": 234,
    "start_time": "2024-11-01T18:09:53.933Z"
   },
   {
    "duration": 183,
    "start_time": "2024-11-01T18:09:54.169Z"
   },
   {
    "duration": 7,
    "start_time": "2024-11-01T18:09:54.354Z"
   },
   {
    "duration": 3,
    "start_time": "2024-11-01T18:09:54.363Z"
   },
   {
    "duration": 119,
    "start_time": "2024-11-01T18:09:54.367Z"
   },
   {
    "duration": 95,
    "start_time": "2024-11-01T18:19:39.147Z"
   },
   {
    "duration": 93,
    "start_time": "2024-11-01T18:20:17.332Z"
   },
   {
    "duration": 97,
    "start_time": "2024-11-01T18:20:25.000Z"
   },
   {
    "duration": 97,
    "start_time": "2024-11-01T18:20:32.310Z"
   },
   {
    "duration": 107,
    "start_time": "2024-11-01T18:21:09.462Z"
   },
   {
    "duration": 95,
    "start_time": "2024-11-01T18:21:56.936Z"
   },
   {
    "duration": 717,
    "start_time": "2024-11-01T18:22:49.804Z"
   },
   {
    "duration": 95,
    "start_time": "2024-11-01T18:23:06.912Z"
   },
   {
    "duration": 91,
    "start_time": "2024-11-01T18:23:17.410Z"
   },
   {
    "duration": 99,
    "start_time": "2024-11-01T18:23:32.848Z"
   },
   {
    "duration": 93,
    "start_time": "2024-11-01T18:23:45.827Z"
   },
   {
    "duration": 99,
    "start_time": "2024-11-01T18:37:07.853Z"
   },
   {
    "duration": 281,
    "start_time": "2024-11-01T18:46:33.535Z"
   },
   {
    "duration": 288,
    "start_time": "2024-11-01T18:46:52.254Z"
   },
   {
    "duration": 292,
    "start_time": "2024-11-01T18:48:48.416Z"
   },
   {
    "duration": 301,
    "start_time": "2024-11-01T18:50:10.397Z"
   },
   {
    "duration": 307,
    "start_time": "2024-11-01T18:51:41.009Z"
   },
   {
    "duration": 312,
    "start_time": "2024-11-01T18:53:11.507Z"
   },
   {
    "duration": 161,
    "start_time": "2024-11-01T19:08:29.805Z"
   },
   {
    "duration": 107,
    "start_time": "2024-11-01T19:09:06.343Z"
   },
   {
    "duration": 112,
    "start_time": "2024-11-01T19:09:27.175Z"
   },
   {
    "duration": 143,
    "start_time": "2024-11-01T19:12:47.763Z"
   },
   {
    "duration": 101,
    "start_time": "2024-11-01T19:13:07.453Z"
   },
   {
    "duration": 46,
    "start_time": "2024-11-01T19:15:14.295Z"
   },
   {
    "duration": 8,
    "start_time": "2024-11-01T19:16:20.005Z"
   },
   {
    "duration": 54,
    "start_time": "2024-11-01T19:18:03.464Z"
   },
   {
    "duration": 3,
    "start_time": "2024-11-01T19:19:45.194Z"
   },
   {
    "duration": 7,
    "start_time": "2024-11-01T19:20:01.435Z"
   },
   {
    "duration": 26,
    "start_time": "2024-11-01T19:26:28.924Z"
   },
   {
    "duration": 76,
    "start_time": "2024-11-01T19:26:38.520Z"
   },
   {
    "duration": 95,
    "start_time": "2024-11-01T19:27:17.877Z"
   },
   {
    "duration": 77,
    "start_time": "2024-11-01T19:27:27.575Z"
   },
   {
    "duration": 518,
    "start_time": "2024-11-01T19:28:42.787Z"
   },
   {
    "duration": 699,
    "start_time": "2024-11-01T19:29:27.669Z"
   },
   {
    "duration": 77,
    "start_time": "2024-11-01T19:30:04.498Z"
   },
   {
    "duration": 2034,
    "start_time": "2024-11-01T19:30:15.085Z"
   },
   {
    "duration": 2030,
    "start_time": "2024-11-01T19:30:32.101Z"
   },
   {
    "duration": 613,
    "start_time": "2024-11-01T19:30:54.935Z"
   },
   {
    "duration": 627,
    "start_time": "2024-11-01T19:36:22.606Z"
   },
   {
    "duration": 140,
    "start_time": "2024-11-01T19:38:04.202Z"
   },
   {
    "duration": 537,
    "start_time": "2024-11-01T19:38:30.954Z"
   },
   {
    "duration": 541,
    "start_time": "2024-11-01T19:38:43.987Z"
   },
   {
    "duration": 532,
    "start_time": "2024-11-01T19:44:15.684Z"
   },
   {
    "duration": 161,
    "start_time": "2024-11-01T19:44:55.441Z"
   },
   {
    "duration": 526,
    "start_time": "2024-11-01T19:45:57.169Z"
   },
   {
    "duration": 168,
    "start_time": "2024-11-01T19:46:55.980Z"
   },
   {
    "duration": 145,
    "start_time": "2024-11-01T19:47:18.370Z"
   },
   {
    "duration": 132,
    "start_time": "2024-11-01T19:47:39.380Z"
   },
   {
    "duration": 289,
    "start_time": "2024-11-01T19:54:44.013Z"
   },
   {
    "duration": 405,
    "start_time": "2024-11-01T19:59:21.949Z"
   },
   {
    "duration": 301,
    "start_time": "2024-11-02T17:34:36.188Z"
   },
   {
    "duration": 986,
    "start_time": "2024-11-02T17:34:36.491Z"
   },
   {
    "duration": 19,
    "start_time": "2024-11-02T17:34:37.479Z"
   },
   {
    "duration": 22,
    "start_time": "2024-11-02T17:34:37.501Z"
   },
   {
    "duration": 11,
    "start_time": "2024-11-02T17:34:37.525Z"
   },
   {
    "duration": 12,
    "start_time": "2024-11-02T17:34:37.538Z"
   },
   {
    "duration": 10,
    "start_time": "2024-11-02T17:34:37.552Z"
   },
   {
    "duration": 238,
    "start_time": "2024-11-02T17:34:37.564Z"
   },
   {
    "duration": 27,
    "start_time": "2024-11-02T17:34:37.803Z"
   },
   {
    "duration": 114,
    "start_time": "2024-11-02T17:34:37.833Z"
   },
   {
    "duration": 111,
    "start_time": "2024-11-02T17:34:37.949Z"
   },
   {
    "duration": 32,
    "start_time": "2024-11-02T17:34:38.062Z"
   },
   {
    "duration": 33,
    "start_time": "2024-11-02T17:34:38.096Z"
   },
   {
    "duration": 3,
    "start_time": "2024-11-02T17:34:38.131Z"
   },
   {
    "duration": 20,
    "start_time": "2024-11-02T17:34:38.136Z"
   },
   {
    "duration": 16,
    "start_time": "2024-11-02T17:34:38.158Z"
   },
   {
    "duration": 39,
    "start_time": "2024-11-02T17:34:38.176Z"
   },
   {
    "duration": 4,
    "start_time": "2024-11-02T17:34:38.217Z"
   },
   {
    "duration": 10,
    "start_time": "2024-11-02T17:34:38.223Z"
   },
   {
    "duration": 3,
    "start_time": "2024-11-02T17:34:38.235Z"
   },
   {
    "duration": 879,
    "start_time": "2024-11-02T17:34:38.239Z"
   },
   {
    "duration": 745,
    "start_time": "2024-11-02T17:34:39.120Z"
   },
   {
    "duration": 17,
    "start_time": "2024-11-02T17:34:39.867Z"
   },
   {
    "duration": 4,
    "start_time": "2024-11-02T17:34:39.886Z"
   },
   {
    "duration": 22,
    "start_time": "2024-11-02T17:34:39.892Z"
   },
   {
    "duration": 6,
    "start_time": "2024-11-02T17:34:39.916Z"
   },
   {
    "duration": 8,
    "start_time": "2024-11-02T17:34:39.924Z"
   },
   {
    "duration": 5,
    "start_time": "2024-11-02T17:34:39.936Z"
   },
   {
    "duration": 69,
    "start_time": "2024-11-02T17:34:39.943Z"
   },
   {
    "duration": 18,
    "start_time": "2024-11-02T17:34:40.013Z"
   },
   {
    "duration": 29,
    "start_time": "2024-11-02T17:34:40.033Z"
   },
   {
    "duration": 16,
    "start_time": "2024-11-02T17:34:40.064Z"
   },
   {
    "duration": 31,
    "start_time": "2024-11-02T17:34:40.081Z"
   },
   {
    "duration": 40,
    "start_time": "2024-11-02T17:34:40.113Z"
   },
   {
    "duration": 16,
    "start_time": "2024-11-02T17:34:40.155Z"
   },
   {
    "duration": 8,
    "start_time": "2024-11-02T17:34:40.173Z"
   },
   {
    "duration": 2063,
    "start_time": "2024-11-02T17:34:40.183Z"
   },
   {
    "duration": 130,
    "start_time": "2024-11-02T17:34:42.248Z"
   },
   {
    "duration": 167,
    "start_time": "2024-11-02T17:34:42.380Z"
   },
   {
    "duration": 212,
    "start_time": "2024-11-02T17:34:42.549Z"
   },
   {
    "duration": 173,
    "start_time": "2024-11-02T17:34:42.763Z"
   },
   {
    "duration": 231,
    "start_time": "2024-11-02T17:34:42.938Z"
   },
   {
    "duration": 175,
    "start_time": "2024-11-02T17:34:43.171Z"
   },
   {
    "duration": 7,
    "start_time": "2024-11-02T17:34:43.348Z"
   },
   {
    "duration": 2,
    "start_time": "2024-11-02T17:34:43.357Z"
   },
   {
    "duration": 114,
    "start_time": "2024-11-02T17:34:43.360Z"
   },
   {
    "duration": 285,
    "start_time": "2024-11-02T17:34:43.476Z"
   },
   {
    "duration": 169,
    "start_time": "2024-11-02T17:34:43.763Z"
   },
   {
    "duration": 6,
    "start_time": "2024-11-02T17:34:43.934Z"
   },
   {
    "duration": 331,
    "start_time": "2024-11-02T17:34:43.941Z"
   },
   {
    "duration": 0,
    "start_time": "2024-11-02T17:34:44.274Z"
   },
   {
    "duration": 144,
    "start_time": "2024-11-02T17:34:51.991Z"
   },
   {
    "duration": 296,
    "start_time": "2024-11-02T19:01:21.402Z"
   },
   {
    "duration": 967,
    "start_time": "2024-11-02T19:01:21.700Z"
   },
   {
    "duration": 19,
    "start_time": "2024-11-02T19:01:22.669Z"
   },
   {
    "duration": 13,
    "start_time": "2024-11-02T19:01:22.690Z"
   },
   {
    "duration": 10,
    "start_time": "2024-11-02T19:01:22.705Z"
   },
   {
    "duration": 35,
    "start_time": "2024-11-02T19:01:22.717Z"
   },
   {
    "duration": 9,
    "start_time": "2024-11-02T19:01:22.754Z"
   },
   {
    "duration": 215,
    "start_time": "2024-11-02T19:01:22.764Z"
   },
   {
    "duration": 21,
    "start_time": "2024-11-02T19:01:22.981Z"
   },
   {
    "duration": 119,
    "start_time": "2024-11-02T19:01:23.004Z"
   },
   {
    "duration": 95,
    "start_time": "2024-11-02T19:01:23.124Z"
   },
   {
    "duration": 39,
    "start_time": "2024-11-02T19:01:23.221Z"
   },
   {
    "duration": 22,
    "start_time": "2024-11-02T19:01:23.262Z"
   },
   {
    "duration": 4,
    "start_time": "2024-11-02T19:01:23.287Z"
   },
   {
    "duration": 18,
    "start_time": "2024-11-02T19:01:23.292Z"
   },
   {
    "duration": 39,
    "start_time": "2024-11-02T19:01:23.312Z"
   },
   {
    "duration": 10,
    "start_time": "2024-11-02T19:01:23.353Z"
   },
   {
    "duration": 4,
    "start_time": "2024-11-02T19:01:23.364Z"
   },
   {
    "duration": 10,
    "start_time": "2024-11-02T19:01:23.370Z"
   },
   {
    "duration": 2,
    "start_time": "2024-11-02T19:01:23.382Z"
   },
   {
    "duration": 794,
    "start_time": "2024-11-02T19:01:23.386Z"
   },
   {
    "duration": 687,
    "start_time": "2024-11-02T19:01:24.182Z"
   },
   {
    "duration": 18,
    "start_time": "2024-11-02T19:01:24.871Z"
   },
   {
    "duration": 3,
    "start_time": "2024-11-02T19:01:24.892Z"
   },
   {
    "duration": 4,
    "start_time": "2024-11-02T19:01:24.897Z"
   },
   {
    "duration": 5,
    "start_time": "2024-11-02T19:01:24.903Z"
   },
   {
    "duration": 36,
    "start_time": "2024-11-02T19:01:24.910Z"
   },
   {
    "duration": 6,
    "start_time": "2024-11-02T19:01:24.947Z"
   },
   {
    "duration": 30,
    "start_time": "2024-11-02T19:01:24.956Z"
   },
   {
    "duration": 16,
    "start_time": "2024-11-02T19:01:24.988Z"
   },
   {
    "duration": 56,
    "start_time": "2024-11-02T19:01:25.006Z"
   },
   {
    "duration": 14,
    "start_time": "2024-11-02T19:01:25.064Z"
   },
   {
    "duration": 5,
    "start_time": "2024-11-02T19:01:25.080Z"
   },
   {
    "duration": 57,
    "start_time": "2024-11-02T19:01:25.087Z"
   },
   {
    "duration": 16,
    "start_time": "2024-11-02T19:01:25.146Z"
   },
   {
    "duration": 12,
    "start_time": "2024-11-02T19:01:25.164Z"
   },
   {
    "duration": 2037,
    "start_time": "2024-11-02T19:01:25.178Z"
   },
   {
    "duration": 127,
    "start_time": "2024-11-02T19:01:27.217Z"
   },
   {
    "duration": 155,
    "start_time": "2024-11-02T19:01:27.345Z"
   },
   {
    "duration": 176,
    "start_time": "2024-11-02T19:01:27.503Z"
   },
   {
    "duration": 206,
    "start_time": "2024-11-02T19:01:27.684Z"
   },
   {
    "duration": 223,
    "start_time": "2024-11-02T19:01:27.892Z"
   },
   {
    "duration": 173,
    "start_time": "2024-11-02T19:01:28.117Z"
   },
   {
    "duration": 7,
    "start_time": "2024-11-02T19:01:28.292Z"
   },
   {
    "duration": 2,
    "start_time": "2024-11-02T19:01:28.302Z"
   },
   {
    "duration": 127,
    "start_time": "2024-11-02T19:01:28.306Z"
   },
   {
    "duration": 268,
    "start_time": "2024-11-02T19:01:28.434Z"
   },
   {
    "duration": 161,
    "start_time": "2024-11-02T19:01:28.704Z"
   },
   {
    "duration": 5,
    "start_time": "2024-11-02T19:01:28.867Z"
   },
   {
    "duration": 161,
    "start_time": "2024-11-02T19:01:28.874Z"
   },
   {
    "duration": 158,
    "start_time": "2024-11-02T19:01:29.037Z"
   },
   {
    "duration": 189,
    "start_time": "2024-11-02T19:02:04.129Z"
   },
   {
    "duration": 557,
    "start_time": "2024-11-02T19:02:09.186Z"
   },
   {
    "duration": 181,
    "start_time": "2024-11-02T19:02:22.467Z"
   },
   {
    "duration": 161,
    "start_time": "2024-11-02T19:02:41.406Z"
   },
   {
    "duration": 15,
    "start_time": "2024-11-02T19:06:38.797Z"
   },
   {
    "duration": 126,
    "start_time": "2024-11-02T19:06:48.427Z"
   },
   {
    "duration": 133,
    "start_time": "2024-11-02T19:06:54.235Z"
   },
   {
    "duration": 7,
    "start_time": "2024-11-02T19:14:38.666Z"
   },
   {
    "duration": 5,
    "start_time": "2024-11-02T19:14:50.756Z"
   },
   {
    "duration": 147,
    "start_time": "2024-11-02T19:14:59.235Z"
   },
   {
    "duration": 14,
    "start_time": "2024-11-02T19:15:43.591Z"
   },
   {
    "duration": 153,
    "start_time": "2024-11-02T19:15:54.552Z"
   },
   {
    "duration": 4,
    "start_time": "2024-11-02T19:16:48.157Z"
   },
   {
    "duration": 4,
    "start_time": "2024-11-02T19:17:26.836Z"
   },
   {
    "duration": 3,
    "start_time": "2024-11-02T19:17:45.534Z"
   },
   {
    "duration": 4,
    "start_time": "2024-11-02T19:18:22.590Z"
   },
   {
    "duration": 16,
    "start_time": "2024-11-02T19:18:54.635Z"
   },
   {
    "duration": 15,
    "start_time": "2024-11-02T19:20:11.089Z"
   },
   {
    "duration": 134,
    "start_time": "2024-11-02T19:20:56.752Z"
   },
   {
    "duration": 139,
    "start_time": "2024-11-02T19:24:24.049Z"
   },
   {
    "duration": 12,
    "start_time": "2024-11-02T19:24:57.571Z"
   },
   {
    "duration": 7,
    "start_time": "2024-11-02T19:25:09.557Z"
   },
   {
    "duration": 6,
    "start_time": "2024-11-02T19:32:37.759Z"
   },
   {
    "duration": 24,
    "start_time": "2024-11-02T19:38:41.049Z"
   },
   {
    "duration": 19,
    "start_time": "2024-11-02T19:40:17.158Z"
   },
   {
    "duration": 881,
    "start_time": "2024-11-02T19:42:11.754Z"
   },
   {
    "duration": 932,
    "start_time": "2024-11-02T19:43:23.698Z"
   },
   {
    "duration": 11,
    "start_time": "2024-11-02T19:44:01.569Z"
   },
   {
    "duration": 12,
    "start_time": "2024-11-02T19:45:37.673Z"
   },
   {
    "duration": 14,
    "start_time": "2024-11-02T19:45:47.919Z"
   },
   {
    "duration": 12,
    "start_time": "2024-11-02T19:45:56.101Z"
   },
   {
    "duration": 9,
    "start_time": "2024-11-02T19:47:59.613Z"
   },
   {
    "duration": 5,
    "start_time": "2024-11-02T19:52:00.113Z"
   },
   {
    "duration": 2,
    "start_time": "2024-11-02T19:52:20.149Z"
   },
   {
    "duration": 4,
    "start_time": "2024-11-02T19:52:26.162Z"
   },
   {
    "duration": 159,
    "start_time": "2024-11-04T02:38:53.645Z"
   },
   {
    "duration": 300,
    "start_time": "2024-11-04T02:39:06.790Z"
   },
   {
    "duration": 1015,
    "start_time": "2024-11-04T02:39:07.092Z"
   },
   {
    "duration": 19,
    "start_time": "2024-11-04T02:39:08.109Z"
   },
   {
    "duration": 13,
    "start_time": "2024-11-04T02:39:08.130Z"
   },
   {
    "duration": 10,
    "start_time": "2024-11-04T02:39:08.145Z"
   },
   {
    "duration": 11,
    "start_time": "2024-11-04T02:39:08.156Z"
   },
   {
    "duration": 45,
    "start_time": "2024-11-04T02:39:08.168Z"
   },
   {
    "duration": 209,
    "start_time": "2024-11-04T02:39:08.215Z"
   },
   {
    "duration": 28,
    "start_time": "2024-11-04T02:39:08.426Z"
   },
   {
    "duration": 114,
    "start_time": "2024-11-04T02:39:08.458Z"
   },
   {
    "duration": 107,
    "start_time": "2024-11-04T02:39:08.573Z"
   },
   {
    "duration": 33,
    "start_time": "2024-11-04T02:39:08.681Z"
   },
   {
    "duration": 22,
    "start_time": "2024-11-04T02:39:08.716Z"
   },
   {
    "duration": 3,
    "start_time": "2024-11-04T02:39:08.741Z"
   },
   {
    "duration": 18,
    "start_time": "2024-11-04T02:39:08.746Z"
   },
   {
    "duration": 44,
    "start_time": "2024-11-04T02:39:08.766Z"
   },
   {
    "duration": 9,
    "start_time": "2024-11-04T02:39:08.812Z"
   },
   {
    "duration": 10,
    "start_time": "2024-11-04T02:39:08.823Z"
   },
   {
    "duration": 7,
    "start_time": "2024-11-04T02:39:08.834Z"
   },
   {
    "duration": 10,
    "start_time": "2024-11-04T02:39:08.843Z"
   },
   {
    "duration": 3,
    "start_time": "2024-11-04T02:39:08.854Z"
   },
   {
    "duration": 778,
    "start_time": "2024-11-04T02:39:08.860Z"
   },
   {
    "duration": 682,
    "start_time": "2024-11-04T02:39:09.640Z"
   },
   {
    "duration": 17,
    "start_time": "2024-11-04T02:39:10.323Z"
   },
   {
    "duration": 3,
    "start_time": "2024-11-04T02:39:10.342Z"
   },
   {
    "duration": 4,
    "start_time": "2024-11-04T02:39:10.347Z"
   },
   {
    "duration": 5,
    "start_time": "2024-11-04T02:39:10.353Z"
   },
   {
    "duration": 6,
    "start_time": "2024-11-04T02:39:10.364Z"
   },
   {
    "duration": 36,
    "start_time": "2024-11-04T02:39:10.371Z"
   },
   {
    "duration": 29,
    "start_time": "2024-11-04T02:39:10.409Z"
   },
   {
    "duration": 16,
    "start_time": "2024-11-04T02:39:10.440Z"
   },
   {
    "duration": 56,
    "start_time": "2024-11-04T02:39:10.458Z"
   },
   {
    "duration": 14,
    "start_time": "2024-11-04T02:39:10.516Z"
   },
   {
    "duration": 6,
    "start_time": "2024-11-04T02:39:10.532Z"
   },
   {
    "duration": 65,
    "start_time": "2024-11-04T02:39:10.540Z"
   },
   {
    "duration": 17,
    "start_time": "2024-11-04T02:39:10.607Z"
   },
   {
    "duration": 8,
    "start_time": "2024-11-04T02:39:10.626Z"
   },
   {
    "duration": 2049,
    "start_time": "2024-11-04T02:39:10.635Z"
   },
   {
    "duration": 132,
    "start_time": "2024-11-04T02:39:12.686Z"
   },
   {
    "duration": 166,
    "start_time": "2024-11-04T02:39:12.820Z"
   },
   {
    "duration": 178,
    "start_time": "2024-11-04T02:39:12.987Z"
   },
   {
    "duration": 169,
    "start_time": "2024-11-04T02:39:13.167Z"
   },
   {
    "duration": 270,
    "start_time": "2024-11-04T02:39:13.338Z"
   },
   {
    "duration": 179,
    "start_time": "2024-11-04T02:39:13.609Z"
   },
   {
    "duration": 17,
    "start_time": "2024-11-04T02:39:13.790Z"
   },
   {
    "duration": 2,
    "start_time": "2024-11-04T02:39:13.809Z"
   },
   {
    "duration": 118,
    "start_time": "2024-11-04T02:39:13.813Z"
   },
   {
    "duration": 268,
    "start_time": "2024-11-04T02:39:13.932Z"
   },
   {
    "duration": 166,
    "start_time": "2024-11-04T02:39:14.201Z"
   },
   {
    "duration": 5,
    "start_time": "2024-11-04T02:39:14.369Z"
   },
   {
    "duration": 161,
    "start_time": "2024-11-04T02:39:14.376Z"
   },
   {
    "duration": 6,
    "start_time": "2024-11-04T02:39:14.539Z"
   },
   {
    "duration": 5,
    "start_time": "2024-11-04T02:39:14.546Z"
   },
   {
    "duration": 913,
    "start_time": "2024-11-04T02:39:14.553Z"
   },
   {
    "duration": 9,
    "start_time": "2024-11-04T02:39:15.468Z"
   },
   {
    "duration": 168,
    "start_time": "2024-11-04T02:39:15.479Z"
   },
   {
    "duration": 19,
    "start_time": "2024-11-04T02:47:39.854Z"
   },
   {
    "duration": 15,
    "start_time": "2024-11-04T02:52:30.029Z"
   },
   {
    "duration": 16,
    "start_time": "2024-11-04T02:52:45.673Z"
   },
   {
    "duration": 12,
    "start_time": "2024-11-04T02:56:17.860Z"
   },
   {
    "duration": 5,
    "start_time": "2024-11-04T02:59:31.347Z"
   },
   {
    "duration": 570,
    "start_time": "2024-11-04T03:03:20.804Z"
   },
   {
    "duration": 8,
    "start_time": "2024-11-04T03:03:30.454Z"
   },
   {
    "duration": 4,
    "start_time": "2024-11-04T03:05:57.074Z"
   },
   {
    "duration": 28,
    "start_time": "2024-11-04T03:09:44.610Z"
   },
   {
    "duration": 3,
    "start_time": "2024-11-04T03:16:06.574Z"
   },
   {
    "duration": 30,
    "start_time": "2024-11-04T03:17:34.039Z"
   },
   {
    "duration": 37,
    "start_time": "2024-11-04T03:21:26.379Z"
   }
  ],
  "colab": {
   "provenance": []
  },
  "kernelspec": {
   "display_name": "Python 3 (ipykernel)",
   "language": "python",
   "name": "python3"
  },
  "language_info": {
   "codemirror_mode": {
    "name": "ipython",
    "version": 3
   },
   "file_extension": ".py",
   "mimetype": "text/x-python",
   "name": "python",
   "nbconvert_exporter": "python",
   "pygments_lexer": "ipython3",
   "version": "3.9.19"
  },
  "toc": {
   "base_numbering": 1,
   "nav_menu": {},
   "number_sections": true,
   "sideBar": true,
   "skip_h1_title": true,
   "title_cell": "Table of Contents",
   "title_sidebar": "Contents",
   "toc_cell": false,
   "toc_position": {},
   "toc_section_display": true,
   "toc_window_display": false
  },
  "vscode": {
   "interpreter": {
    "hash": "01a7be9ec63e704a62cefc5fe7a4756944464ee731be31632bdf42a4cb4688cf"
   }
  }
 },
 "nbformat": 4,
 "nbformat_minor": 5
}
